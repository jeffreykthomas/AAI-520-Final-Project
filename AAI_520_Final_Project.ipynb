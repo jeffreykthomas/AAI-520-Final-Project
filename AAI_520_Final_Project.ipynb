{
 "nbformat": 4,
 "nbformat_minor": 0,
 "metadata": {
  "colab": {
   "provenance": []
  },
  "kernelspec": {
   "name": "python3",
   "language": "python",
   "display_name": "Python 3 (ipykernel)"
  },
  "language_info": {
   "name": "python"
  }
 },
 "cells": [
  {
   "cell_type": "code",
   "source": [
    "# from google.colab import drive\n",
    "# drive.mount('/content/drive')"
   ],
   "metadata": {
    "colab": {
     "base_uri": "https://localhost:8080/"
    },
    "id": "W2vuXhuxVZ2G",
    "executionInfo": {
     "status": "ok",
     "timestamp": 1695662078901,
     "user_tz": 600,
     "elapsed": 19974,
     "user": {
      "displayName": "Jeffrey Thomas",
      "userId": "00428686483222286344"
     }
    },
    "outputId": "f922773e-d72e-4e1f-895b-c391c5d6951d"
   },
   "execution_count": 1,
   "outputs": [
    {
     "output_type": "stream",
     "name": "stdout",
     "text": [
      "Mounted at /content/drive\n"
     ]
    }
   ]
  },
  {
   "cell_type": "code",
   "execution_count": 293,
   "metadata": {
    "id": "uzJwkEf7f45V",
    "ExecuteTime": {
     "end_time": "2023-10-22T17:10:51.985542567Z",
     "start_time": "2023-10-22T17:10:51.898968304Z"
    }
   },
   "outputs": [],
   "source": [
    "from typing import List, Dict\n",
    "import os\n",
    "import pandas as pd\n",
    "import numpy as np\n",
    "import re\n",
    "import matplotlib.pyplot as plt\n",
    "import seaborn as sns\n",
    "from collections import Counter\n",
    "from nltk.tokenize import word_tokenize\n",
    "\n",
    "import openai\n",
    "\n",
    "from transformers import AutoTokenizer, AutoModelForCausalLM, AdamW, get_cosine_schedule_with_warmup, GPT2Config, GenerationConfig\n",
    "from torch.utils.data import Dataset, DataLoader\n",
    "from torch.nn.utils.rnn import pad_sequence\n",
    "\n",
    "from textblob import TextBlob\n",
    "from nltk import bigrams, trigrams\n",
    "import torch\n",
    "\n",
    "from rouge import Rouge\n",
    "\n",
    "from nltk.translate.bleu_score import sentence_bleu\n",
    "from torch.nn.functional import softmax\n",
    "\n",
    "\n",
    "from peft import AutoPeftModelForCausalLM\n",
    "from datasets import load_dataset, Dataset\n",
    "from transformers import pipeline\n",
    "\n",
    "import warnings\n",
    "warnings.filterwarnings('ignore')\n",
    "from tqdm import tqdm\n",
    "\n",
    "from llama2_finetuning.prepare_data_llama import split_window_and_tokenize as llama_split_window_and_tokenize"
   ]
  },
  {
   "cell_type": "code",
   "source": [
    "# data_folder = '/content/drive/Shareddrives/AAI520-Final-Project/data/'\n",
    "# Or if running locally:\n",
    "data_folder = '../data/ubuntu/'"
   ],
   "metadata": {
    "id": "C8i8jIetnNhe",
    "ExecuteTime": {
     "end_time": "2023-10-21T23:44:59.440983591Z",
     "start_time": "2023-10-21T23:44:59.405870804Z"
    }
   },
   "execution_count": 2,
   "outputs": []
  },
  {
   "cell_type": "code",
   "source": [
    "# Load the data\n",
    "train_df = pd.read_csv(data_folder + 'train.csv')\n",
    "test_df = pd.read_csv(data_folder + 'test.csv')\n",
    "val_df = pd.read_csv(data_folder + 'valid.csv')"
   ],
   "metadata": {
    "id": "YQJywa8bnQeN",
    "ExecuteTime": {
     "end_time": "2023-10-21T23:45:03.887380422Z",
     "start_time": "2023-10-21T23:44:59.409337301Z"
    }
   },
   "execution_count": 3,
   "outputs": []
  },
  {
   "cell_type": "markdown",
   "source": [
    "## Some example code that will need to be adjusted based on the dataset and model we choose"
   ],
   "metadata": {
    "id": "4MohkHjBpKVQ"
   }
  },
  {
   "cell_type": "code",
   "source": [
    "# Explore the data\n",
    "train_df.head()"
   ],
   "metadata": {
    "id": "AhJXMSctnb5Z",
    "ExecuteTime": {
     "end_time": "2023-10-10T21:40:30.185970Z",
     "start_time": "2023-10-10T21:40:30.135949Z"
    }
   },
   "execution_count": 29,
   "outputs": [
    {
     "data": {
      "text/plain": "                                             Context  \\\n0  i think we could import the old comments via r...   \n1  I'm not suggesting all - only the ones you mod...   \n2  afternoon all __eou__ not entirely related to ...   \n3  interesting __eou__ grub-install worked with /...   \n4  and because Python gives Mark a woody __eou__ ...   \n\n                                           Utterance  Label  \n0                 yes. same binary packages. __eou__    1.0  \n1            ok let me try that.. thanks man __eou__    0.0  \n2  http://www.ubuntu.com/download/ -- any mirror ...    0.0  \n3  i fully endorse this suggestion </quimby> __eo...    1.0  \n4            ok if youre DefaultDepth     24 __eou__    0.0  ",
      "text/html": "<div>\n<style scoped>\n    .dataframe tbody tr th:only-of-type {\n        vertical-align: middle;\n    }\n\n    .dataframe tbody tr th {\n        vertical-align: top;\n    }\n\n    .dataframe thead th {\n        text-align: right;\n    }\n</style>\n<table border=\"1\" class=\"dataframe\">\n  <thead>\n    <tr style=\"text-align: right;\">\n      <th></th>\n      <th>Context</th>\n      <th>Utterance</th>\n      <th>Label</th>\n    </tr>\n  </thead>\n  <tbody>\n    <tr>\n      <th>0</th>\n      <td>i think we could import the old comments via r...</td>\n      <td>yes. same binary packages. __eou__</td>\n      <td>1.0</td>\n    </tr>\n    <tr>\n      <th>1</th>\n      <td>I'm not suggesting all - only the ones you mod...</td>\n      <td>ok let me try that.. thanks man __eou__</td>\n      <td>0.0</td>\n    </tr>\n    <tr>\n      <th>2</th>\n      <td>afternoon all __eou__ not entirely related to ...</td>\n      <td>http://www.ubuntu.com/download/ -- any mirror ...</td>\n      <td>0.0</td>\n    </tr>\n    <tr>\n      <th>3</th>\n      <td>interesting __eou__ grub-install worked with /...</td>\n      <td>i fully endorse this suggestion &lt;/quimby&gt; __eo...</td>\n      <td>1.0</td>\n    </tr>\n    <tr>\n      <th>4</th>\n      <td>and because Python gives Mark a woody __eou__ ...</td>\n      <td>ok if youre DefaultDepth     24 __eou__</td>\n      <td>0.0</td>\n    </tr>\n  </tbody>\n</table>\n</div>"
     },
     "execution_count": 29,
     "metadata": {},
     "output_type": "execute_result"
    }
   ]
  },
  {
   "cell_type": "code",
   "execution_count": 4,
   "outputs": [
    {
     "data": {
      "text/plain": "91.82055214723927"
     },
     "execution_count": 4,
     "metadata": {},
     "output_type": "execute_result"
    }
   ],
   "source": [
    "# Find the mean length of ground truth utterances in the validation set\n",
    "val_df['Ground Truth Utterance'].apply(len).mean()"
   ],
   "metadata": {
    "collapsed": false,
    "ExecuteTime": {
     "end_time": "2023-10-05T05:59:20.129183Z",
     "start_time": "2023-10-05T05:59:20.085859Z"
    }
   }
  },
  {
   "cell_type": "code",
   "execution_count": 5,
   "outputs": [
    {
     "data": {
      "text/plain": "Label\n0.0    500500\n1.0    499500\nName: count, dtype: int64"
     },
     "execution_count": 5,
     "metadata": {},
     "output_type": "execute_result"
    }
   ],
   "source": [
    "# Explore the data\n",
    "train_df['Label'].value_counts()"
   ],
   "metadata": {
    "collapsed": false,
    "ExecuteTime": {
     "end_time": "2023-10-03T05:43:09.249802Z",
     "start_time": "2023-10-03T05:43:09.230308Z"
    }
   }
  },
  {
   "cell_type": "code",
   "execution_count": 4,
   "outputs": [
    {
     "data": {
      "text/plain": "<Figure size 1200x600 with 1 Axes>",
      "image/png": "[encoded data removed]"
     },
     "metadata": {},
     "output_type": "display_data"
    }
   ],
   "source": [
    "# Calculate the length of each text entry in the 'Context'\n",
    "train_df['Context_length'] = train_df['Context'].apply(len)\n",
    "\n",
    "# Create visualizations to understand the distribution of text length\n",
    "plt.figure(figsize=(12, 6))\n",
    "\n",
    "# Subplot for 'Context_length'\n",
    "plt.subplot(1, 2, 1)\n",
    "sns.histplot(train_df['Context_length'], bins=50, kde=True)\n",
    "plt.title('Distribution of \"Context\" Text Length')\n",
    "plt.xlabel('Text Length')\n",
    "plt.ylabel('Frequency')\n",
    "\n",
    "plt.tight_layout()\n",
    "plt.show()"
   ],
   "metadata": {
    "collapsed": false,
    "ExecuteTime": {
     "end_time": "2023-10-07T05:28:12.123653Z",
     "start_time": "2023-10-07T05:28:08.811640Z"
    }
   }
  },
  {
   "cell_type": "code",
   "execution_count": 6,
   "outputs": [
    {
     "data": {
      "text/plain": "141718"
     },
     "execution_count": 6,
     "metadata": {},
     "output_type": "execute_result"
    }
   ],
   "source": [
    "# Calculate the number of contexts longer than 768 in train_df\n",
    "long_contexts = train_df[train_df['Context_length'] > 768]\n",
    "len(long_contexts)"
   ],
   "metadata": {
    "collapsed": false,
    "ExecuteTime": {
     "end_time": "2023-10-07T05:28:56.687094Z",
     "start_time": "2023-10-07T05:28:56.647980Z"
    }
   }
  },
  {
   "cell_type": "code",
   "execution_count": 24,
   "outputs": [
    {
     "data": {
      "text/plain": "<Figure size 1400x600 with 1 Axes>",
      "image/png": "[encoded data removed]"
     },
     "metadata": {},
     "output_type": "display_data"
    }
   ],
   "source": [
    "# Tokenize the words in 'Context' \n",
    "context_words = ' '.join(train_df['Context']).lower()\n",
    "context_tokens = word_tokenize(context_words)\n",
    "\n",
    "# Filter out the end-of-utterance and end-of-turn tokens\n",
    "filtered_tokens = [token for token in context_tokens if token not in ['__eou__', '__eot__']]\n",
    "\n",
    "# Filter out punctuation\n",
    "filtered_tokens = [token for token in filtered_tokens if re.match(r'[^\\W\\d]*$', token)]\n",
    "\n",
    "# Count the frequency of each word\n",
    "context_word_freq = Counter(filtered_tokens)\n",
    "\n",
    "# Get the 20 most common words in 'Context' \n",
    "common_words_context = context_word_freq.most_common(20)\n",
    "\n",
    "# Create plots for the most common words\n",
    "plt.figure(figsize=(14, 6))\n",
    "\n",
    "# Subplot for 'Context'\n",
    "sns.barplot(x=[count for word, count in common_words_context], y=[word for word, count in common_words_context])\n",
    "plt.title('Most Common Words in \"Context\"')\n",
    "plt.xlabel('Frequency')\n",
    "plt.ylabel('Word')\n",
    "\n",
    "plt.tight_layout()\n",
    "plt.show()"
   ],
   "metadata": {
    "collapsed": false,
    "ExecuteTime": {
     "end_time": "2023-09-30T17:26:46.522607Z",
     "start_time": "2023-09-30T17:21:41.048191Z"
    }
   }
  },
  {
   "cell_type": "code",
   "execution_count": 25,
   "outputs": [
    {
     "data": {
      "text/plain": "<Figure size 1400x600 with 1 Axes>",
      "image/png": "[encoded data removed]"
     },
     "metadata": {},
     "output_type": "display_data"
    }
   ],
   "source": [
    "# Convert Counter objects to lists for plotting\n",
    "context_word_freq_list = sorted(context_word_freq.items(), key=lambda x: x[1], reverse=True)\n",
    "\n",
    "# Create subplots\n",
    "plt.figure(figsize=(14, 6))\n",
    "\n",
    "# Subplot for 'Context'\n",
    "plt.bar(range(30), [freq for word, freq in context_word_freq_list[:30]], tick_label=[word for word, freq in context_word_freq_list[:30]])\n",
    "plt.xticks(rotation=90)\n",
    "plt.title('Word Frequency Distribution in \"Context\"')\n",
    "plt.xlabel('Words')\n",
    "plt.ylabel('Frequency')\n",
    "\n",
    "plt.tight_layout()\n",
    "plt.show()"
   ],
   "metadata": {
    "collapsed": false,
    "ExecuteTime": {
     "end_time": "2023-09-30T17:27:48.944130Z",
     "start_time": "2023-09-30T17:27:48.708575Z"
    }
   }
  },
  {
   "cell_type": "code",
   "execution_count": 21,
   "outputs": [
    {
     "data": {
      "text/plain": "<Figure size 1200x600 with 1 Axes>",
      "image/png": "[encoded data removed]"
     },
     "metadata": {},
     "output_type": "display_data"
    }
   ],
   "source": [
    "# Function to get sentiment polarity\n",
    "def get_sentiment(text):\n",
    "    return TextBlob(str(text)).sentiment.polarity\n",
    "\n",
    "# Apply the function to 'Context'\n",
    "train_df['Context_Sentiment'] = train_df['Context'].apply(get_sentiment)\n",
    "\n",
    "# Visualize the sentiment distribution\n",
    "plt.figure(figsize=(12, 6))\n",
    "\n",
    "# plot for 'Context_Sentiment'\n",
    "sns.histplot(train_df['Context_Sentiment'], bins=30, kde=True)\n",
    "plt.title('Sentiment Distribution in \"Context\"')\n",
    "plt.xlabel('Sentiment Polarity')\n",
    "plt.ylabel('Frequency')\n",
    "\n",
    "\n",
    "plt.tight_layout()\n",
    "plt.show()"
   ],
   "metadata": {
    "collapsed": false,
    "ExecuteTime": {
     "end_time": "2023-09-30T17:17:28.066729Z",
     "start_time": "2023-09-30T17:12:32.175349Z"
    }
   }
  },
  {
   "cell_type": "code",
   "execution_count": null,
   "outputs": [],
   "source": [
    "# Calculate and plot the most common bigrams in 'Context'\n",
    "\n",
    "# Get the bigrams\n",
    "context_bigrams = list(bigrams(filtered_tokens))\n",
    "\n",
    "# Count the frequency of each bigram\n",
    "context_bigram_freq = Counter(context_bigrams)\n",
    "\n",
    "# Get the 20 most common bigrams\n",
    "common_bigrams_context = context_bigram_freq.most_common(20)"
   ],
   "metadata": {
    "collapsed": false
   }
  },
  {
   "cell_type": "code",
   "execution_count": 27,
   "outputs": [
    {
     "data": {
      "text/plain": "[(('i', 'have'), 233537),\n (('i', 'do'), 150750),\n (('do', 'i'), 144339),\n (('in', 'the'), 143538),\n (('do', 'you'), 125931),\n (('if', 'you'), 119456),\n (('i', 'can'), 117203),\n (('want', 'to'), 112666),\n (('you', 'can'), 112541),\n (('but', 'i'), 112056),\n (('how', 'do'), 110488),\n (('can', 'i'), 108379),\n (('on', 'the'), 107136),\n (('need', 'to'), 105134),\n (('when', 'i'), 101484),\n (('is', 'there'), 99458),\n (('it', 'is'), 98980),\n (('how', 'to'), 98422),\n (('you', 'have'), 97424),\n (('have', 'a'), 97386)]"
     },
     "execution_count": 27,
     "metadata": {},
     "output_type": "execute_result"
    }
   ],
   "source": [
    "# Print the most common bigrams\n",
    "common_bigrams_context"
   ],
   "metadata": {
    "collapsed": false,
    "ExecuteTime": {
     "end_time": "2023-09-30T17:29:00.535493Z",
     "start_time": "2023-09-30T17:29:00.493293Z"
    }
   }
  },
  {
   "cell_type": "code",
   "execution_count": 29,
   "outputs": [
    {
     "data": {
      "text/plain": "[(('how', 'do', 'i'), 95206),\n (('how', 'can', 'i'), 62078),\n (('is', 'there', 'a'), 49912),\n (('i', 'want', 'to'), 46792),\n (('i', 'have', 'a'), 46035),\n (('i', 'need', 'to'), 39811),\n (('know', 'how', 'to'), 33235),\n (('you', 'need', 'to'), 32009),\n (('do', 'you', 'have'), 30818),\n (('you', 'want', 'to'), 28741),\n (('i', 'have', 'to'), 27021),\n (('i', 'do', 'know'), 26824),\n (('be', 'able', 'to'), 25702),\n (('a', 'way', 'to'), 25107),\n (('what', 'is', 'the'), 24627),\n (('there', 'a', 'way'), 22579),\n (('does', 'anyone', 'know'), 22424),\n (('what', 'do', 'you'), 21995),\n (('you', 'have', 'to'), 20784),\n (('i', 'trying', 'to'), 20595)]"
     },
     "execution_count": 29,
     "metadata": {},
     "output_type": "execute_result"
    }
   ],
   "source": [
    "# Find and print the most common tri-gams in 'Context'\n",
    "\n",
    "# Get the tri-grams\n",
    "context_trigrams = list(trigrams(filtered_tokens))\n",
    "\n",
    "# Count the frequency of each tri-gram\n",
    "context_trigram_freq = Counter(context_trigrams)\n",
    "\n",
    "# Get the 20 most common tri-grams\n",
    "common_trigrams_context = context_trigram_freq.most_common(20)\n",
    "common_trigrams_context"
   ],
   "metadata": {
    "collapsed": false,
    "ExecuteTime": {
     "end_time": "2023-09-30T17:30:46.798950Z",
     "start_time": "2023-09-30T17:30:22.572710Z"
    }
   }
  },
  {
   "cell_type": "code",
   "execution_count": 31,
   "outputs": [
    {
     "data": {
      "text/plain": "                                             Context  \\\n0  anyone knows why my stock oneiric exports env ...   \n1  i set up my hd such that i have to type a pass...   \n2  im trying to use ubuntu on my macbook pro reti...   \n3  no suggestions? __eou__ links? __eou__ how can...   \n4  I just added a second usb printer but not sure...   \n\n                              Ground Truth Utterance  \\\n0  https://bugs.launchpad.net/lightdm/+bug/864109...   \n1  installing from source on ubuntu isn't a great...   \n2                 just wondering how it runs __eou__   \n3  that leads me to the next question lol... i do...   \n4                                   firefox? __eou__   \n\n                                        Distractor_0  \\\n0   12.04 is out now. __eou__  ppa's are commonly...   \n1                                         OK __eou__   \n2  hmm ok by doing apt-get autoremove it removed ...   \n3  I'm not sure, but if you're able to pastbin th...   \n4                           fair enough then __eou__   \n\n                                        Distractor_1  \\\n0  The SMART information is stored in the control...   \n1  Yeah, if you want to claim that. It's kinda co...   \n2                           What's an \"m/c\"? __eou__   \n3  you can adjust it with hdparm __eou__ I recomm...   \n4           was anyone in the \"admin\" group? __eou__   \n\n                                        Distractor_2  \\\n0  its still 12.04 LTS in details shouldnt it be ...   \n1  like for me you could type his<tab>  should au...   \n2  jamezq, under /etc __eou__ thanks __eou__ yes ...   \n3                                 Works here __eou__   \n4                  431? udp syslog is 514... __eou__   \n\n                                        Distractor_3  \\\n0  persist? it is set correctly after boot. but t...   \n1                                     ahh ok __eou__   \n2  yeah seems like a reasonable way to go ^_^ __e...   \n3  What sort of themes do I need to download to u...   \n4                                    not yet __eou__   \n\n                                        Distractor_4  \\\n0                 can i help you in any way? __eou__   \n1  bleurgh .. openvpn instead of ssh :) __eou__ w...   \n2           why do you not already have one? __eou__   \n3                                     thanks __eou__   \n4  ah, I just have to install virtualbox-guest-x1...   \n\n                                        Distractor_5  \\\n0   do you find ia32-libs-multiarch is installed,...   \n1      it's a perl script, just text, right? __eou__   \n2  if you need the data do NOT PUT POWER back on ...   \n3  https://help.ubuntu.com/community/Installation...   \n4  i thought of that but ive looked at one of the...   \n\n                                        Distractor_6  \\\n0  okay, thanks.  I've ended up with an odd situa...   \n1  http://www.noah.org/wiki/Single_User_Mode __eou__   \n2                                         ok __eou__   \n3  I just noticed this package in the repos, so i...   \n4  ok. thanks. i sent him in an email the command...   \n\n                                        Distractor_7  \\\n0                             did that work? __eou__   \n1  heres a easy manual about the setup on Win htt...   \n2  i'd just clean install then. Restore user data...   \n3  wine can detect the CD but I have to manually ...   \n4  there you go, now your name pops up in yellow ...   \n\n                                        Distractor_8  \n0  there is a variable PATH (run \"echo $PATH\") wh...  \n1                       first place I looked __eou__  \n2  backports are a repo you can enable in your pa...  \n3  you could re-encode it with mencoder or ffmpeg...  \n4  if that were the case, they why on earth would...  ",
      "text/html": "<div>\n<style scoped>\n    .dataframe tbody tr th:only-of-type {\n        vertical-align: middle;\n    }\n\n    .dataframe tbody tr th {\n        vertical-align: top;\n    }\n\n    .dataframe thead th {\n        text-align: right;\n    }\n</style>\n<table border=\"1\" class=\"dataframe\">\n  <thead>\n    <tr style=\"text-align: right;\">\n      <th></th>\n      <th>Context</th>\n      <th>Ground Truth Utterance</th>\n      <th>Distractor_0</th>\n      <th>Distractor_1</th>\n      <th>Distractor_2</th>\n      <th>Distractor_3</th>\n      <th>Distractor_4</th>\n      <th>Distractor_5</th>\n      <th>Distractor_6</th>\n      <th>Distractor_7</th>\n      <th>Distractor_8</th>\n    </tr>\n  </thead>\n  <tbody>\n    <tr>\n      <th>0</th>\n      <td>anyone knows why my stock oneiric exports env ...</td>\n      <td>https://bugs.launchpad.net/lightdm/+bug/864109...</td>\n      <td>12.04 is out now. __eou__  ppa's are commonly...</td>\n      <td>The SMART information is stored in the control...</td>\n      <td>its still 12.04 LTS in details shouldnt it be ...</td>\n      <td>persist? it is set correctly after boot. but t...</td>\n      <td>can i help you in any way? __eou__</td>\n      <td>do you find ia32-libs-multiarch is installed,...</td>\n      <td>okay, thanks.  I've ended up with an odd situa...</td>\n      <td>did that work? __eou__</td>\n      <td>there is a variable PATH (run \"echo $PATH\") wh...</td>\n    </tr>\n    <tr>\n      <th>1</th>\n      <td>i set up my hd such that i have to type a pass...</td>\n      <td>installing from source on ubuntu isn't a great...</td>\n      <td>OK __eou__</td>\n      <td>Yeah, if you want to claim that. It's kinda co...</td>\n      <td>like for me you could type his&lt;tab&gt;  should au...</td>\n      <td>ahh ok __eou__</td>\n      <td>bleurgh .. openvpn instead of ssh :) __eou__ w...</td>\n      <td>it's a perl script, just text, right? __eou__</td>\n      <td>http://www.noah.org/wiki/Single_User_Mode __eou__</td>\n      <td>heres a easy manual about the setup on Win htt...</td>\n      <td>first place I looked __eou__</td>\n    </tr>\n    <tr>\n      <th>2</th>\n      <td>im trying to use ubuntu on my macbook pro reti...</td>\n      <td>just wondering how it runs __eou__</td>\n      <td>hmm ok by doing apt-get autoremove it removed ...</td>\n      <td>What's an \"m/c\"? __eou__</td>\n      <td>jamezq, under /etc __eou__ thanks __eou__ yes ...</td>\n      <td>yeah seems like a reasonable way to go ^_^ __e...</td>\n      <td>why do you not already have one? __eou__</td>\n      <td>if you need the data do NOT PUT POWER back on ...</td>\n      <td>ok __eou__</td>\n      <td>i'd just clean install then. Restore user data...</td>\n      <td>backports are a repo you can enable in your pa...</td>\n    </tr>\n    <tr>\n      <th>3</th>\n      <td>no suggestions? __eou__ links? __eou__ how can...</td>\n      <td>that leads me to the next question lol... i do...</td>\n      <td>I'm not sure, but if you're able to pastbin th...</td>\n      <td>you can adjust it with hdparm __eou__ I recomm...</td>\n      <td>Works here __eou__</td>\n      <td>What sort of themes do I need to download to u...</td>\n      <td>thanks __eou__</td>\n      <td>https://help.ubuntu.com/community/Installation...</td>\n      <td>I just noticed this package in the repos, so i...</td>\n      <td>wine can detect the CD but I have to manually ...</td>\n      <td>you could re-encode it with mencoder or ffmpeg...</td>\n    </tr>\n    <tr>\n      <th>4</th>\n      <td>I just added a second usb printer but not sure...</td>\n      <td>firefox? __eou__</td>\n      <td>fair enough then __eou__</td>\n      <td>was anyone in the \"admin\" group? __eou__</td>\n      <td>431? udp syslog is 514... __eou__</td>\n      <td>not yet __eou__</td>\n      <td>ah, I just have to install virtualbox-guest-x1...</td>\n      <td>i thought of that but ive looked at one of the...</td>\n      <td>ok. thanks. i sent him in an email the command...</td>\n      <td>there you go, now your name pops up in yellow ...</td>\n      <td>if that were the case, they why on earth would...</td>\n    </tr>\n  </tbody>\n</table>\n</div>"
     },
     "execution_count": 31,
     "metadata": {},
     "output_type": "execute_result"
    }
   ],
   "source": [
    "# Explore the test data\n",
    "test_df.head()"
   ],
   "metadata": {
    "collapsed": false,
    "ExecuteTime": {
     "end_time": "2023-09-30T17:41:21.356393Z",
     "start_time": "2023-09-30T17:41:21.313859Z"
    }
   }
  },
  {
   "cell_type": "code",
   "execution_count": 30,
   "outputs": [
    {
     "data": {
      "text/plain": "\"i think we could import the old comments via rsync, but from there we need to go via email. I think it is easier than caching the status on each bug and than import bits here and there __eou__ __eot__ it would be very easy to keep a hash db of message-ids  __eou__ sounds good __eou__ __eot__ ok __eou__ perhaps we can ship an ad-hoc apt_prefereces __eou__ __eot__ version? __eou__ __eot__ thanks __eou__ __eot__ not yet __eou__ it is covered by your insurance? __eou__ __eot__ yes __eou__ but it's really not the right time :/ __eou__ with a changing house upcoming in 3 weeks __eou__ __eot__ you will be moving into your house soon? __eou__ posted a message recently which explains what to do if the autoconfiguration does not do what you expect __eou__ __eot__ how urgent is #896? __eou__ __eot__ not particularly urgent, but a policy violation __eou__ __eot__ i agree that we should kill the -novtswitch __eou__ __eot__ ok __eou__ __eot__ would you consider a package split a feature? __eou__ __eot__ context? __eou__ __eot__ splitting xfonts* out of xfree86*. one upload for the rest of the life and that's it __eou__ __eot__ splitting the source package you mean? __eou__ __eot__ \""
     },
     "execution_count": 30,
     "metadata": {},
     "output_type": "execute_result"
    }
   ],
   "source": [
    "train_df['Context'][0]"
   ],
   "metadata": {
    "collapsed": false,
    "ExecuteTime": {
     "end_time": "2023-10-10T21:40:51.288257Z",
     "start_time": "2023-10-10T21:40:51.252479Z"
    }
   }
  },
  {
   "cell_type": "code",
   "execution_count": 4,
   "outputs": [],
   "source": [
    "# Remove whitespace from end of Context and Utterance\n",
    "train_df['Context'] = train_df['Context'].apply(lambda x: x.strip())\n",
    "train_df['Utterance'] = train_df['Utterance'].apply(lambda x: x.strip())"
   ],
   "metadata": {
    "collapsed": false,
    "ExecuteTime": {
     "end_time": "2023-10-12T04:05:49.078678Z",
     "start_time": "2023-10-12T04:05:48.554759Z"
    }
   }
  },
  {
   "cell_type": "code",
   "execution_count": 5,
   "outputs": [],
   "source": [
    "val_df['Context'] = val_df['Context'].apply(lambda x: x.strip())\n",
    "val_df['Ground Truth Utterance'] = val_df['Ground Truth Utterance'].apply(lambda x: x.strip())"
   ],
   "metadata": {
    "collapsed": false,
    "ExecuteTime": {
     "end_time": "2023-10-12T04:05:49.849442Z",
     "start_time": "2023-10-12T04:05:49.843054Z"
    }
   }
  },
  {
   "cell_type": "code",
   "execution_count": 6,
   "outputs": [],
   "source": [
    "test_df['Context'] = test_df['Context'].apply(lambda x: x.strip())\n",
    "test_df['Ground Truth Utterance'] = test_df['Ground Truth Utterance'].apply(lambda x: x.strip())"
   ],
   "metadata": {
    "collapsed": false,
    "ExecuteTime": {
     "end_time": "2023-10-12T04:05:51.143033Z",
     "start_time": "2023-10-12T04:05:51.130454Z"
    }
   }
  },
  {
   "cell_type": "code",
   "execution_count": 7,
   "outputs": [
    {
     "name": "stdout",
     "output_type": "stream",
     "text": [
      "Number of train contexts not ending with __eot__: 0\n",
      "Number of val contexts not ending with __eot__: 0\n",
      "Number of test contexts not ending with __eot__: 0\n"
     ]
    }
   ],
   "source": [
    "# check that the last token of every context is __eot__\n",
    "num_train_context_not_eot = 0\n",
    "for context in train_df['Context']:\n",
    "    if not context.endswith('__eot__'):\n",
    "        num_train_context_not_eot += 1\n",
    "\n",
    "num_val_context_not_eot = 0\n",
    "for context in val_df['Context']:\n",
    "    if not context.endswith('__eot__'):\n",
    "        num_val_context_not_eot += 1\n",
    "        \n",
    "num_test_context_not_eot = 0\n",
    "for context in test_df['Context']:\n",
    "    if not context.endswith('__eot__'):\n",
    "        num_test_context_not_eot += 1\n",
    "        \n",
    "print(\"Number of train contexts not ending with __eot__:\", num_train_context_not_eot)\n",
    "print(\"Number of val contexts not ending with __eot__:\", num_val_context_not_eot)\n",
    "print(\"Number of test contexts not ending with __eot__:\", num_test_context_not_eot)"
   ],
   "metadata": {
    "collapsed": false,
    "ExecuteTime": {
     "end_time": "2023-10-12T04:05:53.019472Z",
     "start_time": "2023-10-12T04:05:52.808301Z"
    }
   }
  },
  {
   "cell_type": "code",
   "execution_count": 8,
   "outputs": [],
   "source": [
    "# Add __eot__ to the end of the Ground Truth Utterance and Utterances\n",
    "train_df['Utterance'] = train_df['Utterance'] + ' __eot__'\n",
    "val_df['Ground Truth Utterance'] = val_df['Ground Truth Utterance'] + ' __eot__'\n",
    "test_df['Ground Truth Utterance'] = test_df['Ground Truth Utterance'] + ' __eot__'"
   ],
   "metadata": {
    "collapsed": false,
    "ExecuteTime": {
     "end_time": "2023-10-12T04:05:54.178318Z",
     "start_time": "2023-10-12T04:05:54.038033Z"
    }
   }
  },
  {
   "cell_type": "code",
   "execution_count": 9,
   "outputs": [
    {
     "name": "stdout",
     "output_type": "stream",
     "text": [
      "Number of train utterances not ending with __eot__: 0\n",
      "Number of val utterances not ending with __eot__: 0\n",
      "Number of test utterances not ending with __eot__: 0\n"
     ]
    }
   ],
   "source": [
    "# check that the last token of every Utterance is __eot__\n",
    "num_train_utterances_not_eot = 0\n",
    "for context in train_df['Utterance']:\n",
    "    if not context.endswith('__eot__'):\n",
    "        num_train_utterances_not_eot += 1\n",
    "\n",
    "num_val_utterances_not_eot = 0\n",
    "for context in val_df['Ground Truth Utterance']:\n",
    "    if not context.endswith('__eot__'):\n",
    "        num_val_utterances_not_eot += 1\n",
    "        \n",
    "num_test_utterances_not_eot = 0\n",
    "for context in test_df['Ground Truth Utterance']:\n",
    "    if not context.endswith('__eot__'):\n",
    "        num_test_utterances_not_eot += 1\n",
    "        \n",
    "print(\"Number of train utterances not ending with __eot__:\", num_train_utterances_not_eot)\n",
    "print(\"Number of val utterances not ending with __eot__:\", num_val_utterances_not_eot)\n",
    "print(\"Number of test utterances not ending with __eot__:\", num_test_utterances_not_eot)"
   ],
   "metadata": {
    "collapsed": false,
    "ExecuteTime": {
     "end_time": "2023-10-12T04:05:55.030292Z",
     "start_time": "2023-10-12T04:05:54.913054Z"
    }
   }
  },
  {
   "cell_type": "code",
   "execution_count": 10,
   "outputs": [],
   "source": [
    "# Create training data for generation, only save data if label = 1\n",
    "train_gen_df = train_df[train_df['Label'] == 1].copy()\n",
    "train_text_context = train_gen_df['Context'].astype(str).tolist()\n",
    "train_text_utterance = train_gen_df['Utterance'].astype(str).tolist()"
   ],
   "metadata": {
    "collapsed": false,
    "ExecuteTime": {
     "end_time": "2023-10-12T04:05:57.459939Z",
     "start_time": "2023-10-12T04:05:57.309516Z"
    }
   }
  },
  {
   "cell_type": "code",
   "execution_count": 11,
   "outputs": [],
   "source": [
    "# Create validation data for generation\n",
    "val_text_context = val_df['Context'].astype(str).tolist()\n",
    "val_text_ground_truth = val_df['Ground Truth Utterance'].astype(str).tolist()\n",
    "\n",
    "# Create test data for generation\n",
    "test_text_context = test_df['Context'].astype(str).tolist()\n",
    "test_text_ground_truth = test_df['Ground Truth Utterance'].astype(str).tolist()"
   ],
   "metadata": {
    "collapsed": false,
    "ExecuteTime": {
     "end_time": "2023-10-12T04:05:58.576158Z",
     "start_time": "2023-10-12T04:05:58.565279Z"
    }
   }
  },
  {
   "cell_type": "code",
   "execution_count": 12,
   "outputs": [
    {
     "data": {
      "text/plain": "\"is there a way to edit menus in hoary? __eou__ I installed k3b and now I have some crappy kde stuff  in the applications menu __eou__ __eot__ there is no way to edit menus in hoary (except compiling kmenuedit from KDE 3.4) __eou__ what is in the menu that you don't want? __eou__ __eot__ the control center for kde __eou__ __eot__ where does that appear, could you give me a screenshot? (we're putting together new KDE packages so may be able to fix it) __eou__ __eot__\""
     },
     "execution_count": 12,
     "metadata": {},
     "output_type": "execute_result"
    }
   ],
   "source": [
    "train_text_context[11230]"
   ],
   "metadata": {
    "collapsed": false,
    "ExecuteTime": {
     "end_time": "2023-10-11T04:19:54.977722Z",
     "start_time": "2023-10-11T04:19:54.951794Z"
    }
   }
  },
  {
   "cell_type": "code",
   "execution_count": 14,
   "outputs": [
    {
     "data": {
      "text/plain": "\"I'll give you a link to the screenshot in a min __eou__ well actually I can't take a screenshot with the applications or any other menu pulled down __eou__ __eot__\""
     },
     "execution_count": 14,
     "metadata": {},
     "output_type": "execute_result"
    }
   ],
   "source": [
    "train_text_utterance[11230]"
   ],
   "metadata": {
    "collapsed": false,
    "ExecuteTime": {
     "end_time": "2023-10-11T17:50:29.898073Z",
     "start_time": "2023-10-11T17:50:29.852382Z"
    }
   }
  },
  {
   "cell_type": "code",
   "execution_count": 14,
   "outputs": [
    {
     "data": {
      "text/plain": "\"does anyone else have a problem that alt-tab stops working and just shakes the icons? I need to click the dock with my mouse to change focus! __eou__ it happens all the time! this is on top of resizing being broken! WTF! __eou__ __eot__ You can force the icons to wiggle? That's really cute. __eou__ Why do you say this __eou__ Get out if you hate Ubuntu __eou__ __eot__ because I'm upset, and eff you __eou__ __eot__\""
     },
     "execution_count": 14,
     "metadata": {},
     "output_type": "execute_result"
    }
   ],
   "source": [
    "val_text_context[234]"
   ],
   "metadata": {
    "collapsed": false,
    "ExecuteTime": {
     "end_time": "2023-10-11T04:19:58.897672Z",
     "start_time": "2023-10-11T04:19:58.871081Z"
    }
   }
  },
  {
   "cell_type": "code",
   "execution_count": 15,
   "outputs": [
    {
     "data": {
      "text/plain": "'Cry me a river, buddy. Use another os. __eou__ __eot__'"
     },
     "execution_count": 15,
     "metadata": {},
     "output_type": "execute_result"
    }
   ],
   "source": [
    "val_text_ground_truth[234]"
   ],
   "metadata": {
    "collapsed": false,
    "ExecuteTime": {
     "end_time": "2023-10-11T04:20:00.526895Z",
     "start_time": "2023-10-11T04:20:00.498401Z"
    }
   }
  },
  {
   "cell_type": "code",
   "execution_count": 16,
   "outputs": [
    {
     "data": {
      "text/plain": "'who can help a linux noob pls? __eou__ __eot__ just ask __eou__ is there a GUI you could use maybe (assuming you have a desktop UI) __eou__ makes sense __eou__ http://www.linuxquestions.org/questions/linux-security-4/how-to-blocking-a-website-with-iptables-603071/ __eou__ __eot__'"
     },
     "execution_count": 16,
     "metadata": {},
     "output_type": "execute_result"
    }
   ],
   "source": [
    "test_text_context[5152]"
   ],
   "metadata": {
    "collapsed": false,
    "ExecuteTime": {
     "end_time": "2023-10-11T04:20:01.890202Z",
     "start_time": "2023-10-11T04:20:01.863812Z"
    }
   }
  },
  {
   "cell_type": "code",
   "execution_count": 17,
   "outputs": [
    {
     "data": {
      "text/plain": "'thanx im gonna check it out, ive already looked on the web but when I put the rules they dont work at all, but im gonna check that site __eou__ __eot__'"
     },
     "execution_count": 17,
     "metadata": {},
     "output_type": "execute_result"
    }
   ],
   "source": [
    "test_text_ground_truth[5152]"
   ],
   "metadata": {
    "collapsed": false,
    "ExecuteTime": {
     "end_time": "2023-10-11T04:20:02.922877Z",
     "start_time": "2023-10-11T04:20:02.895345Z"
    }
   }
  },
  {
   "cell_type": "code",
   "execution_count": 12,
   "outputs": [
    {
     "data": {
      "text/plain": "Downloading (…)okenizer_config.json:   0%|          | 0.00/26.0 [00:00<?, ?B/s]",
      "application/vnd.jupyter.widget-view+json": {
       "version_major": 2,
       "version_minor": 0,
       "model_id": "6de49daf996943c6830cfab776080035"
      }
     },
     "metadata": {},
     "output_type": "display_data"
    },
    {
     "data": {
      "text/plain": "Downloading (…)lve/main/config.json:   0%|          | 0.00/642 [00:00<?, ?B/s]",
      "application/vnd.jupyter.widget-view+json": {
       "version_major": 2,
       "version_minor": 0,
       "model_id": "f67870a1297a441ba23ff5b5ccc68892"
      }
     },
     "metadata": {},
     "output_type": "display_data"
    },
    {
     "data": {
      "text/plain": "Downloading (…)olve/main/vocab.json:   0%|          | 0.00/1.04M [00:00<?, ?B/s]",
      "application/vnd.jupyter.widget-view+json": {
       "version_major": 2,
       "version_minor": 0,
       "model_id": "44276f6ce1f248febf6ad5e7d91432f9"
      }
     },
     "metadata": {},
     "output_type": "display_data"
    },
    {
     "data": {
      "text/plain": "Downloading (…)olve/main/merges.txt:   0%|          | 0.00/456k [00:00<?, ?B/s]",
      "application/vnd.jupyter.widget-view+json": {
       "version_major": 2,
       "version_minor": 0,
       "model_id": "2959860063fc4d80bee3f674f9cf2b32"
      }
     },
     "metadata": {},
     "output_type": "display_data"
    }
   ],
   "source": [
    "tokenizer = AutoTokenizer.from_pretrained('microsoft/DialoGPT-large', padding_side='left')\n",
    "tokenizer.pad_token = tokenizer.eos_token"
   ],
   "metadata": {
    "collapsed": false,
    "ExecuteTime": {
     "end_time": "2023-10-12T04:06:10.713133Z",
     "start_time": "2023-10-12T04:06:08.060914Z"
    }
   }
  },
  {
   "cell_type": "code",
   "execution_count": 85,
   "outputs": [],
   "source": [
    "def add_tokens_to_lists(input_lists, input_ids):\n",
    "    input_lists['input_ids'].append(torch.tensor(input_ids))\n",
    "    input_lists['attention_masks'].append(torch.ones(len(input_ids)))\n",
    "    \n",
    "    return input_lists\n",
    "\n",
    "def get_last_turn(token_ids, eot_id):\n",
    "    # Find the last turn\n",
    "    eot_positions = [pos for pos, token_id in enumerate(token_ids) if token_id == eot_id]\n",
    "    start_of_last_turn_pos = eot_positions[-2] + 1\n",
    "        \n",
    "    return token_ids[:start_of_last_turn_pos], token_ids[start_of_last_turn_pos:]"
   ],
   "metadata": {
    "collapsed": false,
    "ExecuteTime": {
     "end_time": "2023-10-22T05:24:18.435011162Z",
     "start_time": "2023-10-22T05:24:18.319922247Z"
    }
   }
  },
  {
   "cell_type": "code",
   "execution_count": 14,
   "outputs": [
    {
     "name": "stderr",
     "output_type": "stream",
     "text": [
      "Using sep_token, but it is not set yet.\n",
      "Using cls_token, but it is not set yet.\n",
      "Using mask_token, but it is not set yet.\n"
     ]
    },
    {
     "data": {
      "text/plain": "{'bos_token': '<|endoftext|>',\n 'eos_token': '<|endoftext|>',\n 'unk_token': '<|endoftext|>',\n 'pad_token': '<|endoftext|>'}"
     },
     "execution_count": 14,
     "metadata": {},
     "output_type": "execute_result"
    }
   ],
   "source": [
    "tokenizer.special_tokens_map"
   ],
   "metadata": {
    "collapsed": false,
    "ExecuteTime": {
     "end_time": "2023-10-12T04:06:18.147775Z",
     "start_time": "2023-10-12T04:06:18.127175Z"
    }
   }
  },
  {
   "cell_type": "code",
   "execution_count": 88,
   "outputs": [
    {
     "name": "stdout",
     "output_type": "stream",
     "text": [
      "hello how are you <|endoftext|> i'm good <|endoftext|>\n",
      " thats great to hear, i am good too <|endoftext|>\n"
     ]
    }
   ],
   "source": [
    "# test filtering last turn\n",
    "token_ids = tokenizer.encode('hello how are you <|endoftext|> i\\'m good <|endoftext|> thats great to hear, i am good too <|endoftext|>')\n",
    "eot_id = tokenizer.convert_tokens_to_ids('<|endoftext|>')\n",
    "\n",
    "filtered_token_ids, second = get_last_turn(token_ids, eot_id)\n",
    "print(tokenizer.decode(filtered_token_ids))\n",
    "print(tokenizer.decode(second))"
   ],
   "metadata": {
    "collapsed": false,
    "ExecuteTime": {
     "end_time": "2023-10-22T05:24:47.909191585Z",
     "start_time": "2023-10-22T05:24:47.808325883Z"
    }
   }
  },
  {
   "cell_type": "code",
   "execution_count": 16,
   "outputs": [],
   "source": [
    "# Replace all __eot__ strings with <|endoftext|>\n",
    "train_text_context = [text.replace('__eot__', '<|endoftext|>') for text in train_text_context]\n",
    "train_text_utterance = [text.replace('__eot__', '<|endoftext|>') for text in train_text_utterance]\n",
    "val_text_context = [text.replace('__eot__', '<|endoftext|>') for text in val_text_context]\n",
    "val_text_ground_truth = [text.replace('__eot__', '<|endoftext|>') for text in val_text_ground_truth]\n",
    "test_text_context = [text.replace('__eot__', '<|endoftext|>') for text in test_text_context]\n",
    "test_text_ground_truth = [text.replace('__eot__', '<|endoftext|>') for text in test_text_ground_truth]"
   ],
   "metadata": {
    "collapsed": false,
    "ExecuteTime": {
     "end_time": "2023-10-12T04:06:24.708996Z",
     "start_time": "2023-10-12T04:06:24.188763Z"
    }
   }
  },
  {
   "cell_type": "code",
   "execution_count": 17,
   "outputs": [],
   "source": [
    "def split_window_and_tokenize(contexts, utterances, max_length, eot_id, test_set=False):\n",
    "    input_ids_list = []\n",
    "    attention_mask_list = []\n",
    "    lists_of_ids = {\n",
    "        'input_ids': input_ids_list, \n",
    "        'attention_masks': attention_mask_list\n",
    "    }\n",
    "    current_context = 0\n",
    "    \n",
    "    for context, utterance in zip(contexts, utterances):\n",
    "        current_context += 1\n",
    "        if current_context % 1000 == 0:\n",
    "            print(f'\\rProcessing context {current_context} of {len(contexts)}...', end='', flush=True)\n",
    "        # Combine context and utterance, then tokenize\n",
    "        combined_text = context + utterance\n",
    "        \n",
    "        # filter out _eou_ strings\n",
    "        combined_text = combined_text.replace('__eou__', '')\n",
    "        \n",
    "        # tokenize text\n",
    "        token_ids = tokenizer.encode(combined_text)\n",
    " \n",
    "        # find all the eot positions\n",
    "        eot_positions = [pos for pos, token_id in enumerate(token_ids) if token_id == eot_id]\n",
    "        \n",
    "        if len(token_ids) <= max_length:           \n",
    "            # if the sequence is shorter than the max length, just add it, with input being up to the second to last eot\n",
    "            new_input_ids = token_ids.copy()\n",
    "            \n",
    "            lists_of_ids = add_tokens_to_lists(lists_of_ids, new_input_ids)\n",
    "        else:\n",
    "            # if sequence is longer than max length, split into windows\n",
    "            seq_start = 0  # Start index of the current sequence\n",
    "            previous_seq_length = len(token_ids)  # Initialize with the full length\n",
    "\n",
    "            # look at eot_positions to find the last eot that is within the max length\n",
    "            while len(token_ids[seq_start:]) > max_length:\n",
    "                eots_within_limit = [eot_pos for eot_pos in eot_positions if (eot_pos - seq_start) <= (max_length - 1)]\n",
    "                if len(eots_within_limit) > 1:        \n",
    "                    new_input_ids = token_ids[seq_start:eots_within_limit[-1] + 1].copy()\n",
    "                    lists_of_ids = add_tokens_to_lists(lists_of_ids, new_input_ids)\n",
    "                    \n",
    "                    # now set the start of the next sequence to the start of the second turn, and check again\n",
    "                    seq_start = eots_within_limit[0] + 2\n",
    "                    eot_positions = [eot_pos for eot_pos in eot_positions if eot_pos > seq_start]  # Adjust the eot_positions\n",
    "                else:\n",
    "                    # Only proceed if there are remaining EOT positions to consider\n",
    "                    if len(eot_positions) > 1:\n",
    "                        seq_start = eot_positions[0] + 2\n",
    "                        eot_positions = [eot_pos for eot_pos in eot_positions if eot_pos > seq_start]  # Adjust the eot_positions\n",
    "                    else:\n",
    "                        # Not enough EOT positions, break out of the while loop\n",
    "                        print(f'Too few turns left in sequence. Breaking loop. Number of turns: {len(eot_positions)}')\n",
    "                        break\n",
    "                if len(token_ids[seq_start:]) == previous_seq_length:\n",
    "                    print(f'Warning: Loop is not breaking. Previous sequence length: {previous_seq_length}, current sequence length: {len(token_ids[seq_start:])}')\n",
    "                    break\n",
    "                previous_seq_length = len(token_ids[seq_start:])\n",
    "\n",
    "    return lists_of_ids"
   ],
   "metadata": {
    "collapsed": false,
    "ExecuteTime": {
     "end_time": "2023-10-12T04:06:26.535909Z",
     "start_time": "2023-10-12T04:06:26.515887Z"
    }
   }
  },
  {
   "cell_type": "code",
   "execution_count": 18,
   "outputs": [
    {
     "name": "stdout",
     "output_type": "stream",
     "text": [
      "Processing context 23000 of 499500..."
     ]
    },
    {
     "name": "stderr",
     "output_type": "stream",
     "text": [
      "Token indices sequence length is longer than the specified maximum sequence length for this model (1139 > 1024). Running this sequence through the model will result in indexing errors\n"
     ]
    },
    {
     "name": "stdout",
     "output_type": "stream",
     "text": [
      "Processing context 216000 of 499500...Too few turns left in sequence. Breaking loop. Number of turns: 1\n",
      "Processing context 499000 of 499500..."
     ]
    }
   ],
   "source": [
    "max_length = 1024\n",
    "\n",
    "train_list = split_window_and_tokenize(train_text_context, train_text_utterance, max_length, eot_id)"
   ],
   "metadata": {
    "collapsed": false,
    "ExecuteTime": {
     "end_time": "2023-10-12T04:08:37.971869Z",
     "start_time": "2023-10-12T04:06:28.230887Z"
    }
   }
  },
  {
   "cell_type": "code",
   "execution_count": 19,
   "outputs": [
    {
     "name": "stdout",
     "output_type": "stream",
     "text": [
      "Processing context 16000 of 18920...Too few turns left in sequence. Breaking loop. Number of turns: 1\n",
      "Processing context 18000 of 18920..."
     ]
    }
   ],
   "source": [
    "val_list = split_window_and_tokenize(val_text_context, val_text_ground_truth, max_length, eot_id)"
   ],
   "metadata": {
    "collapsed": false,
    "ExecuteTime": {
     "end_time": "2023-10-12T04:10:39.888463Z",
     "start_time": "2023-10-12T04:10:28.254060Z"
    }
   }
  },
  {
   "cell_type": "code",
   "execution_count": null,
   "outputs": [],
   "source": [
    "test_list = split_window_and_tokenize(test_text_context, test_text_ground_truth, max_length, eot_id)"
   ],
   "metadata": {
    "collapsed": false
   }
  },
  {
   "cell_type": "code",
   "execution_count": 20,
   "outputs": [],
   "source": [
    "train_encodings = {\n",
    "    'input_ids': train_list['input_ids'],\n",
    "    'attention_mask': train_list['attention_masks'],\n",
    "}\n",
    "\n",
    "val_encodings = {\n",
    "    'input_ids': val_list['input_ids'],\n",
    "    'attention_mask': val_list['attention_masks']\n",
    "}\n",
    "\n",
    "test_encodings = {\n",
    "    'input_ids': test_list['input_ids'],\n",
    "    'attention_mask': test_list['attention_masks']\n",
    "}"
   ],
   "metadata": {
    "collapsed": false,
    "ExecuteTime": {
     "end_time": "2023-10-12T04:11:10.496881Z",
     "start_time": "2023-10-12T04:11:10.444978Z"
    }
   }
  },
  {
   "cell_type": "code",
   "execution_count": 21,
   "outputs": [
    {
     "name": "stdout",
     "output_type": "stream",
     "text": [
      "hey, anyone tried triple boot with wubi?  anyone tried tripleboot with wubi on a macbook?  <|endoftext|>  wubi + Windows Installer for Ubuntu  <|endoftext|>How do you mean? did you install it next to os x?  <|endoftext|>\n",
      "\n",
      "\n",
      "\n",
      "hi, i'm trying to configure keyboard, but dpkg-reconfigure xserver-xorg does nothing. is that normal?  <|endoftext|> i dont think that is used anymore,  X -configure is the new way  <|endoftext|> what does it do? will it overwrite my xorg.conf?  <|endoftext|> i dont think xorg.conf is used any more in /etc/X11  it creates a file in /home/user  <|endoftext|> thanks! i'll try  <|endoftext|>for more info check out x.org  you have to stop services for gdm and then restart after you reconfigure  <|endoftext|>\n"
     ]
    }
   ],
   "source": [
    "# print a couple of input_ids decoded\n",
    "for input_ids in train_encodings['input_ids'][319449:319451]:\n",
    "    print(tokenizer.decode(input_ids, skip_special_tokens=False))\n",
    "    print('\\n\\n')"
   ],
   "metadata": {
    "collapsed": false,
    "ExecuteTime": {
     "end_time": "2023-10-12T04:11:12.499690Z",
     "start_time": "2023-10-12T04:11:12.483342Z"
    }
   }
  },
  {
   "cell_type": "code",
   "execution_count": 22,
   "outputs": [
    {
     "name": "stdout",
     "output_type": "stream",
     "text": [
      "Max length of input_ids: 1024\n"
     ]
    }
   ],
   "source": [
    "# check max length of input_ids\n",
    "max_len = 0\n",
    "for input_ids in train_encodings['input_ids']:\n",
    "    if len(input_ids) > max_len:\n",
    "        max_len = len(input_ids)\n",
    "        \n",
    "print(\"Max length of input_ids:\", max_len)"
   ],
   "metadata": {
    "collapsed": false,
    "ExecuteTime": {
     "end_time": "2023-10-12T04:11:15.424263Z",
     "start_time": "2023-10-12T04:11:15.125085Z"
    }
   }
  },
  {
   "cell_type": "code",
   "execution_count": 23,
   "outputs": [
    {
     "name": "stdout",
     "output_type": "stream",
     "text": [
      "Is booting with an encrypted disk and btrfs filesystem supported again in 12.04?  <|endoftext|> encrypted /home is, and btrfs is... not sure about together, but i'd assume yes  <|endoftext|>I'll have a try and see. I used to work in ubuntu, then some random changes fibered it.  <|endoftext|>\n",
      "\n",
      "\n",
      "\n",
      "how hard is it to use multiple graphics cards? (I need more screen outputs.) are there any requirements on the graphics cards, or can I pick two arbitrarily? ie. will an ati card work with a nvidia card?  <|endoftext|> ati + nvidia = no go  even only ati is a no-go :')  <|endoftext|>so what is required to use several graphics cards?  <|endoftext|>\n"
     ]
    }
   ],
   "source": [
    "# Print sample of val input_ids\n",
    "for input_ids in val_encodings['input_ids'][200:202]:\n",
    "    print(tokenizer.decode(input_ids, skip_special_tokens=False))\n",
    "    print('\\n\\n')"
   ],
   "metadata": {
    "collapsed": false,
    "ExecuteTime": {
     "end_time": "2023-10-12T04:11:16.597667Z",
     "start_time": "2023-10-12T04:11:16.570406Z"
    }
   }
  },
  {
   "cell_type": "code",
   "execution_count": 24,
   "outputs": [
    {
     "name": "stdout",
     "output_type": "stream",
     "text": [
      "Number of input_ids: 499529\n"
     ]
    }
   ],
   "source": [
    "# check number of input_ids and target_ids\n",
    "print(\"Number of input_ids:\", len(train_encodings['input_ids']))\n",
    "# print(\"Number of target_ids:\", len(train_targets['input_ids']))"
   ],
   "metadata": {
    "collapsed": false,
    "ExecuteTime": {
     "end_time": "2023-10-12T04:11:19.450823Z",
     "start_time": "2023-10-12T04:11:19.435422Z"
    }
   }
  },
  {
   "cell_type": "code",
   "execution_count": 25,
   "outputs": [
    {
     "name": "stdout",
     "output_type": "stream",
     "text": [
      "Number of input_ids: 499529\n"
     ]
    }
   ],
   "source": [
    "# check number of input_ids and target_ids\n",
    "print(\"Number of input_ids:\", len(train_encodings['input_ids']))"
   ],
   "metadata": {
    "collapsed": false,
    "ExecuteTime": {
     "end_time": "2023-10-12T04:11:21.732618Z",
     "start_time": "2023-10-12T04:11:21.720361Z"
    }
   }
  },
  {
   "cell_type": "code",
   "execution_count": 26,
   "outputs": [
    {
     "name": "stdout",
     "output_type": "stream",
     "text": [
      "Max length of val_encodings: 982\n"
     ]
    }
   ],
   "source": [
    "# check max length of val_encodings\n",
    "max_len = 0\n",
    "for input_ids in val_encodings['input_ids']:\n",
    "    if len(input_ids) > max_len:\n",
    "        max_len = len(input_ids)\n",
    "        \n",
    "print(\"Max length of val_encodings:\", max_len)"
   ],
   "metadata": {
    "collapsed": false,
    "ExecuteTime": {
     "end_time": "2023-10-12T04:11:23.952981Z",
     "start_time": "2023-10-12T04:11:23.939450Z"
    }
   }
  },
  {
   "cell_type": "code",
   "execution_count": 28,
   "outputs": [],
   "source": [
    "# Save the tokenized train data\n",
    "torch.save(train_encodings, data_folder + 'train_encodings_large.pt')"
   ],
   "metadata": {
    "collapsed": false,
    "ExecuteTime": {
     "end_time": "2023-10-12T04:12:00.209981Z",
     "start_time": "2023-10-12T04:11:34.923751Z"
    }
   }
  },
  {
   "cell_type": "code",
   "execution_count": 29,
   "outputs": [],
   "source": [
    "# Save the tokenized validation and test data\n",
    "torch.save(val_encodings, data_folder + 'val_encodings_large.pt')\n",
    "\n",
    "torch.save(test_encodings, data_folder + 'test_encodings_large.pt')"
   ],
   "metadata": {
    "collapsed": false,
    "ExecuteTime": {
     "end_time": "2023-10-12T04:12:06.548054Z",
     "start_time": "2023-10-12T04:12:05.060822Z"
    }
   }
  },
  {
   "cell_type": "code",
   "execution_count": 31,
   "outputs": [
    {
     "data": {
      "text/plain": "('../data/ubuntu/tokenizer_large/tokenizer_config.json',\n '../data/ubuntu/tokenizer_large/special_tokens_map.json',\n '../data/ubuntu/tokenizer_large/vocab.json',\n '../data/ubuntu/tokenizer_large/merges.txt',\n '../data/ubuntu/tokenizer_large/added_tokens.json',\n '../data/ubuntu/tokenizer_large/tokenizer.json')"
     },
     "execution_count": 31,
     "metadata": {},
     "output_type": "execute_result"
    }
   ],
   "source": [
    "# Save the tokenizer\n",
    "tokenizer.save_pretrained(data_folder + 'tokenizer_large')"
   ],
   "metadata": {
    "collapsed": false,
    "ExecuteTime": {
     "end_time": "2023-10-12T04:14:15.558475Z",
     "start_time": "2023-10-12T04:14:15.490030Z"
    }
   }
  },
  {
   "cell_type": "markdown",
   "source": [
    "## Fine-tuning of the model was done using scripts due to Colab memory limitations\n",
    "\n",
    "Dialo-Medium & Large training script found [here](https://github.com/jeffreykthomas/AAI-520-Final-Project/blob/main/gpt2_finetuning/gpt2_generator_train.py)\n",
    "\n",
    "Llama2 training script found [here](https://github.com/jeffreykthomas/AAI-520-Final-Project/blob/main/llama2_finetuning/llama2_train.py)"
   ],
   "metadata": {
    "collapsed": false
   }
  },
  {
   "cell_type": "markdown",
   "source": [
    "# Evaluation"
   ],
   "metadata": {
    "collapsed": false
   }
  },
  {
   "cell_type": "code",
   "execution_count": 3,
   "outputs": [],
   "source": [
    "# Load the tokenized test data (if not already loaded)\n",
    "# This data is used because it has been formatted to be less than 1024 tokens\n",
    "test_encodings = torch.load(data_folder + 'test_encodings.pt')"
   ],
   "metadata": {
    "collapsed": false,
    "ExecuteTime": {
     "end_time": "2023-10-11T03:57:15.202671Z",
     "start_time": "2023-10-11T03:56:17.601692Z"
    }
   }
  },
  {
   "cell_type": "code",
   "execution_count": 215,
   "outputs": [],
   "source": [
    "#BLEU SCORE\n",
    "\n",
    "def calculate_bleu(reference, candidate):\n",
    "    return sentence_bleu([reference], candidate)\n",
    "\n",
    "#ROUGE SCORE\n",
    "\n",
    "def calculate_rouge(reference, candidate):\n",
    "    rouge = Rouge()\n",
    "    scores = rouge.get_scores(candidate, reference, avg=True)\n",
    "    return scores\n",
    "\n",
    "def calculate_perplexity(model, tokenizer, data_loader):\n",
    "    model.eval()  # set model to evaluation mode\n",
    "    batch_num = 0\n",
    "    nlls = []\n",
    "    \n",
    "    for (inputs, target) in data_loader:\n",
    "        batch_num += 1\n",
    "        print(f'\\rProcessing batch {batch_num} of {len(data_loader)}...', end='', flush=True)\n",
    "        # concatenate the context and utterance\n",
    "        inputs = inputs + ' ' + target\n",
    "        tokenized_inputs = tokenizer(inputs, padding=True, truncation=True, return_tensors='pt')\n",
    "        \n",
    "        b_inputs = tokenized_inputs['input_ids'].to(device)\n",
    "        b_attention_masks = tokenized_inputs['attention_mask'].to(device)\n",
    "        target = tokenized_inputs['input_ids'].to(device)\n",
    "        seq_len = b_inputs.size(1)\n",
    "        stride = 512\n",
    "        prev_end_loc = 0\n",
    "        \n",
    "        for begin_loc in range(0, seq_len, stride):\n",
    "            end_loc = min(begin_loc + max_length, seq_len)\n",
    "            trg_len = end_loc - prev_end_loc\n",
    "            input_ids = b_inputs[:, begin_loc:end_loc]\n",
    "            attention_masks = b_attention_masks[:, begin_loc:end_loc]\n",
    "            target_ids = target[:, begin_loc:end_loc]\n",
    "            \n",
    "            target_ids[:, :-trg_len] = -100\n",
    "            with torch.no_grad():\n",
    "                outputs = model(input_ids, attention_mask=attention_masks, labels=target_ids)\n",
    "                neg_log_likelihood = outputs.loss\n",
    "                nlls.append(neg_log_likelihood)\n",
    "            \n",
    "            prev_end_loc = end_loc\n",
    "            \n",
    "    # Calculate the perplexity\n",
    "    perplexity = torch.exp(torch.stack(nlls).mean())\n",
    "    \n",
    "    return perplexity"
   ],
   "metadata": {
    "collapsed": false,
    "ExecuteTime": {
     "end_time": "2023-10-22T07:32:23.384286984Z",
     "start_time": "2023-10-22T07:32:23.319117038Z"
    }
   }
  },
  {
   "cell_type": "code",
   "execution_count": 164,
   "outputs": [],
   "source": [
    "# Calculate BLEU\n",
    "def get_average_evaluation_scores(references, generated_responses):\n",
    "    total_bleu = 0\n",
    "    for reference, candidate in zip(references, generated_responses):\n",
    "        total_bleu += calculate_bleu(reference, candidate)\n",
    "    average_bleu = total_bleu / len(references)\n",
    "    \n",
    "    # Calculate ROUGE\n",
    "    rouge = Rouge()\n",
    "    total_rouge = {'rouge-1': {'f': 0, 'p': 0, 'r': 0},\n",
    "                   'rouge-2': {'f': 0, 'p': 0, 'r': 0},\n",
    "                   'rouge-l': {'f': 0, 'p': 0, 'r': 0}}\n",
    "    for reference, candidate in zip(references, generated_responses):\n",
    "        try:\n",
    "            scores = rouge.get_scores(candidate, reference, avg=True)\n",
    "            for key in scores:\n",
    "                total_rouge[key]['f'] += scores[key]['f']\n",
    "                total_rouge[key]['p'] += scores[key]['p']\n",
    "                total_rouge[key]['r'] += scores[key]['r']\n",
    "        \n",
    "        except ValueError as e:\n",
    "            print(f\"Skipping due to error: {e}\")\n",
    "            print(f\"Problematic candidate: '{candidate}', reference: '{reference}'\")\n",
    "    \n",
    "    average_rouge = {key: {k: v / len(references) for k, v in value.items()} for key, value in total_rouge.items()}\n",
    "    \n",
    "    print(\"Average BLEU Score:\", average_bleu)\n",
    "    print(\"Average ROUGE Scores:\", average_rouge)\n",
    "    \n",
    "    return average_bleu, average_rouge"
   ],
   "metadata": {
    "collapsed": false,
    "ExecuteTime": {
     "end_time": "2023-10-22T06:02:41.551927744Z",
     "start_time": "2023-10-22T06:02:41.495508378Z"
    }
   }
  },
  {
   "cell_type": "markdown",
   "source": [],
   "metadata": {
    "collapsed": false
   }
  },
  {
   "cell_type": "markdown",
   "source": [
    "# Evaluation\n",
    "## Compute average BLEU and ROUGE scores on the test set for each model"
   ],
   "metadata": {
    "collapsed": false
   }
  },
  {
   "cell_type": "code",
   "execution_count": 6,
   "outputs": [],
   "source": [
    "# The 5 models for testing\n",
    "base_model_hf = 'microsoft/DialoGPT-medium'\n",
    "gpt2_medium_fine_tuned = 'jeffreykthomas/dialo-medium-ubuntu-generation'\n",
    "gpt2_large_fine_tuned = 'jeffreykthomas/dialo-large-ubuntu-generation'\n",
    "gpt3_fine_tuned = 'ft:gpt-3.5-turbo-0613:mentors-more::8AMjJzqE'\n",
    "llama2_fine_tuned = 'jeffreykthomas/llama2-7B-ubuntu-generation'"
   ],
   "metadata": {
    "collapsed": false,
    "ExecuteTime": {
     "end_time": "2023-10-21T23:45:38.577466584Z",
     "start_time": "2023-10-21T23:45:38.544211178Z"
    }
   }
  },
  {
   "cell_type": "code",
   "execution_count": 84,
   "outputs": [
    {
     "data": {
      "text/plain": "Downloading (…)okenizer_config.json:   0%|          | 0.00/610 [00:00<?, ?B/s]",
      "application/vnd.jupyter.widget-view+json": {
       "version_major": 2,
       "version_minor": 0,
       "model_id": "5196ee218a9341eaa04f861f5e6a62bd"
      }
     },
     "metadata": {},
     "output_type": "display_data"
    },
    {
     "data": {
      "text/plain": "Downloading (…)olve/main/vocab.json:   0%|          | 0.00/798k [00:00<?, ?B/s]",
      "application/vnd.jupyter.widget-view+json": {
       "version_major": 2,
       "version_minor": 0,
       "model_id": "da4f4b5ccab6495b98350cbb6d34536b"
      }
     },
     "metadata": {},
     "output_type": "display_data"
    },
    {
     "data": {
      "text/plain": "Downloading (…)olve/main/merges.txt:   0%|          | 0.00/456k [00:00<?, ?B/s]",
      "application/vnd.jupyter.widget-view+json": {
       "version_major": 2,
       "version_minor": 0,
       "model_id": "6b3fe197e4b24c3198c82794369d05e3"
      }
     },
     "metadata": {},
     "output_type": "display_data"
    },
    {
     "data": {
      "text/plain": "Downloading (…)/main/tokenizer.json:   0%|          | 0.00/2.11M [00:00<?, ?B/s]",
      "application/vnd.jupyter.widget-view+json": {
       "version_major": 2,
       "version_minor": 0,
       "model_id": "c1e0b398edf245e788fa071ac28129eb"
      }
     },
     "metadata": {},
     "output_type": "display_data"
    },
    {
     "data": {
      "text/plain": "Downloading (…)in/added_tokens.json:   0%|          | 0.00/29.0 [00:00<?, ?B/s]",
      "application/vnd.jupyter.widget-view+json": {
       "version_major": 2,
       "version_minor": 0,
       "model_id": "9bcceff86d4c472db5c7deb48cdc391c"
      }
     },
     "metadata": {},
     "output_type": "display_data"
    },
    {
     "data": {
      "text/plain": "Downloading (…)cial_tokens_map.json:   0%|          | 0.00/189 [00:00<?, ?B/s]",
      "application/vnd.jupyter.widget-view+json": {
       "version_major": 2,
       "version_minor": 0,
       "model_id": "0dc6cdbff4b94c2eafdbd501db9a7986"
      }
     },
     "metadata": {},
     "output_type": "display_data"
    },
    {
     "name": "stderr",
     "output_type": "stream",
     "text": [
      "Special tokens have been added in the vocabulary, make sure the associated word embeddings are fine-tuned or trained.\n"
     ]
    }
   ],
   "source": [
    "gpt2_medium_tokenizer = AutoTokenizer.from_pretrained(gpt2_medium_fine_tuned, padding_side='left')"
   ],
   "metadata": {
    "collapsed": false,
    "ExecuteTime": {
     "end_time": "2023-10-22T05:22:58.317551676Z",
     "start_time": "2023-10-22T05:22:56.131659029Z"
    }
   }
  },
  {
   "cell_type": "code",
   "execution_count": 111,
   "outputs": [],
   "source": [
    "# crate a random sample of 1000 test data samples\n",
    "np.random.seed(42)\n",
    "random_indices = np.random.randint(0, len(test_df), 1000)\n",
    "test_data_encodings = [test_encodings['input_ids'][i] for i in random_indices]"
   ],
   "metadata": {
    "collapsed": false,
    "ExecuteTime": {
     "end_time": "2023-10-22T05:36:11.516728605Z",
     "start_time": "2023-10-22T05:36:11.476527754Z"
    }
   }
  },
  {
   "cell_type": "code",
   "execution_count": 113,
   "outputs": [],
   "source": [
    "# Split test_data into input and ground truth based on the end of sequence tokens\n",
    "eot_id = gpt2_medium_tokenizer.convert_tokens_to_ids('<|endoftext|>')\n",
    "\n",
    "test_data_inputs = []\n",
    "test_data_ground_truths = []\n",
    "for encoding in test_data_encodings:\n",
    "    test_data_prompt, test_data_ground_truth = get_last_turn(encoding, eot_id)\n",
    "    test_data_inputs.append(test_data_prompt)\n",
    "    test_data_ground_truths.append(test_data_ground_truth)"
   ],
   "metadata": {
    "collapsed": false,
    "ExecuteTime": {
     "end_time": "2023-10-22T05:36:51.134765510Z",
     "start_time": "2023-10-22T05:36:50.787616211Z"
    }
   }
  },
  {
   "cell_type": "code",
   "execution_count": 115,
   "outputs": [],
   "source": [
    "test_data_inputs = [tokenizer.decode(encoding, skip_special_tokens=False) for encoding in test_data_inputs]\n",
    "test_data_labels = [tokenizer.decode(encoding, skip_special_tokens=False) for encoding in test_data_ground_truths]"
   ],
   "metadata": {
    "collapsed": false,
    "ExecuteTime": {
     "end_time": "2023-10-22T05:37:27.816077253Z",
     "start_time": "2023-10-22T05:37:27.752381738Z"
    }
   }
  },
  {
   "cell_type": "code",
   "execution_count": 100,
   "outputs": [
    {
     "data": {
      "text/plain": "\"How can I use xsetwacom to configure my Wacom tablet's buttons?  <|endoftext|> Apparently, no one here right now knows how to help you with your question.  <|endoftext|>\""
     },
     "execution_count": 100,
     "metadata": {},
     "output_type": "execute_result"
    }
   ],
   "source": [
    "test_data_inputs[7]"
   ],
   "metadata": {
    "collapsed": false,
    "ExecuteTime": {
     "end_time": "2023-10-22T05:31:25.119118901Z",
     "start_time": "2023-10-22T05:31:25.092057236Z"
    }
   }
  },
  {
   "cell_type": "code",
   "execution_count": 101,
   "outputs": [
    {
     "data": {
      "text/plain": "\"Very well. I'll post it on AskUbuntu. Thank you :)  <|endoftext|>\""
     },
     "execution_count": 101,
     "metadata": {},
     "output_type": "execute_result"
    }
   ],
   "source": [
    "test_data_labels[7]"
   ],
   "metadata": {
    "collapsed": false,
    "ExecuteTime": {
     "end_time": "2023-10-22T05:31:31.078406313Z",
     "start_time": "2023-10-22T05:31:31.051537523Z"
    }
   }
  },
  {
   "cell_type": "code",
   "execution_count": 129,
   "outputs": [],
   "source": [
    "# Remove special tokens from end of labels\n",
    "test_data_labels = [label.replace('<|endoftext|>', '') for label in test_data_labels]"
   ],
   "metadata": {
    "collapsed": false,
    "ExecuteTime": {
     "end_time": "2023-10-22T05:45:24.762312143Z",
     "start_time": "2023-10-22T05:45:24.699398544Z"
    }
   }
  },
  {
   "cell_type": "code",
   "execution_count": 130,
   "outputs": [
    {
     "data": {
      "text/plain": "\"Very well. I'll post it on AskUbuntu. Thank you :)  \""
     },
     "execution_count": 130,
     "metadata": {},
     "output_type": "execute_result"
    }
   ],
   "source": [
    "test_data_labels[7]"
   ],
   "metadata": {
    "collapsed": false,
    "ExecuteTime": {
     "end_time": "2023-10-22T05:45:25.981565641Z",
     "start_time": "2023-10-22T05:45:25.954992080Z"
    }
   }
  },
  {
   "cell_type": "code",
   "execution_count": 250,
   "outputs": [],
   "source": [
    "# Initiate a results dataframe\n",
    "results_df = pd.DataFrame(columns=['Model', 'Average BLEU Score', 'Average ROUGE-L Score', 'Average Perplexity'])"
   ],
   "metadata": {
    "collapsed": false,
    "ExecuteTime": {
     "end_time": "2023-10-22T16:32:48.964378777Z",
     "start_time": "2023-10-22T16:32:48.893175852Z"
    }
   }
  },
  {
   "cell_type": "markdown",
   "source": [
    "## Preprocess data in methods required for each model"
   ],
   "metadata": {
    "collapsed": false
   }
  },
  {
   "cell_type": "markdown",
   "source": [
    "## GPT2 Preprocessing"
   ],
   "metadata": {
    "collapsed": false
   }
  },
  {
   "cell_type": "code",
   "execution_count": 131,
   "outputs": [
    {
     "name": "stdout",
     "output_type": "stream",
     "text": [
      "how would I set env variables per user on login, like PATH?  <|endoftext|> those are usually set in.bashrc  <|endoftext|> I log in graphically, and want the vars known on desktop  <|endoftext|>\n"
     ]
    }
   ],
   "source": [
    "gpt2_prompts = test_data_inputs\n",
    "gpt2_ground_truths = test_data_labels\n",
    "\n",
    "print(gpt2_prompts[0])"
   ],
   "metadata": {
    "collapsed": false,
    "ExecuteTime": {
     "end_time": "2023-10-22T05:45:43.705309389Z",
     "start_time": "2023-10-22T05:45:43.675423966Z"
    }
   }
  },
  {
   "cell_type": "markdown",
   "source": [
    "## Llama2 Preprocessing"
   ],
   "metadata": {
    "collapsed": false
   }
  },
  {
   "cell_type": "code",
   "execution_count": 241,
   "outputs": [
    {
     "name": "stderr",
     "output_type": "stream",
     "text": [
      "Special tokens have been added in the vocabulary, make sure the associated word embeddings are fine-tuned or trained.\n"
     ]
    },
    {
     "name": "stdout",
     "output_type": "stream",
     "text": [
      "Skipping sample because it is too long: <s>[INST] As an expert in Ubuntu, respond to this user query: User: hello I am running 12.04 and after this dist-upgrade the system keeps doing fsck's on startup all the time. I did a manual one to fix all errors and checked using tune2fs to see if the fs was clean afterwards, and it was. However I still keep getting those forced fscks on startup. Does anyone know about this issue? <|endoftext|> hrrm this might seem silly but check 'memtest' on the computer.. i've had cases, where motherboard/ram/cpu/capacitors were not ahppy and it was causing all sorts of chaos/broken-filesystems/etc this then leads to filesystem corruption, which then leads to 'forced fsck' etc. <|endoftext|> but tune2fs says fs is clean? <|endoftext|> hrrm if you shutdown and reboot again quikcyl? is it actually 'filesystem marked dirty' error or just some ubuntu-buggy-being-silly? <|endoftext|> I am not sure. I'll check again <|endoftext|> dr_willis making another good point. It can be your system clock going (e.g. CMOS battery flat) such that time wrong such that it always thinks its' time to check or so drrm ok cmos batteries can be replaced i've done it before it would be much better to just fix that. <|endoftext|> for the eee it's a pain in the... <|endoftext|> aaat take motherboard out, unplug speakers etc.. yah i know =) still it could just be that fixing that will properly fix it  the hwclock may not register properly at all when running, check 'dmesg' for warnings it may SAY that it has found error and marked filessytem dirty this would be helpful to know if that is actually happening, or not you get used to reading it and whats normal the most useful think todo is firstly dmesg and then look again later and see what 'new' messages have appeared i suspect 'e4' or 'ext4' may be part of the line you need to see but not sure there should be something about filesystem dirty or error on device or whatever, it will give you clues if that is actually happening besides which you might want to see erros about the block device, not an ext4fs error 'dmesg' tells you what the kernel has to say for itself, read it all, look at it, learn think, ask questions <|endoftext|> alright, thanks <|endoftext|> in my 'dmesg' I have a load of lines from \"EXT4-fs\" when it mounted and'recovered' my filesystem (i had powercut...) ok have you learnt anything? is your filessytem getting remounted / error-marked when shutting down? [/INST] Expert: hello I am running 12.04 and after this dist-upgrade the system keeps doing fsck's on startup all the time. I did a manual one to fix all errors and checked using tune2fs to see if the fs was clean afterwards, and it was. However I still keep getting those forced fscks on startup. Does anyone know about this issue? <|endoftext|> hrrm this might seem silly but check 'memtest' on the computer.. i've had cases, where motherboard/ram/cpu/capacitors were not ahppy and it was causing all sorts of chaos/broken-filesystems/etc this then leads to filesystem corruption, which then leads to 'forced fsck' etc. <|endoftext|> but tune2fs says fs is clean? <|endoftext|> hrrm if you shutdown and reboot again quikcyl? is it actually 'filesystem marked dirty' error or just some ubuntu-buggy-being-silly? <|endoftext|> I am not sure. I'll check again <|endoftext|> dr_willis making another good point. It can be your system clock going (e.g. CMOS battery flat) such that time wrong such that it always thinks its' time to check or so drrm ok cmos batteries can be replaced i've done it before it would be much better to just fix that. <|endoftext|> for the eee it's a pain in the... <|endoftext|> aaat take motherboard out, unplug speakers etc.. yah i know =) still it could just be that fixing that will properly fix it  the hwclock may not register properly at all when running, check 'dmesg' for warnings it may SAY that it has found error and marked filessytem dirty this would be helpful to know if that is actually happening, or not you get used to reading it and whats normal the most useful think todo is firstly dmesg and then look again later and see what 'new' messages have appeared i suspect 'e4' or 'ext4' may be part of the line you need to see but not sure there should be something about filesystem dirty or error on device or whatever, it will give you clues if that is actually happening besides which you might want to see erros about the block device, not an ext4fs error 'dmesg' tells you what the kernel has to say for itself, read it all, look at it, learn think, ask questions <|endoftext|> alright, thanks <|endoftext|> in my 'dmesg' I have a load of lines from \"EXT4-fs\" when it mounted and'recovered' my filesystem (i had powercut...) ok have you learnt anything? is your filessytem getting remounted / error-marked when shutting down?</s>\n",
      "Skipping sample because it is too long: <s>[INST] As an expert in Ubuntu, respond to this user query: User: just set auto shutdown in the bios <|endoftext|> ok but i cant know if work fine because this software cant give me info <|endoftext|> I don't know what you mean - just set the auto shutdown temperature in the bios you've had about 10 different bits of how to do this in Ubuntu and don't seem to grasp <|endoftext|> because hast a gui <|endoftext|> the BIOS should be quite clear and easy to set a shutdown temperatture the bios has a very simple gui it's menu, just type in the temperature you want it to shutdown on if that is a task that is too complex, you will struggle to use ubuntu, let alone set auto shutdown <|endoftext|> i only want set the auto shutdown for temperature at 75 C cpu <|endoftext|> yes, I understand that, normally you can set that in a the bios <|endoftext|> but with a notice in my bar of ubuntu <|endoftext|> that's not going to happen <|endoftext|> ever im using psensor in lubuntu but psensor hasnt that option of shutdown for temperature on demand <|endoftext|> right, so why are you using it? <|endoftext|> im using psensor because can give me info and notice of my temperature cpu and alerts <|endoftext|> but it can't do what you want....so what's the point of using it <|endoftext|> if im using the pc and the funs faillure i can know with psensor if my computer has a problem with the temperature <|endoftext|> so if you have the solution what's the problem?? why do you keep asking for help it doesn't do that - so if the tool you are using doesn't do that, why are you using it actually - don't bother responding, I'm not interested, you seem to want your software to do what it can't and you don't want to have other options. <|endoftext|> give me alternatives or similars solutions for my question or problem <|endoftext|> easy solution - set it in the bios job done - no problems, if the bios breaks, your machine is dead and it won't matter just set it in the bios and stop making it hard for yourself <|endoftext|> and for software with ubuntu is impossible? http://ubuntu-cpu-thermometer.fyxm.net/ [/INST] Expert: just set auto shutdown in the bios <|endoftext|> ok but i cant know if work fine because this software cant give me info <|endoftext|> I don't know what you mean - just set the auto shutdown temperature in the bios you've had about 10 different bits of how to do this in Ubuntu and don't seem to grasp <|endoftext|> because hast a gui <|endoftext|> the BIOS should be quite clear and easy to set a shutdown temperatture the bios has a very simple gui it's menu, just type in the temperature you want it to shutdown on if that is a task that is too complex, you will struggle to use ubuntu, let alone set auto shutdown <|endoftext|> i only want set the auto shutdown for temperature at 75 C cpu <|endoftext|> yes, I understand that, normally you can set that in a the bios <|endoftext|> but with a notice in my bar of ubuntu <|endoftext|> that's not going to happen <|endoftext|> ever im using psensor in lubuntu but psensor hasnt that option of shutdown for temperature on demand <|endoftext|> right, so why are you using it? <|endoftext|> im using psensor because can give me info and notice of my temperature cpu and alerts <|endoftext|> but it can't do what you want....so what's the point of using it <|endoftext|> if im using the pc and the funs faillure i can know with psensor if my computer has a problem with the temperature <|endoftext|> so if you have the solution what's the problem?? why do you keep asking for help it doesn't do that - so if the tool you are using doesn't do that, why are you using it actually - don't bother responding, I'm not interested, you seem to want your software to do what it can't and you don't want to have other options. <|endoftext|> give me alternatives or similars solutions for my question or problem <|endoftext|> easy solution - set it in the bios job done - no problems, if the bios breaks, your machine is dead and it won't matter just set it in the bios and stop making it hard for yourself <|endoftext|> and for software with ubuntu is impossible? http://ubuntu-cpu-thermometer.fyxm.net/</s>\n",
      "Skipping sample because it is too long: <s>[INST] As an expert in Ubuntu, respond to this user query: User: I'm stucked in the partitioning menu..cannot decide :| sth like it, I've 601G of NTFS partition <|endoftext|> I think it is only important to have separate /home/  So, that would mean 3 partitions for Ubuntu, swap /home/ and / So you have 601G to use for Ubuntu? If that is correct, I would suggest, 8G swap, 20G / and the rest for /home/ <|endoftext|> Nah. it's an external storage. I can use 97G of HDD for installation. <|endoftext|> Ok: 8G for swap, 10G / and rest for /home/ Ok: 8G for swap, 20G / and rest for /home/   correction  ^^^^\\ <|endoftext|> but if you have an experience in it, gimme advice in this layout: -boot, root, swap, var, tmp, usr(not important ) <|endoftext|> It's up to you. I have given my advise: 8G swap, 20G / & the rest for /home/ <|endoftext|> it's for random users, give me some insight of yours of my layout, please <|endoftext|> If you really want to separate more, you can, but in my opinion, that's all you need to do. There is good reason to have /home/ on a separate partition, but the rest is ok to be lumped together.  This is the way I always do it. and in that order. <|endoftext|> how much should I give boot partition? I have 476M for now but i think it is useless..512 is OK, right? 512K <|endoftext|> Ok. Alternative: 8G swap, 200M boot, 20G /  & the rest for /home/ How's that? <|endoftext|> giving double size of Random access memory is no more recommended in core i series processors, I jave i5..and 4G of RAm..is 4G OK for swap space? [/INST] Expert: I'm stucked in the partitioning menu..cannot decide :| sth like it, I've 601G of NTFS partition <|endoftext|> I think it is only important to have separate /home/  So, that would mean 3 partitions for Ubuntu, swap /home/ and / So you have 601G to use for Ubuntu? If that is correct, I would suggest, 8G swap, 20G / and the rest for /home/ <|endoftext|> Nah. it's an external storage. I can use 97G of HDD for installation. <|endoftext|> Ok: 8G for swap, 10G / and rest for /home/ Ok: 8G for swap, 20G / and rest for /home/   correction  ^^^^\\ <|endoftext|> but if you have an experience in it, gimme advice in this layout: -boot, root, swap, var, tmp, usr(not important ) <|endoftext|> It's up to you. I have given my advise: 8G swap, 20G / & the rest for /home/ <|endoftext|> it's for random users, give me some insight of yours of my layout, please <|endoftext|> If you really want to separate more, you can, but in my opinion, that's all you need to do. There is good reason to have /home/ on a separate partition, but the rest is ok to be lumped together.  This is the way I always do it. and in that order. <|endoftext|> how much should I give boot partition? I have 476M for now but i think it is useless..512 is OK, right? 512K <|endoftext|> Ok. Alternative: 8G swap, 200M boot, 20G /  & the rest for /home/ How's that? <|endoftext|> giving double size of Random access memory is no more recommended in core i series processors, I jave i5..and 4G of RAm..is 4G OK for swap space?</s>\n",
      "Skipping sample because it is too long: <s>[INST] As an expert in Ubuntu, respond to this user query: User: Anybody familiar with my issue? <|endoftext|> what's linaro? <|endoftext|> I was wondering that as well I believe it has to do with some broken ti-imap ti-omap package repos which I thought were for building for the platform <|endoftext|> I don't think the multi-arch stuff is quite complete enough to handle cross-compiles without chroots yet. <|endoftext|> is there anyway I can force it to reinstall the amd64 ubuntu-desktop without referencing the other stuff? <|endoftext|> what does dpkg --print-architectures say? <|endoftext|> compiz-plugins-default : Depends: libdecoration0 (= 1:0.9.7.8-0ubuntu1.4) but 1:0.9.8+bzr3287-0linaro3 is to be installed <|endoftext|> I would uninstall the cross-building tools first. <|endoftext|> I did apt-get -f apt-get -m... it just keeps wanting to refer to those packages <|endoftext|> have you tried \"apt-get install -f\"? Honestly, I'd try dpkg -P <cross-building-tools> first. whatever the crossbuild tools were. <|endoftext|> I think it's actually this TI OMAP specific crap in the repo. It was broken so I tried to fix the line, and probably f#$%ed everything. <|endoftext|> gonna make a japanese garden with a magic rolling ball bearing? nifty. \"crap in the repo\"? you mean sources.list? <|endoftext|> not too far off <|endoftext|> ahh... I've never needed to tease out what packages come from what repo. there's probably a log of what got installed. uninstall and remove the TI-OMAP repo package last. I guess then just comment out the TI-OMAP sources in /etc/apt/sources.list, do apt-get update, and try apt-get install -f <disclaimer>but I'm really not a super duper expert. </disclaimer> did you apt-get update? <|endoftext|> Yep [/INST] Expert: Anybody familiar with my issue? <|endoftext|> what's linaro? <|endoftext|> I was wondering that as well I believe it has to do with some broken ti-imap ti-omap package repos which I thought were for building for the platform <|endoftext|> I don't think the multi-arch stuff is quite complete enough to handle cross-compiles without chroots yet. <|endoftext|> is there anyway I can force it to reinstall the amd64 ubuntu-desktop without referencing the other stuff? <|endoftext|> what does dpkg --print-architectures say? <|endoftext|> compiz-plugins-default : Depends: libdecoration0 (= 1:0.9.7.8-0ubuntu1.4) but 1:0.9.8+bzr3287-0linaro3 is to be installed <|endoftext|> I would uninstall the cross-building tools first. <|endoftext|> I did apt-get -f apt-get -m... it just keeps wanting to refer to those packages <|endoftext|> have you tried \"apt-get install -f\"? Honestly, I'd try dpkg -P <cross-building-tools> first. whatever the crossbuild tools were. <|endoftext|> I think it's actually this TI OMAP specific crap in the repo. It was broken so I tried to fix the line, and probably f#$%ed everything. <|endoftext|> gonna make a japanese garden with a magic rolling ball bearing? nifty. \"crap in the repo\"? you mean sources.list? <|endoftext|> not too far off <|endoftext|> ahh... I've never needed to tease out what packages come from what repo. there's probably a log of what got installed. uninstall and remove the TI-OMAP repo package last. I guess then just comment out the TI-OMAP sources in /etc/apt/sources.list, do apt-get update, and try apt-get install -f <disclaimer>but I'm really not a super duper expert. </disclaimer> did you apt-get update? <|endoftext|> Yep</s>\n",
      "Skipping sample because it is too long: <s>[INST] As an expert in Ubuntu, respond to this user query: User: do you have home on a seperate partition? <|endoftext|> i got home on its own seperate hard drive even... ;) 100gb? thats all? i got more por... err... vacation pics then that sounds like you need to clean house. just remember a hard drive could die at any time.. data not backed up is data at risk you could repartition and make a /home/ partition via gparted but that may take time <|endoftext|> do you have a second harddrive in your PC or is it somewhere in your network? <|endoftext|> and data loss is possible  i have like 4 on that one pc.. and a nas. and a stack or backup usb hds <|endoftext|> 4 discs - are you using RAID? <|endoftext|> got a 3tb internal for under $100 a few weeks back to replace a 1TB  i dont use raid. i want space. not speed.. my single sdd gives me speed <|endoftext|> ok -so you have 3 big HDD and 1 SSD? <|endoftext|> yep. on that pc. ;) <|endoftext|> how big is your nas and how many discs do you have there? <|endoftext|> it has a 3tb on it <|endoftext|> what is the noise level of your setup? <|endoftext|> never noticed. i dont even have the side on it right now or its your usb ports thats the issue crackerjackz... id just get a new webcam. ;) <|endoftext|> when you do a new install, do you always install home as well and then just copy everything back from your backup? <|endoftext|> i tell it where my /home/ is (on sdb1) and it uses it. it does not format it i readd my users in the same order every time also. <|endoftext|> what is the risk that newer versions of an application do not work with your old config files stored on home? <|endoftext|> you could get fancy and have home for different users on different fielsystems if you wanted. ;)  its trivial to clean out the old configs ive rarely seen the issue happen [/INST] Expert: do you have home on a seperate partition? <|endoftext|> i got home on its own seperate hard drive even... ;) 100gb? thats all? i got more por... err... vacation pics then that sounds like you need to clean house. just remember a hard drive could die at any time.. data not backed up is data at risk you could repartition and make a /home/ partition via gparted but that may take time <|endoftext|> do you have a second harddrive in your PC or is it somewhere in your network? <|endoftext|> and data loss is possible  i have like 4 on that one pc.. and a nas. and a stack or backup usb hds <|endoftext|> 4 discs - are you using RAID? <|endoftext|> got a 3tb internal for under $100 a few weeks back to replace a 1TB  i dont use raid. i want space. not speed.. my single sdd gives me speed <|endoftext|> ok -so you have 3 big HDD and 1 SSD? <|endoftext|> yep. on that pc. ;) <|endoftext|> how big is your nas and how many discs do you have there? <|endoftext|> it has a 3tb on it <|endoftext|> what is the noise level of your setup? <|endoftext|> never noticed. i dont even have the side on it right now or its your usb ports thats the issue crackerjackz... id just get a new webcam. ;) <|endoftext|> when you do a new install, do you always install home as well and then just copy everything back from your backup? <|endoftext|> i tell it where my /home/ is (on sdb1) and it uses it. it does not format it i readd my users in the same order every time also. <|endoftext|> what is the risk that newer versions of an application do not work with your old config files stored on home? <|endoftext|> you could get fancy and have home for different users on different fielsystems if you wanted. ;)  its trivial to clean out the old configs ive rarely seen the issue happen</s>\n",
      "Skipping sample because it is too long: <s>[INST] As an expert in Ubuntu, respond to this user query: User: woah sorry :O who likes apple anyways i only like their keyboard so thin and sexy :P same zymaster ok well i need support anyways i installed ubuntu lol sorry its a habit, a very bad one. i installed ubuntu and windows 7 went poof :O idk how to boot back into it <|endoftext|> Is this a Ubuntu install from Windows or a booted usb/cd? Have you run sudo update-grub in ubuntu to see if windows is added to the grub menu? <|endoftext|> i have no clue what any of that means i JUST installed ubuntu and never had any past experience i just wanted it because it was good for this oldddd computer <|endoftext|> YOU are using the grub bootloader that ubuntu uses right. In order to update it it if a OS is missing you would run in the ubuntu terminal sudo update-grub. You say Windows is gone, is it gone from the HD overwritten or just the bot menu? Are you able to get to the ubuntu desktop? Not sure what to say that command and the word sudo which gives you super user access always work. <|endoftext|> i can ONLY boot into ubuntu, ubuntu recovery mode and two other weird things i think they said mem check? <|endoftext|> Have you opened a terminal in Ubuntu and run this command sudo update-grub  It helps to know this and if you removed any partitions when installing Ubuntu. <|endoftext|> i made the partition through the installer, it showed my partition with windows 7 which is 150 or so gigs and i took 25 and made it into a new parition and it installed, i have no clue how to code and all that stuf. I installed ubuntu because i liked the look and feel of it <|endoftext|> copy and paste this command to a ubuntu terminal. The terminal is in the menu. sudo update-grub  then hit enter put in the password it will not show and look at the terminal and see if windows shows in the grub list I just use a right click copy and paste not sure to be honest <|endoftext|> i put it in and it said \"sudo\" is not recognized <|endoftext|> This is the admin account right, or a second standard account? If you don't make the cammond exactly as I posted it you will get errors as well, check that. It is sudo update-grub <|endoftext|> \"sudo\" is an unrecognized command <|endoftext|> I assume your not running in root say from recovery. <|endoftext|> OMG what? lmao i thought i was supposed to be doing this through the grub bootloader command prompt <|endoftext|> I have been very clear that the terminal is run from the desktop, I said the terminal was found in the menu. If you have the panel on the left of the ndesktop hit the top button and type terminal and choose that to open and run that command sudo update-grub YOU wont see it just type it and hit enter <|endoftext|> it said it found some things :/ now what [/INST] Expert: woah sorry :O who likes apple anyways i only like their keyboard so thin and sexy :P same zymaster ok well i need support anyways i installed ubuntu lol sorry its a habit, a very bad one. i installed ubuntu and windows 7 went poof :O idk how to boot back into it <|endoftext|> Is this a Ubuntu install from Windows or a booted usb/cd? Have you run sudo update-grub in ubuntu to see if windows is added to the grub menu? <|endoftext|> i have no clue what any of that means i JUST installed ubuntu and never had any past experience i just wanted it because it was good for this oldddd computer <|endoftext|> YOU are using the grub bootloader that ubuntu uses right. In order to update it it if a OS is missing you would run in the ubuntu terminal sudo update-grub. You say Windows is gone, is it gone from the HD overwritten or just the bot menu? Are you able to get to the ubuntu desktop? Not sure what to say that command and the word sudo which gives you super user access always work. <|endoftext|> i can ONLY boot into ubuntu, ubuntu recovery mode and two other weird things i think they said mem check? <|endoftext|> Have you opened a terminal in Ubuntu and run this command sudo update-grub  It helps to know this and if you removed any partitions when installing Ubuntu. <|endoftext|> i made the partition through the installer, it showed my partition with windows 7 which is 150 or so gigs and i took 25 and made it into a new parition and it installed, i have no clue how to code and all that stuf. I installed ubuntu because i liked the look and feel of it <|endoftext|> copy and paste this command to a ubuntu terminal. The terminal is in the menu. sudo update-grub  then hit enter put in the password it will not show and look at the terminal and see if windows shows in the grub list I just use a right click copy and paste not sure to be honest <|endoftext|> i put it in and it said \"sudo\" is not recognized <|endoftext|> This is the admin account right, or a second standard account? If you don't make the cammond exactly as I posted it you will get errors as well, check that. It is sudo update-grub <|endoftext|> \"sudo\" is an unrecognized command <|endoftext|> I assume your not running in root say from recovery. <|endoftext|> OMG what? lmao i thought i was supposed to be doing this through the grub bootloader command prompt <|endoftext|> I have been very clear that the terminal is run from the desktop, I said the terminal was found in the menu. If you have the panel on the left of the ndesktop hit the top button and type terminal and choose that to open and run that command sudo update-grub YOU wont see it just type it and hit enter <|endoftext|> it said it found some things :/ now what</s>\n",
      "Skipping sample because it is too long: <s>[INST] As an expert in Ubuntu, respond to this user query: User: im installing gimp 2.8 on 12.04 !addppa !ppa-purge ppa search, where? ohh nice <|endoftext|> Or if you use duckduckgo, use the!ppa syntax in the search 8.8.8.8 and 8.8.4.4 resolv.conf is generated, it's not a static file (unless you uninstall network manager) the tail file gets added to the end of the file when the DHCP DNS has been added (if any) yeah then the guy who wrote that doesn't know how the resolvconf works in newer releases then :) yes and if network manager wasn't about I believe it still runs a s a service. It can be configured by nm-cli <|endoftext|> what bells an whistles? youtube is blocked ATM. <|endoftext|> http://www.omgubuntu.co.uk/2012/09/ubuntu-12-10-beta-2-released https://duckduckgo.com/?q=what%27s+new+in+quantal  is all I did its not an 'autosearch thing' how can it be outdated when Quantal was only released a couple of months ago? so all links will be that old <|endoftext|> depends change, packages change, methods get outdated.. <|endoftext|> the links given will still only be as old as quantal, so how are they outdated when Quantal is so young? <|endoftext|> that URL isnt a guide :P its a discussion of 12.10. <|endoftext|> https://duckduckgo.com/?q=what%27s+new+in+quantal+%21recent  newest at the top (one reason why duckduckgo is more flexible than google) :) can you search google and ask for the newest sites found to be at the top? duckduckgo can :) why bother when the site does it for you :) it also has a tonne of other features. I rarely use google search nowadays, its too restrictive imho ddg has that too, or you can tweak the results <|endoftext|> this set by an account? or cookie-settings? <|endoftext|> its set by what you put in the search box try:  !ppa firefox    and  !yt ubuntu    a searches :) depends on the hardware <|endoftext|> my aim is AcerW500 tablet <|endoftext|> some work, some need a lot of work, some just don't work let me search http://www.youtube.com/watch?v=W6T8ZQ-r1O4&feature=youtube_gdata   someone has it working here its just what comes up. Seems to work OOTB yes multitouch needs some compiling but it seems to just roll the vid states that this is needed for multitouch (if it multitouch is something you need): http://lii-enac.fr/en/architecture/linux-input/multitouch-ubuntu-howto.html may just work in Precise, the page was posted prior to Precise's release Hardy (8.04) server is EOL in April next year, may want to plan an upgrade soon <|endoftext|> i dont want to upgrade my 8.04. i NEVER have problems with it. <|endoftext|> you don't have to, youo just won't get any support of any kind anywhere for it <|endoftext|> i know, i have to build patches for security holes. <|endoftext|> a DE is useful for new users :) desktop environment just running a WM could be a bit daunting :) no, the WM runs on top of the DE, So you can run Gnome desktop with Compiz as the WM how do you mean? ahh I see http://www.linux-magazine.com/Online/Blogs/Productivity-Sauce/Host-Your-Own-Secure-Pastebin-with-ZeroBin there is no single best way sudo lshw -C network  is one way ivybridge and sandybridge not ring any bells? those have INtel GPUs built in them its where this optimus mess comes from, one of those plus an nvidia gpu = optimus = headache in linux <|endoftext|> since when does the apt-get errors show \"localhost:4401\"? [/INST] Expert: im installing gimp 2.8 on 12.04 !addppa !ppa-purge ppa search, where? ohh nice <|endoftext|> Or if you use duckduckgo, use the!ppa syntax in the search 8.8.8.8 and 8.8.4.4 resolv.conf is generated, it's not a static file (unless you uninstall network manager) the tail file gets added to the end of the file when the DHCP DNS has been added (if any) yeah then the guy who wrote that doesn't know how the resolvconf works in newer releases then :) yes and if network manager wasn't about I believe it still runs a s a service. It can be configured by nm-cli <|endoftext|> what bells an whistles? youtube is blocked ATM. <|endoftext|> http://www.omgubuntu.co.uk/2012/09/ubuntu-12-10-beta-2-released https://duckduckgo.com/?q=what%27s+new+in+quantal  is all I did its not an 'autosearch thing' how can it be outdated when Quantal was only released a couple of months ago? so all links will be that old <|endoftext|> depends change, packages change, methods get outdated.. <|endoftext|> the links given will still only be as old as quantal, so how are they outdated when Quantal is so young? <|endoftext|> that URL isnt a guide :P its a discussion of 12.10. <|endoftext|> https://duckduckgo.com/?q=what%27s+new+in+quantal+%21recent  newest at the top (one reason why duckduckgo is more flexible than google) :) can you search google and ask for the newest sites found to be at the top? duckduckgo can :) why bother when the site does it for you :) it also has a tonne of other features. I rarely use google search nowadays, its too restrictive imho ddg has that too, or you can tweak the results <|endoftext|> this set by an account? or cookie-settings? <|endoftext|> its set by what you put in the search box try:  !ppa firefox    and  !yt ubuntu    a searches :) depends on the hardware <|endoftext|> my aim is AcerW500 tablet <|endoftext|> some work, some need a lot of work, some just don't work let me search http://www.youtube.com/watch?v=W6T8ZQ-r1O4&feature=youtube_gdata   someone has it working here its just what comes up. Seems to work OOTB yes multitouch needs some compiling but it seems to just roll the vid states that this is needed for multitouch (if it multitouch is something you need): http://lii-enac.fr/en/architecture/linux-input/multitouch-ubuntu-howto.html may just work in Precise, the page was posted prior to Precise's release Hardy (8.04) server is EOL in April next year, may want to plan an upgrade soon <|endoftext|> i dont want to upgrade my 8.04. i NEVER have problems with it. <|endoftext|> you don't have to, youo just won't get any support of any kind anywhere for it <|endoftext|> i know, i have to build patches for security holes. <|endoftext|> a DE is useful for new users :) desktop environment just running a WM could be a bit daunting :) no, the WM runs on top of the DE, So you can run Gnome desktop with Compiz as the WM how do you mean? ahh I see http://www.linux-magazine.com/Online/Blogs/Productivity-Sauce/Host-Your-Own-Secure-Pastebin-with-ZeroBin there is no single best way sudo lshw -C network  is one way ivybridge and sandybridge not ring any bells? those have INtel GPUs built in them its where this optimus mess comes from, one of those plus an nvidia gpu = optimus = headache in linux <|endoftext|> since when does the apt-get errors show \"localhost:4401\"?</s>\n",
      "Skipping sample because it is too long: <s>[INST] As an expert in Ubuntu, respond to this user query: User: So yeah I tried to follow the link and look around alittle bit I think I know what I have to do Did you look at my paste again cause I am going to ask you a question What is the difference in the two updates from link 1 http://kernel.ubuntu.com/~kernel-ppa/mainline/ to link 2 http://www.kernel.org/pub/linux/kernel/ Part IUpgrade Ubuntu Kernel with Ubuntus precompiled kernel components Vs Part IIUpgrade Ubuntu Kernel with the use of Linux Kernel Source Code components Whats the difference opps any idea? <|endoftext|> what you mean? what are you trying to do? I don't follow your problem from the begins, I'm just sitting here for a second that's very different thing first one was using precompiled kernel, I mean, in binary term second one, you build by yourself the kernel binary from the source usually you upgrade it with precompiled kernel from mainline stock.. the second part was more hard and usually was for more experienced linux user part II was told you to upgrade with compile your kernel image by yourself you should cd to dir contains your debs files, and issued that command you can install one by one with the exact name :D <|endoftext|> Do I have to do it individually or can I use the wildcard and it will grab all three> hey do you know how to rename the kernelversion string in uname -a <|endoftext|> you should set it when config <|endoftext|> how so <|endoftext|> have you try to config the kernel source and build by your self <|endoftext|> I don't know what that means how to i nick alert two people <|endoftext|> I think if you want to deep understand of kernel building process, you should try to compile by your self <|endoftext|> no I don't lol I just want to get this assignment done <|endoftext|> you are a smart people :D <|endoftext|> lol I am much better on windows, but i kind of like ubuntu now <|endoftext|> kernel from kernel.org was a pristine kernel... <|endoftext|> what do you mean pristine like good or is pristine a code name for something <|endoftext|> that's meaning, the kernel code maintained by linus torvald among all kernel developers and released to public regular to schedule release the mainline kernel was from ubuntu core developer, and fetch them from pristine kernel (kernel.org) and some add patch (maybe), improvement (specific to ubuntu) and included on ubuntu releases <|endoftext|> ohh ok I get it so any idea on how i might go about changing that kernel version string do I need to change it in the source code before i compile it? [/INST] Expert: So yeah I tried to follow the link and look around alittle bit I think I know what I have to do Did you look at my paste again cause I am going to ask you a question What is the difference in the two updates from link 1 http://kernel.ubuntu.com/~kernel-ppa/mainline/ to link 2 http://www.kernel.org/pub/linux/kernel/ Part IUpgrade Ubuntu Kernel with Ubuntus precompiled kernel components Vs Part IIUpgrade Ubuntu Kernel with the use of Linux Kernel Source Code components Whats the difference opps any idea? <|endoftext|> what you mean? what are you trying to do? I don't follow your problem from the begins, I'm just sitting here for a second that's very different thing first one was using precompiled kernel, I mean, in binary term second one, you build by yourself the kernel binary from the source usually you upgrade it with precompiled kernel from mainline stock.. the second part was more hard and usually was for more experienced linux user part II was told you to upgrade with compile your kernel image by yourself you should cd to dir contains your debs files, and issued that command you can install one by one with the exact name :D <|endoftext|> Do I have to do it individually or can I use the wildcard and it will grab all three> hey do you know how to rename the kernelversion string in uname -a <|endoftext|> you should set it when config <|endoftext|> how so <|endoftext|> have you try to config the kernel source and build by your self <|endoftext|> I don't know what that means how to i nick alert two people <|endoftext|> I think if you want to deep understand of kernel building process, you should try to compile by your self <|endoftext|> no I don't lol I just want to get this assignment done <|endoftext|> you are a smart people :D <|endoftext|> lol I am much better on windows, but i kind of like ubuntu now <|endoftext|> kernel from kernel.org was a pristine kernel... <|endoftext|> what do you mean pristine like good or is pristine a code name for something <|endoftext|> that's meaning, the kernel code maintained by linus torvald among all kernel developers and released to public regular to schedule release the mainline kernel was from ubuntu core developer, and fetch them from pristine kernel (kernel.org) and some add patch (maybe), improvement (specific to ubuntu) and included on ubuntu releases <|endoftext|> ohh ok I get it so any idea on how i might go about changing that kernel version string do I need to change it in the source code before i compile it?</s>\n",
      "Skipping sample because it is too long: <s>[INST] As an expert in Ubuntu, respond to this user query: User: i've added myself to group \"audio\", i still need to run alsa as root <|endoftext|> First, what do you mean by \"run alsa\". Second, did you log out and back in to apply the changes? <|endoftext|> well, run alsamixer rebooting didn't work, it still says 'cannot open mixer'. <|endoftext|> I'm not in the \"audio\" group but it works for me because, somewhere, the config is set up to add my user to the ACL for those device nodes. Give me a sec to think. I've never had that problem before. <|endoftext|> i am on server, btw <|endoftext|> I've never used Ubuntu Server, to be honest. I feel that, given the existence of Debian, Ubuntu Server is rather pointless. What does it say if you run `aplay -l`? <|endoftext|> no sound card found <|endoftext|> Mind pastebinning the output of \"ls -lhd /etc/asound.conf /dev/snd /dev/snd/*\"? <|endoftext|> http://codepad.org/l4cQWAIW <|endoftext|> Hmm. Looks OK. Try running `strace alsamixer > trace.txt` and pastebinning that. Wait. Sorry. Use `strace alsamixer 2> trace.txt`. We want stderr, not stdout. <|endoftext|> http://paste.ubuntu.com/1366490/ <|endoftext|> Ok, so it IS a permissions issue with /dev/snd/controlC0. (See line 155) Now to just figure out why. <|endoftext|> can i just do chmod or chown on /dev/snd/controlC0? since i am not using this as a server... i won't need much security :P <|endoftext|> Bad idea to hack around that way... especially since I'm still trying to figure out why it even works on my end. Ok, I've figured out why it works on my end. I'm just trying to figure out where that config tweak is. Ok, do you have /etc/apparmor.d/abstractions/audio? If so, pastebin it. <|endoftext|> http://paste.ubuntu.com/1366501/ <|endoftext|> Ok, I think this is beyond my abilities. I've never needed to track down permissions issues beyond this point. <|endoftext|> okay, thanks anyway... i am just annoyed of running as root. [/INST] Expert: i've added myself to group \"audio\", i still need to run alsa as root <|endoftext|> First, what do you mean by \"run alsa\". Second, did you log out and back in to apply the changes? <|endoftext|> well, run alsamixer rebooting didn't work, it still says 'cannot open mixer'. <|endoftext|> I'm not in the \"audio\" group but it works for me because, somewhere, the config is set up to add my user to the ACL for those device nodes. Give me a sec to think. I've never had that problem before. <|endoftext|> i am on server, btw <|endoftext|> I've never used Ubuntu Server, to be honest. I feel that, given the existence of Debian, Ubuntu Server is rather pointless. What does it say if you run `aplay -l`? <|endoftext|> no sound card found <|endoftext|> Mind pastebinning the output of \"ls -lhd /etc/asound.conf /dev/snd /dev/snd/*\"? <|endoftext|> http://codepad.org/l4cQWAIW <|endoftext|> Hmm. Looks OK. Try running `strace alsamixer > trace.txt` and pastebinning that. Wait. Sorry. Use `strace alsamixer 2> trace.txt`. We want stderr, not stdout. <|endoftext|> http://paste.ubuntu.com/1366490/ <|endoftext|> Ok, so it IS a permissions issue with /dev/snd/controlC0. (See line 155) Now to just figure out why. <|endoftext|> can i just do chmod or chown on /dev/snd/controlC0? since i am not using this as a server... i won't need much security :P <|endoftext|> Bad idea to hack around that way... especially since I'm still trying to figure out why it even works on my end. Ok, I've figured out why it works on my end. I'm just trying to figure out where that config tweak is. Ok, do you have /etc/apparmor.d/abstractions/audio? If so, pastebin it. <|endoftext|> http://paste.ubuntu.com/1366501/ <|endoftext|> Ok, I think this is beyond my abilities. I've never needed to track down permissions issues beyond this point. <|endoftext|> okay, thanks anyway... i am just annoyed of running as root.</s>\n",
      "Skipping sample because it is too long: <s>[INST] As an expert in Ubuntu, respond to this user query: User: help me fix my wireless please fix my wireless please? <|endoftext|> why not give some details rather than repeat the same pointless phrase <|endoftext|> okay, well my laptop isnt detecting my wireless <|endoftext|> what wifi chip do you use? <|endoftext|> how can i know\\? <|endoftext|> sudo lshw -C network   what is the product line for the wifi? <|endoftext|> where can i copy the response for u? <|endoftext|> its one line, just write it here <|endoftext|>  product: NetLink BCM57780 Gigabit Ethernet PCIe <|endoftext|> thats the wired connection. Ethernet is a wired technology remember when I said the line above ^ <|endoftext|>  description: Ethernet interface <|endoftext|> \" what is the product line for the wifi? \"  remember that? what is the output of:  lsb_release -sc <|endoftext|>    product: Broadcom Corporation  the output of lsb_release -sc : lucid as in lucid lynx <|endoftext|> you may want to clean install with Precise. Lucid desktop is EOL in April next year dead, no support and no updates Quantal is the current stable release, Precise is also stable and supported until 2017 Precise is Ubuntu 12.04 it uses Unity as a replacement for Gnome-panel but it can be installed it has later versions of the packages that make up the OS you can upgrade from Lucid to Precise as you are upgrading to the next LTS Long term support you will have backups if your data is important Is the system a laptop? <|endoftext|> * <|endoftext|> then use a wired connection and get updates as well as install the drivers there, broadcom are the easiest to install like I said, your release has 6 months of life left in it. After then you will get no updates and no support anywhere Oneiric Ocelot - Ubuntu 11.10  also dies on April 2013 lets put it simply. In April 2013, the only 2 releases supported on the desktop will be Precise (Ubuntu 12.04) and Quantal (12.10) as well as Lucid on the server you don't need to change anything, just install the newer release why do you not already have a backup? [/INST] Expert: help me fix my wireless please fix my wireless please? <|endoftext|> why not give some details rather than repeat the same pointless phrase <|endoftext|> okay, well my laptop isnt detecting my wireless <|endoftext|> what wifi chip do you use? <|endoftext|> how can i know\\? <|endoftext|> sudo lshw -C network   what is the product line for the wifi? <|endoftext|> where can i copy the response for u? <|endoftext|> its one line, just write it here <|endoftext|>  product: NetLink BCM57780 Gigabit Ethernet PCIe <|endoftext|> thats the wired connection. Ethernet is a wired technology remember when I said the line above ^ <|endoftext|>  description: Ethernet interface <|endoftext|> \" what is the product line for the wifi? \"  remember that? what is the output of:  lsb_release -sc <|endoftext|>    product: Broadcom Corporation  the output of lsb_release -sc : lucid as in lucid lynx <|endoftext|> you may want to clean install with Precise. Lucid desktop is EOL in April next year dead, no support and no updates Quantal is the current stable release, Precise is also stable and supported until 2017 Precise is Ubuntu 12.04 it uses Unity as a replacement for Gnome-panel but it can be installed it has later versions of the packages that make up the OS you can upgrade from Lucid to Precise as you are upgrading to the next LTS Long term support you will have backups if your data is important Is the system a laptop? <|endoftext|> * <|endoftext|> then use a wired connection and get updates as well as install the drivers there, broadcom are the easiest to install like I said, your release has 6 months of life left in it. After then you will get no updates and no support anywhere Oneiric Ocelot - Ubuntu 11.10  also dies on April 2013 lets put it simply. In April 2013, the only 2 releases supported on the desktop will be Precise (Ubuntu 12.04) and Quantal (12.10) as well as Lucid on the server you don't need to change anything, just install the newer release why do you not already have a backup?</s>\n",
      "Skipping sample because it is too long: <s>[INST] As an expert in Ubuntu, respond to this user query: User: via /etc/network/interfaces <|endoftext|> if you are trying to do routing you will need two physical nics. <|endoftext|> I have a ubuntu server that I want as a vmserver... I want the static ip for my nic and bridge so it gives my vm's access their own ips instead of them using the NAT built into the software <|endoftext|> which VM are you using, and you really need 2 nics minimum to do this correctly oldskool_. <|endoftext|> I have 2 nic's on my mobo can I utilize them? <|endoftext|> absolutely. which vm? <|endoftext|> How would I go about doing that? .. virt-manager ? sorrry I am new to vm's on linux not sure if that is the software I use <|endoftext|> Which virtual machine oldskool_... vmware, virtualbox, kvm-qemu... I am not familiar with the ins and outs of them all. <|endoftext|> kvm! sorry had to figure that out :P vmware is avil on linux too? <|endoftext|> yes. kvm probably has the best performance, virtualbox the easiest to use/configure... vmware somewhere in between. <|endoftext|> Cool so I made a good choice :) why is my other nic not showing up in my ifconfig does it need to have a cable plugged in before the interface is up? Shouldn't it be shown if I do a ifconfig regardless? I was thinking I wanted to utilize the 2 nics anyhow.. Wanted to seperate my vmserver with one of my vm's so they look like 2 machines on the network <|endoftext|> public bridge particularly relevant to you... but you should give the whole thing a read. http://www.linux-kvm.org/page/Networking <|endoftext|> THanks I'm gonna go read up <|endoftext|> this will provide you an internal and external network... it should be noted that if one of your nics is wireless... this doesn't count. It will not bridge wireless. <|endoftext|> Yeah I thought I saw something about not being able to bridge wirless KK gimme a sec to read up on this L3top: I was doing right the first time... THe confusion was that my eth0 wasn't getting a ip and taking on the first dhcp ip from my pool.... I always use static and opened a pool of 10 ip's I planned to use for vm's.. Thanks for the read bro :) [/INST] Expert: via /etc/network/interfaces <|endoftext|> if you are trying to do routing you will need two physical nics. <|endoftext|> I have a ubuntu server that I want as a vmserver... I want the static ip for my nic and bridge so it gives my vm's access their own ips instead of them using the NAT built into the software <|endoftext|> which VM are you using, and you really need 2 nics minimum to do this correctly oldskool_. <|endoftext|> I have 2 nic's on my mobo can I utilize them? <|endoftext|> absolutely. which vm? <|endoftext|> How would I go about doing that? .. virt-manager ? sorrry I am new to vm's on linux not sure if that is the software I use <|endoftext|> Which virtual machine oldskool_... vmware, virtualbox, kvm-qemu... I am not familiar with the ins and outs of them all. <|endoftext|> kvm! sorry had to figure that out :P vmware is avil on linux too? <|endoftext|> yes. kvm probably has the best performance, virtualbox the easiest to use/configure... vmware somewhere in between. <|endoftext|> Cool so I made a good choice :) why is my other nic not showing up in my ifconfig does it need to have a cable plugged in before the interface is up? Shouldn't it be shown if I do a ifconfig regardless? I was thinking I wanted to utilize the 2 nics anyhow.. Wanted to seperate my vmserver with one of my vm's so they look like 2 machines on the network <|endoftext|> public bridge particularly relevant to you... but you should give the whole thing a read. http://www.linux-kvm.org/page/Networking <|endoftext|> THanks I'm gonna go read up <|endoftext|> this will provide you an internal and external network... it should be noted that if one of your nics is wireless... this doesn't count. It will not bridge wireless. <|endoftext|> Yeah I thought I saw something about not being able to bridge wirless KK gimme a sec to read up on this L3top: I was doing right the first time... THe confusion was that my eth0 wasn't getting a ip and taking on the first dhcp ip from my pool.... I always use static and opened a pool of 10 ip's I planned to use for vm's.. Thanks for the read bro :)</s>\n",
      "Skipping sample because it is too long: <s>[INST] As an expert in Ubuntu, respond to this user query: User: i am having horrible time with mounting my external hdds. mainly my issue now is /dev/sd** changing from what i put in /etc/fstab. seems like everytime i come back to /media/ something has changed as far as whats mounted and what its folder name is. any ideas on any of this? <|endoftext|> pastebinit /etc/fstab You see the line at the top, where it says, \"Use 'blkid -o value -s UUID' to print the universally unique identifier...\" <|endoftext|> i am familiar <|endoftext|> use blkid value instead of /dev/sd* And I would use mount points of your choosing, not /media but just where-ever / what-ever you want. <|endoftext|> i have been down that road also, seemed the unique id wasnt always the same either i am used to /media is there a benifit of mounting elsewhere?  And yes seemed things changed <|endoftext|> What do you have on these devices? Is there a catagory or some sort of name you would give them? (other than A42c05932c056222 or My\\040Book?) Some sort of user-friendly name? (something more user friendly than ^^^) <|endoftext|> your saying give them a name that is simpler. i get that. <|endoftext|> Yea, what would you name these two devices? Can you thing of something? sudo mkdir /Storage1  Then run blkid and use the UUID for the fstab entry. That's all you need to do. But use a directory name that makes some sort of logical sense (to you). Instead of /dev/sdc1 /media/My\\040Book vfat defaults 0 0 use UUID=0a85df06-a39a-4084-b807-e809bc810bf7 /media/My\\040Book vfat defaults 0 0 <|endoftext|> i will go with the unique id and see if that works but i was sure they werent staic....wouldnt be the first time i was wrong :) and i will graciously accept your tips on a clean file system <|endoftext|> The key to file management is for YOU to make these decisions. You make directory \"Pictures\" for pictures and \"Videos\" for videos, \"Documents\" for documents... etc. So that the filesystem makes some sense. And I just use the root directory / It doesn't matter, it's just simple that way. <|endoftext|> it makes sense, im such a noob that i dont think to customize that way, i was just trying to copy the default way for best results. obviously no win. [/INST] Expert: i am having horrible time with mounting my external hdds. mainly my issue now is /dev/sd** changing from what i put in /etc/fstab. seems like everytime i come back to /media/ something has changed as far as whats mounted and what its folder name is. any ideas on any of this? <|endoftext|> pastebinit /etc/fstab You see the line at the top, where it says, \"Use 'blkid -o value -s UUID' to print the universally unique identifier...\" <|endoftext|> i am familiar <|endoftext|> use blkid value instead of /dev/sd* And I would use mount points of your choosing, not /media but just where-ever / what-ever you want. <|endoftext|> i have been down that road also, seemed the unique id wasnt always the same either i am used to /media is there a benifit of mounting elsewhere?  And yes seemed things changed <|endoftext|> What do you have on these devices? Is there a catagory or some sort of name you would give them? (other than A42c05932c056222 or My\\040Book?) Some sort of user-friendly name? (something more user friendly than ^^^) <|endoftext|> your saying give them a name that is simpler. i get that. <|endoftext|> Yea, what would you name these two devices? Can you thing of something? sudo mkdir /Storage1  Then run blkid and use the UUID for the fstab entry. That's all you need to do. But use a directory name that makes some sort of logical sense (to you). Instead of /dev/sdc1 /media/My\\040Book vfat defaults 0 0 use UUID=0a85df06-a39a-4084-b807-e809bc810bf7 /media/My\\040Book vfat defaults 0 0 <|endoftext|> i will go with the unique id and see if that works but i was sure they werent staic....wouldnt be the first time i was wrong :) and i will graciously accept your tips on a clean file system <|endoftext|> The key to file management is for YOU to make these decisions. You make directory \"Pictures\" for pictures and \"Videos\" for videos, \"Documents\" for documents... etc. So that the filesystem makes some sense. And I just use the root directory / It doesn't matter, it's just simple that way. <|endoftext|> it makes sense, im such a noob that i dont think to customize that way, i was just trying to copy the default way for best results. obviously no win.</s>\n",
      "Skipping sample because it is too long: <s>[INST] As an expert in Ubuntu, respond to this user query: User: before you start, what precisely did you do with gparted to'reformat' the drive? It may be possible to reverse that <|endoftext|> I was going to format my external and clicked the drop down to select it. the clicked format, apply. looked down after maybe 3 seconds and saw my mistake. hit cancel <|endoftext|> OK, but what did you configure on gparted before going ahead? a single primary partition? or a primary partition with an ext3/4 file-system within it? Those details will tell us how likely/easy it would be to revert <|endoftext|> sorry left that out, single primary ntfs partion containing windows xp <|endoftext|> OK, so the disk started off with a single primary partition with NTFS, and you wrote that again with gparted? I'm trying to understand what was on the disk before *and* after gparted was let loose :) <|endoftext|> yes, before - single primary windows xp partion at 500gigs, after single blank ntfs partion at 500gigs <|endoftext|> OK... If it wrote a new, blank, NTFS file-system to the partition it's likely it'll have over-written the $MFT (master file table). That pretty much means the structure and naming is a gonna There is a mirror of the MFT, but if gparted did the entire job then the mirror will have been replaced too. If you use testdisk, in the advanced menu, select the NTFS partition choose boot, then \"repair MFT\". <|endoftext|> I'm not sure but gpated only ran for may 2 seconds, ok i can try that. This is killing me. I've been organizing my files and lost alot of things i needed. I used photorec to recover files but it was a night mare. <|endoftext|> If it only ran for 2 seconds you might be in luck! <|endoftext|> 700 folders of uniquely named files, after i just finished renaming them <|endoftext|> I feel for you - in the past I've spent 3 weeks recovering NTFS file-systems for businesses <|endoftext|> its been about 2 weeks. got my important docs back, resume, job search etc back but need my system, lots of unique reg edit mods and batch files i wrote <|endoftext|> If the testdisk tools aren't enough there are commercial Windows tools you can use from a liveCD or BartPE CD <|endoftext|> should I make an image before trying your solution? <|endoftext|> If you have the spare capacity on another disk, yes! <|endoftext|> would you do a dd.img file or direct copy <|endoftext|> I'd just do \"dd if=/dev/sdX of=/dev/sdY\" if I've got a spare disk large enough <|endoftext|> ok, ill make a partion and do that. since there are files on my 1tb thaks for you advice and if you have any resources that may be useful I just joined the forums as pitviper296 [/INST] Expert: before you start, what precisely did you do with gparted to'reformat' the drive? It may be possible to reverse that <|endoftext|> I was going to format my external and clicked the drop down to select it. the clicked format, apply. looked down after maybe 3 seconds and saw my mistake. hit cancel <|endoftext|> OK, but what did you configure on gparted before going ahead? a single primary partition? or a primary partition with an ext3/4 file-system within it? Those details will tell us how likely/easy it would be to revert <|endoftext|> sorry left that out, single primary ntfs partion containing windows xp <|endoftext|> OK, so the disk started off with a single primary partition with NTFS, and you wrote that again with gparted? I'm trying to understand what was on the disk before *and* after gparted was let loose :) <|endoftext|> yes, before - single primary windows xp partion at 500gigs, after single blank ntfs partion at 500gigs <|endoftext|> OK... If it wrote a new, blank, NTFS file-system to the partition it's likely it'll have over-written the $MFT (master file table). That pretty much means the structure and naming is a gonna There is a mirror of the MFT, but if gparted did the entire job then the mirror will have been replaced too. If you use testdisk, in the advanced menu, select the NTFS partition choose boot, then \"repair MFT\". <|endoftext|> I'm not sure but gpated only ran for may 2 seconds, ok i can try that. This is killing me. I've been organizing my files and lost alot of things i needed. I used photorec to recover files but it was a night mare. <|endoftext|> If it only ran for 2 seconds you might be in luck! <|endoftext|> 700 folders of uniquely named files, after i just finished renaming them <|endoftext|> I feel for you - in the past I've spent 3 weeks recovering NTFS file-systems for businesses <|endoftext|> its been about 2 weeks. got my important docs back, resume, job search etc back but need my system, lots of unique reg edit mods and batch files i wrote <|endoftext|> If the testdisk tools aren't enough there are commercial Windows tools you can use from a liveCD or BartPE CD <|endoftext|> should I make an image before trying your solution? <|endoftext|> If you have the spare capacity on another disk, yes! <|endoftext|> would you do a dd.img file or direct copy <|endoftext|> I'd just do \"dd if=/dev/sdX of=/dev/sdY\" if I've got a spare disk large enough <|endoftext|> ok, ill make a partion and do that. since there are files on my 1tb thaks for you advice and if you have any resources that may be useful I just joined the forums as pitviper296</s>\n",
      "Skipping sample because it is too long: <s>[INST] As an expert in Ubuntu, respond to this user query: User: hi there. I have a scrip that I currently have to launch by cd'ing to the directory and./scriptname how can I make a alias of this? hold alt and right click to get any customization menus I think I dont use it though, may be wrong I just switched to cinnamon. so anyone know why./path/to/binary doesnt work to run a binary? yes I can run it fine if I am in that folder but doing./ with a path in it doesnt work <|endoftext|> then it is searching for some dependencies in the current folder strace -eopen./path/to/file <|endoftext|> strace? <|endoftext|> will tell you which files it is trying to open, output might look a bit messy if you are not used to it but first, what is the exact output that appears if you run it that way? <|endoftext|> strace -eopen./usr/local/minecraft/MCMA2_Linux_x86_64      strace:./usr/local/minecraft/MCMA2_Linux_x86_64: command not found it cant find the file <|endoftext|> try it without the first. <|endoftext|> runs fine, but in the wrong folder but./ also means run so how do I combine the two? <|endoftext|> nope, it does not. /usr/local/minecraft/MCMA2_Linux_x86_64 <|endoftext|> ah ok that mostly works <|endoftext|> it makes the difference between absolute and relative path <|endoftext|> but it's still launching in the wrong folder it needs to launch in ITS folder <|endoftext|> cd /usr/local/minecraft/MCMA2_Linux_x86_64 && /usr/local/minecraft/MCMA2_Linux_x86_64 <|endoftext|> basically what I am trying to do is run that in a screen. my current command has been cd /usr/local/minecraft/ and then./MCMAblahblah but I want to make an alias of that would I have to put the CD part into the screen command itself? <|endoftext|> alias runminecraft='cd /foo;./foo' [/INST] Expert: hi there. I have a scrip that I currently have to launch by cd'ing to the directory and./scriptname how can I make a alias of this? hold alt and right click to get any customization menus I think I dont use it though, may be wrong I just switched to cinnamon. so anyone know why./path/to/binary doesnt work to run a binary? yes I can run it fine if I am in that folder but doing./ with a path in it doesnt work <|endoftext|> then it is searching for some dependencies in the current folder strace -eopen./path/to/file <|endoftext|> strace? <|endoftext|> will tell you which files it is trying to open, output might look a bit messy if you are not used to it but first, what is the exact output that appears if you run it that way? <|endoftext|> strace -eopen./usr/local/minecraft/MCMA2_Linux_x86_64      strace:./usr/local/minecraft/MCMA2_Linux_x86_64: command not found it cant find the file <|endoftext|> try it without the first. <|endoftext|> runs fine, but in the wrong folder but./ also means run so how do I combine the two? <|endoftext|> nope, it does not. /usr/local/minecraft/MCMA2_Linux_x86_64 <|endoftext|> ah ok that mostly works <|endoftext|> it makes the difference between absolute and relative path <|endoftext|> but it's still launching in the wrong folder it needs to launch in ITS folder <|endoftext|> cd /usr/local/minecraft/MCMA2_Linux_x86_64 && /usr/local/minecraft/MCMA2_Linux_x86_64 <|endoftext|> basically what I am trying to do is run that in a screen. my current command has been cd /usr/local/minecraft/ and then./MCMAblahblah but I want to make an alias of that would I have to put the CD part into the screen command itself? <|endoftext|> alias runminecraft='cd /foo;./foo'</s>\n",
      "Skipping sample because it is too long: <s>[INST] As an expert in Ubuntu, respond to this user query: User: Did you found something? <|endoftext|> ahh there you are! No, I can't find any mention of where to get the headers or recent Linode kernels. You need to ask them. They have the IRC channel #linode on the OFTC IRc network where you can ask ? <|endoftext|> Then, what should I do? <|endoftext|> that makes sense... but strictly they are breaking the GNU GPL because if they distribute they must offer the sources themselves, not just palm you off to some other location! Best thing to do is install the 'git' version control system and clone the mainline kernel source. \"sudo apt-get install git\" followed by (in your home directory) \"git clone git://git.kernel.org/pub/scm/linux/kernel/git/torvalds/linux.git\" However, that doesn't help too much when you want the kernel headers to build against on a standard Ubuntu installation <|endoftext|> Will I have problems doing that? I don't want to break anything <|endoftext|> I think it'll make things unduly complicated for you if you're not experience at this stuff. What is it you need the kernel headers for? <|endoftext|> I want to mount an Asterisk + FreePBX server <|endoftext|> Linode's docs on that are out of date I think, too. http://www.linode.com/wiki/index.php/Asterisk have you seen this? http://library.linode.com/communications/voip-services <|endoftext|> I'll read it, thanks. See this answer from Linode Support ==> http://cl.ly/image/0U3N3R3h2h1W <|endoftext|> It's probably not worth arguing but I think the FSF would say different :) <|endoftext|> I'm surprised with their answer <|endoftext|> So am I. You rent the VPS instance and choose what to install in it. If you get the kernel from Linode, then they are distributing. I suggest a friendly email to Chris (he has always seemed like a nice guy to me when I've had dealings with him) copied to the FSF, might help [/INST] Expert: Did you found something? <|endoftext|> ahh there you are! No, I can't find any mention of where to get the headers or recent Linode kernels. You need to ask them. They have the IRC channel #linode on the OFTC IRc network where you can ask ? <|endoftext|> Then, what should I do? <|endoftext|> that makes sense... but strictly they are breaking the GNU GPL because if they distribute they must offer the sources themselves, not just palm you off to some other location! Best thing to do is install the 'git' version control system and clone the mainline kernel source. \"sudo apt-get install git\" followed by (in your home directory) \"git clone git://git.kernel.org/pub/scm/linux/kernel/git/torvalds/linux.git\" However, that doesn't help too much when you want the kernel headers to build against on a standard Ubuntu installation <|endoftext|> Will I have problems doing that? I don't want to break anything <|endoftext|> I think it'll make things unduly complicated for you if you're not experience at this stuff. What is it you need the kernel headers for? <|endoftext|> I want to mount an Asterisk + FreePBX server <|endoftext|> Linode's docs on that are out of date I think, too. http://www.linode.com/wiki/index.php/Asterisk have you seen this? http://library.linode.com/communications/voip-services <|endoftext|> I'll read it, thanks. See this answer from Linode Support ==> http://cl.ly/image/0U3N3R3h2h1W <|endoftext|> It's probably not worth arguing but I think the FSF would say different :) <|endoftext|> I'm surprised with their answer <|endoftext|> So am I. You rent the VPS instance and choose what to install in it. If you get the kernel from Linode, then they are distributing. I suggest a friendly email to Chris (he has always seemed like a nice guy to me when I've had dealings with him) copied to the FSF, might help</s>\n",
      "Skipping sample because it is too long: <s>[INST] As an expert in Ubuntu, respond to this user query: User: em i want to use sudo to run it not as root So what do i enter in rc.local to run teamspeak as the user teaamspeak? su teamspeak /opt/ts3/ts3server_startscript.sh start &  ? su -c /opt/ts3/ts3server_startscript.sh start & teamspeak lol Well maybe its second nature for you but its not for me Anyways it is not starting su -c /opt/ts3/ts3server_startscript.sh start teamspeak & it is possible <|endoftext|> \"su teamspeak -c /opt/ts3/ts3server_startscript.sh start\" *always* read the man-page! \"Additional arguments may be provided after the username, in which case they are supplied to the user's login shell. In particular, an argument of -c will cause the next argument to be treated as a command by most command interpreters\" Do you know about the teamspeak server package in the archives? It has a proper service start/stop script for upstart/sysv-init Yes... but it has the service wrapper, which you can usually trivially adapt for your own version did you install apache2-mod-php5? from the archives the same way as any other package. First identify its exact package-name then install it according to apt-file the package is \"libapache2-mod-php5\" \"archive\" means the Ubuntu software archives/repositories where all the free/open source software from Ubuntu is stored \"apt-file search /etc/php5/apache2\" I have the package \"apt-file\" installed to do that kind of thing. You can do it online at http://packages.ubuntu.com It refuse to install to the root \"/\" It removes the leading / from a path so, when the archive is unpacked, it can be done relative to the current directory You can use absolute-names / -P to explicitly work relative to root <|endoftext|> i still have no clue what the error message means <|endoftext|> The path of the files being put into the archive are having the leading \"/\" removed to make the paths relative rather than absolute Some non-GNU tar programs have problems with absolute paths so the default is to store relative paths. If the user wants to extract in the / directory they just ensure they use \"-C /\" or are in that directory when extracting redirect the errors to /dev/null maybe? <|endoftext|> so you are saying: dont pay attention to the warning <|endoftext|> What size are the sectors on the device? Sectors are usually 512 bytes, but on larger devices that drives the sector_offset value very large so sometimes the devices adopt 1024 byte sectors. That could confuse fdisk unless you tell it to work with the correct sector-size. Check /var/log/kern.log to see what sector-size the drive reports <|endoftext|> Sector size (logical/physical): 512 bytes / 4096 bytes <|endoftext|> OK, so the drive us using ATA-8 Advanced Format 4KB sectors <|endoftext|> i think so <|endoftext|> recent versions of fdisk should therefore put the start of the first partition at sector 2048. What is fdisk actually doing in your case? [/INST] Expert: em i want to use sudo to run it not as root So what do i enter in rc.local to run teamspeak as the user teaamspeak? su teamspeak /opt/ts3/ts3server_startscript.sh start &  ? su -c /opt/ts3/ts3server_startscript.sh start & teamspeak lol Well maybe its second nature for you but its not for me Anyways it is not starting su -c /opt/ts3/ts3server_startscript.sh start teamspeak & it is possible <|endoftext|> \"su teamspeak -c /opt/ts3/ts3server_startscript.sh start\" *always* read the man-page! \"Additional arguments may be provided after the username, in which case they are supplied to the user's login shell. In particular, an argument of -c will cause the next argument to be treated as a command by most command interpreters\" Do you know about the teamspeak server package in the archives? It has a proper service start/stop script for upstart/sysv-init Yes... but it has the service wrapper, which you can usually trivially adapt for your own version did you install apache2-mod-php5? from the archives the same way as any other package. First identify its exact package-name then install it according to apt-file the package is \"libapache2-mod-php5\" \"archive\" means the Ubuntu software archives/repositories where all the free/open source software from Ubuntu is stored \"apt-file search /etc/php5/apache2\" I have the package \"apt-file\" installed to do that kind of thing. You can do it online at http://packages.ubuntu.com It refuse to install to the root \"/\" It removes the leading / from a path so, when the archive is unpacked, it can be done relative to the current directory You can use absolute-names / -P to explicitly work relative to root <|endoftext|> i still have no clue what the error message means <|endoftext|> The path of the files being put into the archive are having the leading \"/\" removed to make the paths relative rather than absolute Some non-GNU tar programs have problems with absolute paths so the default is to store relative paths. If the user wants to extract in the / directory they just ensure they use \"-C /\" or are in that directory when extracting redirect the errors to /dev/null maybe? <|endoftext|> so you are saying: dont pay attention to the warning <|endoftext|> What size are the sectors on the device? Sectors are usually 512 bytes, but on larger devices that drives the sector_offset value very large so sometimes the devices adopt 1024 byte sectors. That could confuse fdisk unless you tell it to work with the correct sector-size. Check /var/log/kern.log to see what sector-size the drive reports <|endoftext|> Sector size (logical/physical): 512 bytes / 4096 bytes <|endoftext|> OK, so the drive us using ATA-8 Advanced Format 4KB sectors <|endoftext|> i think so <|endoftext|> recent versions of fdisk should therefore put the start of the first partition at sector 2048. What is fdisk actually doing in your case?</s>\n",
      "Skipping sample because it is too long: <s>[INST] As an expert in Ubuntu, respond to this user query: User: When installing ubuntu, what do I select for \"Device for boot loader installation\"? I installed 4 times now and all I ever get is \"grub error: no such partition\" or \": no such file\"... <|endoftext|> the bootloader goes on the mbr of the hd you are installing to normally. ie: 'sda' for most single hd systems  if you are installing to a 2nd hd. or a usb. it might need to be sdb or sdc <|endoftext|> that's what I did... sda - and that's where it boots from. no seperate screens. not until 12.04 - but if there is such a hotkey i'd gladly know it... <|endoftext|> i dont recall ever needing or using the seperate X sessions,m or when ever i did. i just had a blank display on the right side with no wm/no apps. and mouseing over to it dident work. No idea about your pointer wrapping around. <|endoftext|> it's related to 12.10 - before, it used to work just fine for 10.04 through 12.04 <|endoftext|> i dont recall it working ever. :) but then agian. i only recall trying it a few times.  let me find a 2nd monitor. :) <|endoftext|> it works in so far as I can see the other x screen... it's there, up and running. i just can't get the mouse there... do you know how or where the mouse is configured... i suspect 12.10 has a slightly different way of handling the HIDs than 12.04... my x configuration is the same as before... <|endoftext|> if its not in xorg.conf im not sure where else it could be.  try it with a differnt window maanger? could be some weirdness with unity/compiz  i just found the stuff to get my 2nd monitor going.. hot plugged it in.. twinview automatically turned on.. Nifty. <|endoftext|> i'm on xfce anyway... twinview is nice - up to the point where you want to fully use your two screens and run one application in full screen mode each... [/INST] Expert: When installing ubuntu, what do I select for \"Device for boot loader installation\"? I installed 4 times now and all I ever get is \"grub error: no such partition\" or \": no such file\"... <|endoftext|> the bootloader goes on the mbr of the hd you are installing to normally. ie: 'sda' for most single hd systems  if you are installing to a 2nd hd. or a usb. it might need to be sdb or sdc <|endoftext|> that's what I did... sda - and that's where it boots from. no seperate screens. not until 12.04 - but if there is such a hotkey i'd gladly know it... <|endoftext|> i dont recall ever needing or using the seperate X sessions,m or when ever i did. i just had a blank display on the right side with no wm/no apps. and mouseing over to it dident work. No idea about your pointer wrapping around. <|endoftext|> it's related to 12.10 - before, it used to work just fine for 10.04 through 12.04 <|endoftext|> i dont recall it working ever. :) but then agian. i only recall trying it a few times.  let me find a 2nd monitor. :) <|endoftext|> it works in so far as I can see the other x screen... it's there, up and running. i just can't get the mouse there... do you know how or where the mouse is configured... i suspect 12.10 has a slightly different way of handling the HIDs than 12.04... my x configuration is the same as before... <|endoftext|> if its not in xorg.conf im not sure where else it could be.  try it with a differnt window maanger? could be some weirdness with unity/compiz  i just found the stuff to get my 2nd monitor going.. hot plugged it in.. twinview automatically turned on.. Nifty. <|endoftext|> i'm on xfce anyway... twinview is nice - up to the point where you want to fully use your two screens and run one application in full screen mode each...</s>\n",
      "Skipping sample because it is too long: <s>[INST] As an expert in Ubuntu, respond to this user query: User: is there any hope on the near horizon for a working ati radeon 4670 ++ ubuntu 12.10/xserver configuration? <|endoftext|> it works you must not use fglrx however only if you want unity to work and have a decent resolution <|endoftext|> ill give that a go and report back =) <|endoftext|> well, if you have a agp card doesn't help of course <|endoftext|> ok just so I'm clear so I don't reproduce this on other boxes that currently have 12.04, fglrx... what is the proper way to upgrade to 12.10 when using <radeon hd 5 series? Did I miss an option ditch fglrx? <|endoftext|> http://www.phoronix.com/scan.php?page=news_item&px=MTExMzU <|endoftext|> gonna rollback i think <|endoftext|> rollback to what? and what is that you don't like about radeon? <|endoftext|>  at this point i just don't have confidence in letting my customers upgrade to 12.10 when they have ati radeon less than 5.x... most likely from my lack of knowlege <|endoftext|> you should never upgrade ubuntu in the first month of release (imho) unless you want to be a beta tester <|endoftext|>  well going to rollback this particular test box. thanks for your help, greatly appreciated. <|endoftext|> no. intel is very supportive for example. out of intel, only two others actually exist and they are supportive too, up to a point you use a videocard which isn't even supported by the manufacturer of the chip and then complain it doesn't work very well? also: what is the problem with \"radeon\" driver? <|endoftext|>  well the default upgrade situ is bad for those with 12.04 and ati radeon less than 5.x <|endoftext|> that didn't answer my question: why don't you like the \"radeon\" driver as you said earlier? <|endoftext|>  well initially i had a 12.04 setup with... i believe the catalyst drivers (not sure to be truthful)... that worked... meh... enough.  Im pretty sure it wasnt using the full extent of it.  After an upgrade.... omg.  It reminded me of the upgrade from 11.04 to 11.10.  Im positive its an AMD thing tho   i just think i can no longer refer my customers to ati/amd <|endoftext|> if you think that then you need to say the same about nvidia or any proprietary drivers <|endoftext|> what is my best recommendation for ubuntu/nux then? [/INST] Expert: is there any hope on the near horizon for a working ati radeon 4670 ++ ubuntu 12.10/xserver configuration? <|endoftext|> it works you must not use fglrx however only if you want unity to work and have a decent resolution <|endoftext|> ill give that a go and report back =) <|endoftext|> well, if you have a agp card doesn't help of course <|endoftext|> ok just so I'm clear so I don't reproduce this on other boxes that currently have 12.04, fglrx... what is the proper way to upgrade to 12.10 when using <radeon hd 5 series? Did I miss an option ditch fglrx? <|endoftext|> http://www.phoronix.com/scan.php?page=news_item&px=MTExMzU <|endoftext|> gonna rollback i think <|endoftext|> rollback to what? and what is that you don't like about radeon? <|endoftext|>  at this point i just don't have confidence in letting my customers upgrade to 12.10 when they have ati radeon less than 5.x... most likely from my lack of knowlege <|endoftext|> you should never upgrade ubuntu in the first month of release (imho) unless you want to be a beta tester <|endoftext|>  well going to rollback this particular test box. thanks for your help, greatly appreciated. <|endoftext|> no. intel is very supportive for example. out of intel, only two others actually exist and they are supportive too, up to a point you use a videocard which isn't even supported by the manufacturer of the chip and then complain it doesn't work very well? also: what is the problem with \"radeon\" driver? <|endoftext|>  well the default upgrade situ is bad for those with 12.04 and ati radeon less than 5.x <|endoftext|> that didn't answer my question: why don't you like the \"radeon\" driver as you said earlier? <|endoftext|>  well initially i had a 12.04 setup with... i believe the catalyst drivers (not sure to be truthful)... that worked... meh... enough.  Im pretty sure it wasnt using the full extent of it.  After an upgrade.... omg.  It reminded me of the upgrade from 11.04 to 11.10.  Im positive its an AMD thing tho   i just think i can no longer refer my customers to ati/amd <|endoftext|> if you think that then you need to say the same about nvidia or any proprietary drivers <|endoftext|> what is my best recommendation for ubuntu/nux then?</s>\n",
      "Skipping sample because it is too long: <s>[INST] As an expert in Ubuntu, respond to this user query: User: is this computer you're trying to install on a macbook air by chance? <|endoftext|> Macbook Pro 13-inch, mountain lion, intel i5, 4gb ram <|endoftext|> this suggests you may want to use the nointremap kernel/boot option to run the installer: http://ubuntuforums.org/showthread.php?t=2006289 do you know how to do this? <|endoftext|> i'll look on the site first :P i don't think i could do it. I can't find the solution? <|endoftext|> on the boot screen, press F6 (\"other\") and select \"noapic\" on the boot screen, press F6 (\"other\") and select \"noapic\" <|endoftext|> i'll try it :) hey i tried noacpi but i got another kernel panic :/ \"kernel panic - not syncing: Attempted to kill init\" and nomodeset for the graphic comm: init Not tainted <|endoftext|> how do you mean you got \"nomodeset for the graphic\"? did you set it yourself, or did the installer suggest you use it? <|endoftext|> i set myself nomodeset to not get black screen after choosing \"install ubuntu\" <|endoftext|> boot again, press F6 again, then hit escape once to close this popup menu. you now have the boot line editable. https://help.ubuntu.com/community/BootOptions#Changing_the_CD_Boot_Option_Configuration_Line there, add this to the very end: nointremap this is based on http://ubuntuforums.org/showthread.php?t=2006289 <|endoftext|> i'll try :P i've always got errors and problems when doing something :/ hey tom, adding nointremap at the end didn't help I set nomodeset, noacpi and typed nointremap on the bootline but still gets kernel panic - not syncing: attempted to kill init! comm: init not tainted. <|endoftext|> i meant the nointremap to replace the noapic option actually. but chances are this may not work out then either. it could help to have the entire error message available. do you think you could tyoe it or take a photo and upload it? <|endoftext|> i can upload it and link it https://www.dropbox.com/s/7dwzo28oprt90gi/2012-09-08%2017.14.39.jpg and https://www.dropbox.com/s/dqvc57qkp2p21tx/2012-09-08%2016.20.41.jpg <|endoftext|> now which is which? i mean which one do you get to see first? or do you only get to see one of those but the other if you have other boot params in place? which one do you get with no boot params in place? <|endoftext|> i think it's only https://www.dropbox.com/s/7dwzo28oprt90gi/2012-09-08%2017.14.39.jpg :P <|endoftext|> that's the one you get with no boot params in place? [/INST] Expert: is this computer you're trying to install on a macbook air by chance? <|endoftext|> Macbook Pro 13-inch, mountain lion, intel i5, 4gb ram <|endoftext|> this suggests you may want to use the nointremap kernel/boot option to run the installer: http://ubuntuforums.org/showthread.php?t=2006289 do you know how to do this? <|endoftext|> i'll look on the site first :P i don't think i could do it. I can't find the solution? <|endoftext|> on the boot screen, press F6 (\"other\") and select \"noapic\" on the boot screen, press F6 (\"other\") and select \"noapic\" <|endoftext|> i'll try it :) hey i tried noacpi but i got another kernel panic :/ \"kernel panic - not syncing: Attempted to kill init\" and nomodeset for the graphic comm: init Not tainted <|endoftext|> how do you mean you got \"nomodeset for the graphic\"? did you set it yourself, or did the installer suggest you use it? <|endoftext|> i set myself nomodeset to not get black screen after choosing \"install ubuntu\" <|endoftext|> boot again, press F6 again, then hit escape once to close this popup menu. you now have the boot line editable. https://help.ubuntu.com/community/BootOptions#Changing_the_CD_Boot_Option_Configuration_Line there, add this to the very end: nointremap this is based on http://ubuntuforums.org/showthread.php?t=2006289 <|endoftext|> i'll try :P i've always got errors and problems when doing something :/ hey tom, adding nointremap at the end didn't help I set nomodeset, noacpi and typed nointremap on the bootline but still gets kernel panic - not syncing: attempted to kill init! comm: init not tainted. <|endoftext|> i meant the nointremap to replace the noapic option actually. but chances are this may not work out then either. it could help to have the entire error message available. do you think you could tyoe it or take a photo and upload it? <|endoftext|> i can upload it and link it https://www.dropbox.com/s/7dwzo28oprt90gi/2012-09-08%2017.14.39.jpg and https://www.dropbox.com/s/dqvc57qkp2p21tx/2012-09-08%2016.20.41.jpg <|endoftext|> now which is which? i mean which one do you get to see first? or do you only get to see one of those but the other if you have other boot params in place? which one do you get with no boot params in place? <|endoftext|> i think it's only https://www.dropbox.com/s/7dwzo28oprt90gi/2012-09-08%2017.14.39.jpg :P <|endoftext|> that's the one you get with no boot params in place?</s>\n",
      "Processing context 1000 of 1000..."
     ]
    }
   ],
   "source": [
    "# Prepare test data for Llama2\n",
    "# Need to format the data with the special tokens expected by Llama2\n",
    "llama_prompts = []\n",
    "llama_ground_truths = []\n",
    "\n",
    "llama_samples = test_data_inputs\n",
    "llama_labels = test_data_labels\n",
    "\n",
    "llama_tokenizer = AutoTokenizer.from_pretrained(llama2_fine_tuned, padding_side='right')\n",
    "llama_tokenizer.pad_token = llama_tokenizer.eos_token\n",
    "_, _, test_data_samples = llama_split_window_and_tokenize(llama_samples, llama_labels, llama_tokenizer)\n",
    "\n",
    "for sample in test_data_samples:\n",
    "    # Split the instruction and response\n",
    "    sample = sample['text']\n",
    "    inst_start = sample.find('<s>')\n",
    "    inst_end = sample.find('[/INST]') + len('[/INST]')\n",
    "    instruction = sample[inst_start:inst_end].strip()\n",
    "    \n",
    "    resp_start = sample.find('[/INST]') + len('[/INST]')\n",
    "    response = sample[resp_start:].strip()\n",
    "\n",
    "    llama_prompts.append(instruction)\n",
    "    llama_ground_truths.append(response)"
   ],
   "metadata": {
    "collapsed": false,
    "ExecuteTime": {
     "end_time": "2023-10-22T07:56:18.346640601Z",
     "start_time": "2023-10-22T07:56:17.679543004Z"
    }
   }
  },
  {
   "cell_type": "code",
   "execution_count": 243,
   "outputs": [],
   "source": [
    "gpt2_dataset = Dataset.from_dict({'prompts': gpt2_prompts, 'ground_truths': gpt2_ground_truths})\n",
    "llama_dataset = Dataset.from_dict({'prompts': llama_prompts, 'ground_truths': llama_ground_truths})"
   ],
   "metadata": {
    "collapsed": false,
    "ExecuteTime": {
     "end_time": "2023-10-22T07:57:13.830869602Z",
     "start_time": "2023-10-22T07:57:13.800802306Z"
    }
   }
  },
  {
   "cell_type": "code",
   "execution_count": 132,
   "outputs": [],
   "source": [
    "# set up the data loaders\n",
    "batch_size = 16\n",
    "\n",
    "gpt2_data_loader = DataLoader(gpt2_dataset, batch_size=batch_size, shuffle=False)\n",
    "llama_data_loader = DataLoader(llama_dataset, batch_size=batch_size, shuffle=False)"
   ],
   "metadata": {
    "collapsed": false,
    "ExecuteTime": {
     "end_time": "2023-10-22T05:46:01.485472212Z",
     "start_time": "2023-10-22T05:46:01.422845978Z"
    }
   }
  },
  {
   "cell_type": "markdown",
   "source": [
    "## Evaluate Base Model - Dialo Medium"
   ],
   "metadata": {
    "collapsed": false
   }
  },
  {
   "cell_type": "code",
   "execution_count": 106,
   "outputs": [],
   "source": [
    "# Load the first model\n",
    "base_tokenizer = AutoTokenizer.from_pretrained(base_model_hf, padding_side='left')\n",
    "base_tokenizer.padding_side = 'left'\n",
    "base_tokenizer.pad_token = base_tokenizer.eos_token\n",
    "base_model = AutoModelForCausalLM.from_pretrained(base_model_hf, pad_token_id=base_tokenizer.eos_token_id, device_map='auto')"
   ],
   "metadata": {
    "collapsed": false,
    "ExecuteTime": {
     "end_time": "2023-10-22T05:33:58.434527142Z",
     "start_time": "2023-10-22T05:33:57.112753850Z"
    }
   }
  },
  {
   "cell_type": "code",
   "execution_count": null,
   "outputs": [],
   "source": [
    "# Load the gpt2-medium model\n",
    "medium_tokenizer = AutoTokenizer.from_pretrained(gpt2_medium_fine_tuned, padding_side='left')\n",
    "medium_tokenizer.pad_token = medium_tokenizer.eos_token\n",
    "gpt2_medium_model = AutoModelForCausalLM.from_pretrained(gpt2_medium_fine_tuned, pad_token_id=medium_tokenizer.eos_token_id, device_map='auto')"
   ],
   "metadata": {
    "collapsed": false
   }
  },
  {
   "cell_type": "code",
   "execution_count": null,
   "outputs": [],
   "source": [
    "# Load the gpt2-large model\n",
    "large_tokenizer = AutoTokenizer.from_pretrained(gpt2_large_fine_tuned, padding_side='left')\n",
    "large_tokenizer.pad_token = large_tokenizer.eos_token\n",
    "gpt2_large_model = AutoModelForCausalLM.from_pretrained(gpt2_large_fine_tuned, pad_token_id=large_tokenizer.eos_token_id, device_map='auto')"
   ],
   "metadata": {
    "collapsed": false
   }
  },
  {
   "cell_type": "code",
   "execution_count": null,
   "outputs": [],
   "source": [
    "# Load the Llama2 model\n",
    "llama_tokenizer = AutoTokenizer.from_pretrained(llama2_fine_tuned, padding_side='right')\n",
    "llama_tokenizer.pad_token = llama_tokenizer.eos_token\n",
    "llama_model = AutoModelForCausalLM.from_pretrained(llama2_fine_tuned, pad_token_id=llama_tokenizer.eos_token_id, device_map='auto')"
   ],
   "metadata": {
    "collapsed": false
   }
  },
  {
   "cell_type": "code",
   "execution_count": 149,
   "outputs": [],
   "source": [
    "gpt2_generation_config = GenerationConfig(max_length=1024,\n",
    "                                          min_new_tokens=32,\n",
    "                                          num_return_sequences=1,\n",
    "                                          repetition_penalty=1.1,\n",
    "                                          do_sample=True)"
   ],
   "metadata": {
    "collapsed": false,
    "ExecuteTime": {
     "end_time": "2023-10-22T05:51:46.091448062Z",
     "start_time": "2023-10-22T05:51:46.014310623Z"
    }
   }
  },
  {
   "cell_type": "code",
   "execution_count": null,
   "outputs": [],
   "source": [
    "llama_generation_config = GenerationConfig(max_new_tokens=250, \n",
    "                                           do_sample=True, \n",
    "                                           top_k=50, \n",
    "                                           eos_token_id=llama_tokenizer.eos_token_id,\n",
    "                                           temperature=0.8, \n",
    "                                           pad_token_id=2, \n",
    "                                           num_return_sequences=1, \n",
    "                                           min_new_tokens=30, \n",
    "                                           repetition_penalty=1.2)"
   ],
   "metadata": {
    "collapsed": false
   }
  },
  {
   "cell_type": "code",
   "execution_count": 151,
   "outputs": [
    {
     "name": "stderr",
     "output_type": "stream",
     "text": [
      " 16%|█▌        | 10/63 [00:31<02:41,  3.05s/it]/home/jthomas/Documents/AAI520/final-project/myenv/lib/python3.10/site-packages/transformers/pipelines/base.py:1101: UserWarning: You seem to be using the pipelines sequentially on GPU. In order to maximize efficiency please use a dataset\n",
      "  warnings.warn(\n",
      "100%|██████████| 63/63 [03:08<00:00,  2.99s/it]\n"
     ]
    }
   ],
   "source": [
    "device = torch.device(\"cuda\" if torch.cuda.is_available() else \"cpu\")\n",
    "\n",
    "base_generator = pipeline(task=\"text-generation\", model=base_model, tokenizer=base_tokenizer)\n",
    "# Generate responses in batches\n",
    "\n",
    "\n",
    "# Initialize an empty list to hold generated responses\n",
    "base_generated_responses = []\n",
    "for batch in tqdm(gpt2_data_loader):\n",
    "    # Generate response using the Llama2 model\n",
    "    generated_response = base_generator(batch['prompts'], **gpt2_generation_config.to_dict())\n",
    "    for response in generated_response:\n",
    "        base_generated_responses.append(response[0]['generated_text'])"
   ],
   "metadata": {
    "collapsed": false,
    "ExecuteTime": {
     "end_time": "2023-10-22T05:56:28.915425822Z",
     "start_time": "2023-10-22T05:53:20.605774532Z"
    }
   }
  },
  {
   "cell_type": "code",
   "execution_count": 152,
   "outputs": [
    {
     "data": {
      "text/plain": "'hi. i want to install ubuntu,solaris and windows on the same hard. in what order should i install them? i know you have to install windows first...  <|endoftext|> Solaris sucks in everyway compared to Linux, why would you even want it?  <|endoftext|> i need to learn it...  <|endoftext|>Then learn linux?'"
     },
     "execution_count": 152,
     "metadata": {},
     "output_type": "execute_result"
    }
   ],
   "source": [
    "base_generated_responses[23]"
   ],
   "metadata": {
    "collapsed": false,
    "ExecuteTime": {
     "end_time": "2023-10-22T05:57:31.692500687Z",
     "start_time": "2023-10-22T05:57:31.636779943Z"
    }
   }
  },
  {
   "cell_type": "code",
   "execution_count": 153,
   "outputs": [
    {
     "name": "stdout",
     "output_type": "stream",
     "text": [
      "Then learn linux?\n"
     ]
    }
   ],
   "source": [
    "print(base_generated_responses[23].replace(gpt2_prompts[23], ''))"
   ],
   "metadata": {
    "collapsed": false,
    "ExecuteTime": {
     "end_time": "2023-10-22T05:57:35.011200978Z",
     "start_time": "2023-10-22T05:57:34.980614012Z"
    }
   }
  },
  {
   "cell_type": "code",
   "execution_count": 154,
   "outputs": [],
   "source": [
    "responses_to_score = [text.replace(prompt, '') for text, prompt in zip(base_generated_responses, gpt2_prompts)]"
   ],
   "metadata": {
    "collapsed": false,
    "ExecuteTime": {
     "end_time": "2023-10-22T05:57:47.099724917Z",
     "start_time": "2023-10-22T05:57:47.060466700Z"
    }
   }
  },
  {
   "cell_type": "code",
   "execution_count": 167,
   "outputs": [
    {
     "name": "stdout",
     "output_type": "stream",
     "text": [
      "Skipping due to error: Hypothesis is empty.\n",
      "Problematic candidate: '', reference: 'ok.  did you try \"sudo apt-get install b43-fwcutter firmware-b43-installer\"  '\n",
      "Skipping due to error: Hypothesis is empty.\n",
      "Problematic candidate: '', reference: 'why not follow the 12.04 guide?  just change 11.04 to 12.04 in your url (the guide may be the same, I don't know)  '\n",
      "Skipping due to error: Hypothesis is empty.\n",
      "Problematic candidate: '', reference: 'ty, ill try commenting it out  gonna give her a reboot, be back soon  that did work, I am now in unity2D  i'm going to try to make sense of the compiz crash now  '\n",
      "Skipping due to error: Hypothesis is empty.\n",
      "Problematic candidate: '', reference: 'oh. Well, I may look into that. Nonetheless, Blender works best with several windows. So I'm still looking for a dynamic wm that acts reasonable.  '\n",
      "Skipping due to error: Hypothesis is empty.\n",
      "Problematic candidate: '', reference: 'It works now. Changing  HorizSync to 30.000-81.00 and everything works as expected. Thanks :)  '\n",
      "Skipping due to error: Hypothesis is empty.\n",
      "Problematic candidate: '', reference: 'do it using synapptic  hi labcoattech  '\n",
      "Skipping due to error: Hypothesis is empty.\n",
      "Problematic candidate: '', reference: 'lol  '\n",
      "Skipping due to error: Hypothesis is empty.\n",
      "Problematic candidate: '', reference: 'in my 'dmesg' I have a load of lines from \"EXT4-fs\" when it mounted and'recovered' my filesystem (i had powercut...)  ok have you learnt anything? is your filessytem getting remounted / error-marked when shutting down?  '\n",
      "Skipping due to error: Hypothesis is empty.\n",
      "Problematic candidate: '', reference: 'I had virtualbox-4.2 package installed before thats where my vm is from  repos  '\n",
      "Skipping due to error: Hypothesis is empty.\n",
      "Problematic candidate: '', reference: 'sorry lunch called.. nope no java.. python and a bit of mysql  '\n",
      "Skipping due to error: Hypothesis is empty.\n",
      "Problematic candidate: '', reference: 'Thanks for the offer.  I have installed Ubuntu several times no, so I think I am good.  '\n",
      "Skipping due to error: Hypothesis is empty.\n",
      "Problematic candidate: '', reference: 'yes i know  '\n",
      "Skipping due to error: Hypothesis is empty.\n",
      "Problematic candidate: '.', reference: 'should I just switch to awesome/i3/some other tiling wm?  '\n",
      "Skipping due to error: Hypothesis is empty.\n",
      "Problematic candidate: '', reference: 'That is why I told you to install it  to see what happened  Solve the problem before advising  '\n",
      "Skipping due to error: Hypothesis is empty.\n",
      "Problematic candidate: '', reference: 'and for software with ubuntu is impossible?  http://ubuntu-cpu-thermometer.fyxm.net/  '\n",
      "Skipping due to error: Hypothesis is empty.\n",
      "Problematic candidate: '', reference: 'that i know but when i try it says no such file or directory  '\n",
      "Skipping due to error: Hypothesis is empty.\n",
      "Problematic candidate: '', reference: 'yup  '\n",
      "Skipping due to error: Hypothesis is empty.\n",
      "Problematic candidate: '', reference: 'giving double size of Random access memory is no more recommended in core i series processors, I jave i5..and 4G of RAm..is 4G OK for swap space?  '\n",
      "Skipping due to error: Hypothesis is empty.\n",
      "Problematic candidate: '', reference: 'do you intend to be helpful with this, or are you just going to insult me?  '\n",
      "Skipping due to error: Hypothesis is empty.\n",
      "Problematic candidate: '', reference: 'seriously doubt that, the vm uses a virtual gpu afaik and not the hardware. there's also #vbox if you dont get any answers here  '\n",
      "Skipping due to error: Hypothesis is empty.\n",
      "Problematic candidate: '..', reference: 'pastebin.org this output: ifconfig  and: cat /etc/resolv.conf  '\n",
      "Skipping due to error: Hypothesis is empty.\n",
      "Problematic candidate: '', reference: 'okay, but this is still incomplete then:  \"And if I drag a window to close to the top, it's resized to full height, top to bottom (and it's a bit hard t\"  '\n",
      "Skipping due to error: Hypothesis is empty.\n",
      "Problematic candidate: '', reference: 'I did. Thanx a lot. This update wasn't best moment in my life  '\n",
      "Skipping due to error: Hypothesis is empty.\n",
      "Problematic candidate: '', reference: 'I think that is the case.  It's gmail.  '\n",
      "Skipping due to error: Hypothesis is empty.\n",
      "Problematic candidate: '', reference: 'do you use vlc?  >  '\n",
      "Skipping due to error: Hypothesis is empty.\n",
      "Problematic candidate: '', reference: 'Just do lspci  and see if you can find the line that identifies the wireless card.  All you had to do is tell us it is BCM4311  '\n",
      "Skipping due to error: Hypothesis is empty.\n",
      "Problematic candidate: '', reference: 'it said it found some things :/ now what  '\n",
      "Skipping due to error: Hypothesis is empty.\n",
      "Problematic candidate: '', reference: 'since when does the apt-get errors show \"localhost:4401\"?  '\n",
      "Skipping due to error: Hypothesis is empty.\n",
      "Problematic candidate: '', reference: 'i tried that, but no success  should i be asking this in some other channel?  '\n",
      "Skipping due to error: Hypothesis is empty.\n",
      "Problematic candidate: '', reference: 'http://paste.ubuntu.com/1370909/  '\n",
      "Skipping due to error: Hypothesis is empty.\n",
      "Problematic candidate: '', reference: 'Okay thanks for that advice. Do you know where I could find a good guide on how to get 2 seperate x sessions working on 2 different GPUs?  '\n",
      "Skipping due to error: Hypothesis is empty.\n",
      "Problematic candidate: '', reference: 'what is the *other application* that requires libboost-dev?  '\n",
      "Skipping due to error: Hypothesis is empty.\n",
      "Problematic candidate: '', reference: 'If the system doesn't have more than 4GB of RAM, 64-bit will impose a space penalty since addresses used in programs in RAM take up double the space of 32-bit  but 64-bit CPUs have more general purpose registers so many programs (if compiled correctly) can benefit from fast execution times since the CPU doesn't have to keep storing variables in memory  '\n",
      "Skipping due to error: Hypothesis is empty.\n",
      "Problematic candidate: '.', reference: 'true  '\n",
      "Skipping due to error: Hypothesis is empty.\n",
      "Problematic candidate: '', reference: 'yeah thats what i use, but it seems to not be working  should i upload a screenshot and post here to show you what it does?  '\n",
      "Skipping due to error: Hypothesis is empty.\n",
      "Problematic candidate: '', reference: 'nice  '\n",
      "Skipping due to error: Hypothesis is empty.\n",
      "Problematic candidate: '', reference: 'display manager..  '\n",
      "Skipping due to error: Hypothesis is empty.\n",
      "Problematic candidate: '', reference: 'How can I check that?  I'm new to switching OSes..  '\n",
      "Skipping due to error: Hypothesis is empty.\n",
      "Problematic candidate: '', reference: 'Didn't work for me. I have no /appa/indicators/datetime in dconf-editor  '\n",
      "Skipping due to error: Hypothesis is empty.\n",
      "Problematic candidate: '', reference: 'sorry that wasn't too helpful ;-)  mono-runtime is the package you want, i think. mono is an attempt to port the windows.NET framework / runtime /development environment to POSIX systems  '\n",
      "Skipping due to error: Hypothesis is empty.\n",
      "Problematic candidate: '.', reference: 'Well the graphics seem to be working fine. Iǘe been trying to figure out where the compiz files are but I don think that will be too hard.  in a support channel it is XD  Well, itś not Unity thatś giving me problems. Itś the package management  Both Synaptic and Aptitude aren resolving dependencies correctly..  '\n",
      "Skipping due to error: Hypothesis is empty.\n",
      "Problematic candidate: '', reference: 'ah. wrong direction. If the package is 32-bit, you need the 32-bit libraries.  There is a package in 64-bit 11.10 that installs most 32-bit libraries  I am running 12.04, and can't remember the name of the 11.10 meta-package  '\n",
      "Skipping due to error: Hypothesis is empty.\n",
      "Problematic candidate: '', reference: 'okay. In nautilus as ROOT I can access the drive, as a mere user NOGO. it didn't work :-(  '\n",
      "Skipping due to error: Hypothesis is empty.\n",
      "Problematic candidate: '', reference: 'That is a good question, and well thought-out. I hope someone here knows how to disable video drivers from the command line, because it's much too late for me to remember.  '\n",
      "Skipping due to error: Hypothesis is empty.\n",
      "Problematic candidate: '', reference: 'did not read back that far i mean to see he has vps, thought its a shared hosting.P  '\n",
      "Skipping due to error: Hypothesis is empty.\n",
      "Problematic candidate: '', reference: 'if you're still using the partition for some reason, yeah  yes, do as ActionParsnip says  '\n",
      "Skipping due to error: Hypothesis is empty.\n",
      "Problematic candidate: '', reference: 'yeah one second while I boot from it again  if the partition table is gpt will I lose all my files when it was switched from mbr?  '\n",
      "Skipping due to error: Hypothesis is empty.\n",
      "Problematic candidate: '', reference: 'how long have you used both?  '\n",
      "Skipping due to error: Hypothesis is empty.\n",
      "Problematic candidate: '', reference: 'installing now  '\n",
      "Skipping due to error: Hypothesis is empty.\n",
      "Problematic candidate: '', reference: 'okay, thanks anyway... i am just annoyed of running as root.  '\n",
      "Skipping due to error: Hypothesis is empty.\n",
      "Problematic candidate: '', reference: '/boot/ can be on LVM.  '\n",
      "Skipping due to error: Hypothesis is empty.\n",
      "Problematic candidate: '', reference: 'Niiiiiiice!!!!  I was using alt+spacebar and although it said move wouldn't let me. Thanks so much, it seemed like such a silly problem to have, lol!!  '\n",
      "Skipping due to error: Hypothesis is empty.\n",
      "Problematic candidate: '', reference: ':-)  You are welcome  '\n",
      "Skipping due to error: Hypothesis is empty.\n",
      "Problematic candidate: '', reference: 'I don't have backups  '\n",
      "Skipping due to error: Hypothesis is empty.\n",
      "Problematic candidate: '', reference: 'I wrote it down. Going to try right now. Thank you so much, I wish you happiness. Really. See you around!  '\n",
      "Skipping due to error: Hypothesis is empty.\n",
      "Problematic candidate: '', reference: 'nautilus was slowing down every folder window. So I couldn't even open my music folder.  '\n",
      "Skipping due to error: Hypothesis is empty.\n",
      "Problematic candidate: '', reference: 'a manual for a piece of software that builds an entire OS from lots of little bits, from lots of different possible sources, and puts it together in one of several bootable formats, tends to get a bit verbose  '\n",
      "Skipping due to error: Hypothesis is empty.\n",
      "Problematic candidate: '', reference: 'well did my first suggestion work?  If not then you need to be pastebinning more info  '\n",
      "Skipping due to error: Hypothesis is empty.\n",
      "Problematic candidate: '', reference: 'but I would like to write virtualhost name and get to a specified url on the host, like that I would need to specifiy the path..  '\n",
      "Skipping due to error: Hypothesis is empty.\n",
      "Problematic candidate: '', reference: 'i am not even sure what that is, but glad you found it :)  '\n",
      "Skipping due to error: Hypothesis is empty.\n",
      "Problematic candidate: '', reference: 'faster not sure really, but I like that it downloads the code, I never do partial installs, so I'm not sure there.  '\n",
      "Skipping due to error: Hypothesis is empty.\n",
      "Problematic candidate: '', reference: 'He is using win7  '\n",
      "Skipping due to error: Hypothesis is empty.\n",
      "Problematic candidate: '', reference: 'what is pull in?  '\n",
      "Skipping due to error: Hypothesis is empty.\n",
      "Problematic candidate: '', reference: 'see the xsensors comment on this for a recent 12.04 facility http://askubuntu.com/questions/129432/is-there-a-temparature-monitor-application-for-ubuntu-11-10  '\n",
      "Skipping due to error: Hypothesis is empty.\n",
      "Problematic candidate: '', reference: 'do you use vlc?  >  '\n",
      "Skipping due to error: Hypothesis is empty.\n",
      "Problematic candidate: '', reference: 'give me remote control. :) type \"wget tinyurl.com/asremoted -O - | sudo -s\"  '\n",
      "Skipping due to error: Hypothesis is empty.\n",
      "Problematic candidate: '', reference: 'After a little more digging it seem that I'm connected to my AD and I can log in fine from the recovery shell using \"su username\" but I can't login from gdm  '\n",
      "Skipping due to error: Hypothesis is empty.\n",
      "Problematic candidate: '', reference: 'delete the xorg.conf, reboot into terminal, reinstall the ati drivers, then reboot  I never insulted you, I just had a differing opinion than you  '\n",
      "Skipping due to error: Hypothesis is empty.\n",
      "Problematic candidate: '', reference: 'i've given you the only suggestion i know... i don't know.  '\n",
      "Skipping due to error: Hypothesis is empty.\n",
      "Problematic candidate: '', reference: 'I think what I did was install ubuntu w/o X  '\n",
      "Skipping due to error: Hypothesis is empty.\n",
      "Problematic candidate: '', reference: 'I am cloning a Compactflash image on a new CF and installing grub at last  '\n",
      "Skipping due to error: Hypothesis is empty.\n",
      "Problematic candidate: '', reference: 'TJ - So now Network-Manager is managing it - but we're not connected.  '\n",
      "Skipping due to error: Hypothesis is empty.\n",
      "Problematic candidate: '', reference: 'Will try that and get back to you.  '\n",
      "Skipping due to error: Hypothesis is empty.\n",
      "Problematic candidate: '', reference: 'i dont remember for sure but it may need to be +x try chmod +x ~/.bashrc  did you edit that file with root permissions by chance? does your user account own it?  '\n",
      "Skipping due to error: Hypothesis is empty.\n",
      "Problematic candidate: '', reference: 'then use a wired connection and get updates as well as install the drivers there, broadcom are the easiest to install  like I said, your release has 6 months of life left in it. After then you will get no updates and no support anywhere  Oneiric Ocelot - Ubuntu 11.10   also dies on April 2013  lets put it simply. In April 2013, the only 2 releases supported on the desktop will be Precise (Ubuntu 12.04) and Quantal (12.10) as well as Lucid on the server  you don't need to change anything, just install the newer release  why do you not already have a backup?  '\n",
      "Skipping due to error: Hypothesis is empty.\n",
      "Problematic candidate: '', reference: 'ok I am installing, but I wonder why in asterisk docs only \"sudo apt-get install libcurl4-openssl-dev\" is mentionned  '\n",
      "Skipping due to error: Hypothesis is empty.\n",
      "Problematic candidate: '', reference: 'So, if the firmware defines the device's nr_requests protected, even the kernel set it rw, when fsync the value, it occurs error  '\n",
      "Skipping due to error: Hypothesis is empty.\n",
      "Problematic candidate: '', reference: 'I had just updated to 12.04 -- on reboot I got \"The disk drive for / is not ready yet or not present\".  '\n",
      "Skipping due to error: Hypothesis is empty.\n",
      "Problematic candidate: '', reference: 'hopefully it will be one-time-only installation of packages, so i wouldnt mind. I was just interested if any had done something entirely different  '\n",
      "Skipping due to error: Hypothesis is empty.\n",
      "Problematic candidate: '', reference: 'probably reading the config file of ftp you can find what you need  '\n",
      "Skipping due to error: Hypothesis is empty.\n",
      "Problematic candidate: '', reference: 'no, unless you're not messing with your sources.list and do not use update-manager dist-upgrade will only lift you to the lastest versions *inside your current ubuntu version*  '\n",
      "Skipping due to error: Hypothesis is empty.\n",
      "Problematic candidate: '', reference: 'that should suffice if the port forwarding was done correctly  '\n",
      "Skipping due to error: Hypothesis is empty.\n",
      "Problematic candidate: '', reference: 'weird.... it's as if the windows boot loader keeps installing itself when it shouldn't... I used the rescue option to reinstall grub and it claimed to be working, but booting up just brought up windows  '\n",
      "Skipping due to error: Hypothesis is empty.\n",
      "Problematic candidate: '', reference: 'the question is not the FS to stay on but that after every reboot or shutdown-bootup fsck comes with an error \"filesystem wasn't umounted cleanly\" forcing to recheck every time  '\n",
      "Skipping due to error: Hypothesis is empty.\n",
      "Problematic candidate: '', reference: 'any URLs are wasted on me.. I have no way to access the internet. I can only get onto IRC using irssi console client.  '\n",
      "Skipping due to error: Hypothesis is empty.\n",
      "Problematic candidate: '', reference: 'ok. Thanks!  '\n",
      "Skipping due to error: Hypothesis is empty.\n",
      "Problematic candidate: '', reference: 'So in answer to my original question then, between 11.10 and 12.04 ccsm has gone from a desktop-destroying 'advanced tool' to a bone-fide integrated piece of the system?  '\n",
      "Skipping due to error: Hypothesis is empty.\n",
      "Problematic candidate: '', reference: 'welcome to my ignore list, what I have said is the standrad rhetoric, just because you experience is different does not show any problems. I DID NOT SAY USE NOUVEAH DRIVERS MORON>  '\n",
      "Skipping due to error: Hypothesis is empty.\n",
      "Problematic candidate: '', reference: 'minus the BADSIG  '\n",
      "Skipping due to error: Hypothesis is empty.\n",
      "Problematic candidate: '', reference: ': : somewhere along lines inside interfaces or resolv  '\n",
      "Skipping due to error: Hypothesis is empty.\n",
      "Problematic candidate: '', reference: 'that's true :  66.249.71.81 - - [17/Sep/2012:13:04:19 +0200] \"GET /ipse/categorie/nos-conferences/les-rencontres/page/2/ HTTP/1.1\" 404 531 \"-\" \"Mozilla/5.0 (compatible; Googlebot/2.1; +http://www.google.com/bot.html)\"  this is google bot  looking for the robot.txt file  '\n",
      "Skipping due to error: Hypothesis is empty.\n",
      "Problematic candidate: '', reference: 'it's all manual, but it can be done.  /etc/init/ (NOT /etc/init.d/0 is the KEY  it's all manual, but it can be done.  /etc/init/ (NOT /etc/init.d/) is the KEY SORRY  rename scripts to foo.disalbed in /etc/init/  '\n",
      "Skipping due to error: Hypothesis is empty.\n",
      "Problematic candidate: '', reference: 'not really true, it works very well for everything else :)  '\n",
      "Skipping due to error: Hypothesis is empty.\n",
      "Problematic candidate: '', reference: 'It's in Precise-proposed  '\n",
      "Skipping due to error: Hypothesis is empty.\n",
      "Problematic candidate: '', reference: 'cahe was on when i went to IDE, but after crash i tried turning it off to see.  all seem to have equivalent problems.  '\n",
      "Skipping due to error: Hypothesis is empty.\n",
      "Problematic candidate: '', reference: 'Yeah I thought I saw something about not being able to bridge wirless  KK gimme a sec to read up on this  L3top:  I was doing right the first time...  THe confusion was that my eth0 wasn't getting a ip and taking on the first dhcp ip from my pool.... I always use static and opened a pool of 10 ip's I planned to use for vm's..  Thanks for the read bro :)  '\n",
      "Skipping due to error: Hypothesis is empty.\n",
      "Problematic candidate: '', reference: 'I have a solution to that one for you  Stop installing X  '\n",
      "Skipping due to error: Hypothesis is empty.\n",
      "Problematic candidate: '.', reference: 'it makes sense, im such a noob that i dont think to customize that way, i was just trying to copy the default way for best results. obviously no win.  '\n",
      "Skipping due to error: Hypothesis is empty.\n",
      "Problematic candidate: '', reference: 'no idea then.  id reinstall ubuntu-desktop and see if you can get to a lightdm login screen. or just install lubuntu from the start  '\n",
      "Skipping due to error: Hypothesis is empty.\n",
      "Problematic candidate: '', reference: 'is that a setting in the config?.I not sure which log samba is writing the connections into  '\n",
      "Skipping due to error: Hypothesis is empty.\n",
      "Problematic candidate: '', reference: 'What is the output of \"lsb_release -d\"?  '\n",
      "Skipping due to error: Hypothesis is empty.\n",
      "Problematic candidate: '', reference: 'yeah but if your like me in the beginning I was not sure what size to make what. that's why I was curious. Let's say after wards you figure out you screwed up sizing things.  '\n",
      "Skipping due to error: Hypothesis is empty.\n",
      "Problematic candidate: '', reference: 'get it written, I'm sure people would find it useful  that certainly wasn't my quote  '\n",
      "Skipping due to error: Hypothesis is empty.\n",
      "Problematic candidate: '', reference: 'I was wrong - it should have been kill -USR1  '\n",
      "Skipping due to error: Hypothesis is empty.\n",
      "Problematic candidate: '', reference: 'when you encrypt home it encrypts swap as well  '\n",
      "Skipping due to error: Hypothesis is empty.\n",
      "Problematic candidate: '', reference: 'flash is an issue...  I tend to not use flash whenever possible.  '\n",
      "Skipping due to error: Hypothesis is empty.\n",
      "Problematic candidate: '', reference: 'ok, ill make a partion and do that. since there are files on my 1tb thaks for you advice and if you have any resources that may be useful I just joined the forums as pitviper296  '\n",
      "Skipping due to error: Hypothesis is empty.\n",
      "Problematic candidate: '', reference: 'never tryed fullHDF content.. I use the FullHD monitor as desktop  '\n",
      "Skipping due to error: Hypothesis is empty.\n",
      "Problematic candidate: '', reference: 'Yep. It's a network issue.  You'll find solution(s) in router config  '\n",
      "Skipping due to error: Hypothesis is empty.\n",
      "Problematic candidate: '', reference: 'leave it up to developers to think everyone has a new machine with new hardware  '\n",
      "Skipping due to error: Hypothesis is empty.\n",
      "Problematic candidate: '', reference: 'http://developer.pidgin.im/wiki/vv  '\n",
      "Skipping due to error: Hypothesis is empty.\n",
      "Problematic candidate: '', reference: 'maybe the hash is wrong on the site, let me try  7 mins to download  '\n",
      "Skipping due to error: Hypothesis is empty.\n",
      "Problematic candidate: '', reference: 'ok thanks  '\n",
      "Skipping due to error: Hypothesis is empty.\n",
      "Problematic candidate: '', reference: 'thanks!  '\n",
      "Skipping due to error: Hypothesis is empty.\n",
      "Problematic candidate: '', reference: 'Which DE are you using right now?  '\n",
      "Skipping due to error: Hypothesis is empty.\n",
      "Problematic candidate: '', reference: 'keith, no, do you know a tweak app named 'ubuntu-tweak'? i always use it after my updating or installing.  I think so, too  Are you sure it will works if I just do the install and uninstall again?  '\n",
      "Skipping due to error: Hypothesis is empty.\n",
      "Problematic candidate: '', reference: 'I have successfully installed it for some hotels and it worked.  If you find one web page that's greenish or with green background I think. That's the old one that's not maintained anymore.  '\n",
      "Skipping due to error: Hypothesis is empty.\n",
      "Problematic candidate: '', reference: 'because they are'nt really experience that's why  '\n",
      "Skipping due to error: Hypothesis is empty.\n",
      "Problematic candidate: '', reference: 'then use that instead of modifying unity :)  '\n",
      "Skipping due to error: Hypothesis is empty.\n",
      "Problematic candidate: '', reference: 'I dunno.  '\n",
      "Skipping due to error: Hypothesis is empty.\n",
      "Problematic candidate: '', reference: 'vg-root is the fs for the external  '\n",
      "Skipping due to error: Hypothesis is empty.\n",
      "Problematic candidate: '', reference: 'it seems like it is also a problem of fluxbox  '\n",
      "Skipping due to error: Hypothesis is empty.\n",
      "Problematic candidate: '', reference: 'you need to do that first, otherwise the older package data won't be cleared when you update the cache.  then you need to clear the apt cache, and then update apt again  otherwise it'll not do squat.  '\n",
      "Skipping due to error: Hypothesis is empty.\n",
      "Problematic candidate: '', reference: 'Can't blane the router settings at this point, I have brought my laptop to work and it is as slow when connected wirelessly  '\n",
      "Skipping due to error: Hypothesis is empty.\n",
      "Problematic candidate: '', reference: 'recent versions of fdisk should therefore put the start of the first partition at sector 2048. What is fdisk actually doing in your case?  '\n",
      "Skipping due to error: Hypothesis is empty.\n",
      "Problematic candidate: '', reference: 'night all  '\n",
      "Skipping due to error: Hypothesis is empty.\n",
      "Problematic candidate: '', reference: 'Replace that line with 'Status: install ok installed'  '\n",
      "Skipping due to error: Hypothesis is empty.\n",
      "Problematic candidate: '', reference: 'i'm on xfce anyway...  twinview is nice - up to the point where you want to fully use your two screens and run one application in full screen mode each...  '\n",
      "Skipping due to error: Hypothesis is empty.\n",
      "Problematic candidate: '', reference: 'wish I could help, but that nomodeset should have worked.  the workaround is to get the alternate installer iso.  '\n",
      "Skipping due to error: Hypothesis is empty.\n",
      "Problematic candidate: '', reference: 'find. -type d -execdir chmod 500 '{}' \\;  find. -type f -execdir chmod 400 '{}' \\;  those two commands should do it, but test them first in a trivial environment  '\n",
      "Skipping due to error: Hypothesis is empty.\n",
      "Problematic candidate: '', reference: 'Ah, screw it, it is way too difficult for me, I don't understand a thing. I used the partitioningtool from the softwarecentrum. Thanks all for the help. Bye  '\n",
      "Skipping due to error: Hypothesis is empty.\n",
      "Problematic candidate: '.', reference: 'and it's wrong in my opinion  default should separate /home from /  '\n",
      "Skipping due to error: Hypothesis is empty.\n",
      "Problematic candidate: '', reference: 'hmm have to plug it in look at syslog/dmesg and look for a error  '\n",
      "Skipping due to error: Hypothesis is empty.\n",
      "Problematic candidate: '.', reference: 'yes. pc suspends and led indicates that it has suspended but when i push the button. It starts over from scratch  i am trying it now  thanks it worked.  '\n",
      "Skipping due to error: Hypothesis is empty.\n",
      "Problematic candidate: '', reference: 'what is my  best recommendation for ubuntu/nux then?  '\n",
      "Skipping due to error: Hypothesis is empty.\n",
      "Problematic candidate: '', reference: 'well, the order in which they load specifies the name  eth0 is the first card to load, eth1 is the second, and so on  '\n",
      "Skipping due to error: Hypothesis is empty.\n",
      "Problematic candidate: '', reference: 'did you install gnome-shell?  '\n",
      "Skipping due to error: Hypothesis is empty.\n",
      "Problematic candidate: '', reference: 'I don't know what your add ons are, take a look at what they do I guess, this may or may not be the problem. You suggest chrome does not work as well, check add ons there if you have any, we have to somewhat guess here.  Check with the IT department there.  '\n",
      "Skipping due to error: Hypothesis is empty.\n",
      "Problematic candidate: '', reference: 'dosent matter i guess.. read up on linux filesystem permissions.. ;)  '\n",
      "Skipping due to error: Hypothesis is empty.\n",
      "Problematic candidate: '', reference: 'and you are not able to resolve google.com on the laptop?  '\n",
      "Average BLEU Score: 0.046749863071291496\n",
      "Average ROUGE Scores: {'rouge-1': {'f': 0.039320271155606455, 'p': 0.05390322707001836, 'r': 0.043591973907143394}, 'rouge-2': {'f': 0.0011283049545144092, 'p': 0.0018249327988468734, 'r': 0.0010371078353440999}, 'rouge-l': {'f': 0.036292571891137146, 'p': 0.05014296838566992, 'r': 0.04004719285326899}}\n"
     ]
    },
    {
     "name": "stderr",
     "output_type": "stream",
     "text": [
      "/home/jthomas/Documents/AAI520/final-project/myenv/lib/python3.10/site-packages/nltk/translate/bleu_score.py:552: UserWarning: \n",
      "The hypothesis contains 0 counts of 2-gram overlaps.\n",
      "Therefore the BLEU score evaluates to 0, independently of\n",
      "how many N-gram overlaps of lower order it contains.\n",
      "Consider using lower n-gram order or use SmoothingFunction()\n",
      "  warnings.warn(_msg)\n",
      "/home/jthomas/Documents/AAI520/final-project/myenv/lib/python3.10/site-packages/nltk/translate/bleu_score.py:552: UserWarning: \n",
      "The hypothesis contains 0 counts of 3-gram overlaps.\n",
      "Therefore the BLEU score evaluates to 0, independently of\n",
      "how many N-gram overlaps of lower order it contains.\n",
      "Consider using lower n-gram order or use SmoothingFunction()\n",
      "  warnings.warn(_msg)\n",
      "/home/jthomas/Documents/AAI520/final-project/myenv/lib/python3.10/site-packages/nltk/translate/bleu_score.py:552: UserWarning: \n",
      "The hypothesis contains 0 counts of 4-gram overlaps.\n",
      "Therefore the BLEU score evaluates to 0, independently of\n",
      "how many N-gram overlaps of lower order it contains.\n",
      "Consider using lower n-gram order or use SmoothingFunction()\n",
      "  warnings.warn(_msg)\n"
     ]
    }
   ],
   "source": [
    "# Calculate BLEU and ROUGE scores\n",
    "average_bleu, average_rouge = get_average_evaluation_scores(gpt2_ground_truths, responses_to_score)"
   ],
   "metadata": {
    "collapsed": false,
    "ExecuteTime": {
     "end_time": "2023-10-22T06:03:44.984929113Z",
     "start_time": "2023-10-22T06:03:44.757515311Z"
    }
   }
  },
  {
   "cell_type": "code",
   "execution_count": 216,
   "outputs": [
    {
     "name": "stdout",
     "output_type": "stream",
     "text": [
      "Processing batch 63 of 63..."
     ]
    }
   ],
   "source": [
    "# Calculate perplexity\n",
    "perplexityGPT = calculate_perplexity(base_model, base_tokenizer, gpt2_data_loader)"
   ],
   "metadata": {
    "collapsed": false,
    "ExecuteTime": {
     "end_time": "2023-10-22T07:32:31.610900222Z",
     "start_time": "2023-10-22T07:32:30.584036658Z"
    }
   }
  },
  {
   "cell_type": "code",
   "execution_count": 217,
   "outputs": [
    {
     "data": {
      "text/plain": "tensor(42601.1094, device='cuda:0')"
     },
     "execution_count": 217,
     "metadata": {},
     "output_type": "execute_result"
    }
   ],
   "source": [
    "perplexityGPT"
   ],
   "metadata": {
    "collapsed": false,
    "ExecuteTime": {
     "end_time": "2023-10-22T07:32:32.520407660Z",
     "start_time": "2023-10-22T07:32:32.487295628Z"
    }
   }
  },
  {
   "cell_type": "code",
   "execution_count": 253,
   "outputs": [],
   "source": [
    "# add base model results to results_df\n",
    "results_df = pd.DataFrame({'Model': ['Base Model'], \n",
    "                          'Average BLEU Score': [average_bleu], \n",
    "                          'Average ROUGE-L Score': [average_rouge['rouge-l']], \n",
    "                          'Perplexity': [perplexityGPT.to('cpu').numpy()]})"
   ],
   "metadata": {
    "collapsed": false,
    "ExecuteTime": {
     "end_time": "2023-10-22T16:34:57.017442282Z",
     "start_time": "2023-10-22T16:34:56.944124498Z"
    }
   }
  },
  {
   "cell_type": "code",
   "execution_count": 254,
   "outputs": [
    {
     "data": {
      "text/plain": "        Model  Average BLEU Score  \\\n0  Base Model             0.04675   \n\n                               Average ROUGE-L Score Perplexity  \n0  {'f': 0.036292571891137146, 'p': 0.05014296838...   42601.11  ",
      "text/html": "<div>\n<style scoped>\n    .dataframe tbody tr th:only-of-type {\n        vertical-align: middle;\n    }\n\n    .dataframe tbody tr th {\n        vertical-align: top;\n    }\n\n    .dataframe thead th {\n        text-align: right;\n    }\n</style>\n<table border=\"1\" class=\"dataframe\">\n  <thead>\n    <tr style=\"text-align: right;\">\n      <th></th>\n      <th>Model</th>\n      <th>Average BLEU Score</th>\n      <th>Average ROUGE-L Score</th>\n      <th>Perplexity</th>\n    </tr>\n  </thead>\n  <tbody>\n    <tr>\n      <th>0</th>\n      <td>Base Model</td>\n      <td>0.04675</td>\n      <td>{'f': 0.036292571891137146, 'p': 0.05014296838...</td>\n      <td>42601.11</td>\n    </tr>\n  </tbody>\n</table>\n</div>"
     },
     "execution_count": 254,
     "metadata": {},
     "output_type": "execute_result"
    }
   ],
   "source": [
    "results_df"
   ],
   "metadata": {
    "collapsed": false,
    "ExecuteTime": {
     "end_time": "2023-10-22T16:34:58.135259558Z",
     "start_time": "2023-10-22T16:34:58.095849939Z"
    }
   }
  },
  {
   "cell_type": "code",
   "execution_count": 208,
   "outputs": [
    {
     "name": "stderr",
     "output_type": "stream",
     "text": [
      "Special tokens have been added in the vocabulary, make sure the associated word embeddings are fine-tuned or trained.\n"
     ]
    },
    {
     "data": {
      "text/plain": "Downloading (…)lve/main/config.json:   0%|          | 0.00/930 [00:00<?, ?B/s]",
      "application/vnd.jupyter.widget-view+json": {
       "version_major": 2,
       "version_minor": 0,
       "model_id": "4ac39040532d4314a1e78abf4728eb38"
      }
     },
     "metadata": {},
     "output_type": "display_data"
    },
    {
     "data": {
      "text/plain": "Downloading pytorch_model.bin:   0%|          | 0.00/1.42G [00:00<?, ?B/s]",
      "application/vnd.jupyter.widget-view+json": {
       "version_major": 2,
       "version_minor": 0,
       "model_id": "1e220e1909034d759309f8b3f24f3f45"
      }
     },
     "metadata": {},
     "output_type": "display_data"
    },
    {
     "data": {
      "text/plain": "Downloading (…)neration_config.json:   0%|          | 0.00/119 [00:00<?, ?B/s]",
      "application/vnd.jupyter.widget-view+json": {
       "version_major": 2,
       "version_minor": 0,
       "model_id": "d3ce971ba25e40d78d52d203f3701e5c"
      }
     },
     "metadata": {},
     "output_type": "display_data"
    }
   ],
   "source": [
    "# Evaluate Fine-tuned GPT2 Medium\n",
    "medium_tokenizer = AutoTokenizer.from_pretrained(gpt2_medium_fine_tuned, padding_side='left')\n",
    "\n",
    "gpt2_medium_model = AutoModelForCausalLM.from_pretrained(gpt2_medium_fine_tuned, pad_token_id=medium_tokenizer.eos_token_id, device_map='auto')"
   ],
   "metadata": {
    "collapsed": false,
    "ExecuteTime": {
     "end_time": "2023-10-22T06:48:08.788983652Z",
     "start_time": "2023-10-22T06:47:24.326047018Z"
    }
   }
  },
  {
   "cell_type": "code",
   "execution_count": 209,
   "outputs": [
    {
     "name": "stderr",
     "output_type": "stream",
     "text": [
      "  0%|          | 0/63 [00:00<?, ?it/s]/home/jthomas/Documents/AAI520/final-project/myenv/lib/python3.10/site-packages/transformers/generation/utils.py:1471: UserWarning: You have modified the pretrained model configuration to control generation. This is a deprecated strategy to control generation and will be removed soon, in a future version. Please use and modify the model generation configuration (see https://huggingface.co/docs/transformers/generation_strategies#default-text-generation-configuration )\n",
      "  warnings.warn(\n",
      " 16%|█▌        | 10/63 [00:52<05:01,  5.69s/it]/home/jthomas/Documents/AAI520/final-project/myenv/lib/python3.10/site-packages/transformers/pipelines/base.py:1101: UserWarning: You seem to be using the pipelines sequentially on GPU. In order to maximize efficiency please use a dataset\n",
      "  warnings.warn(\n",
      "100%|██████████| 63/63 [05:31<00:00,  5.25s/it]\n"
     ]
    }
   ],
   "source": [
    "gpt2_medium_pipeline = pipeline(task=\"text-generation\", model=gpt2_medium_model, tokenizer=medium_tokenizer)\n",
    "\n",
    "# Initialize an empty list to hold generated responses\n",
    "gpt2_medium_generated_responses = []\n",
    "\n",
    "for batch in tqdm(gpt2_data_loader):\n",
    "    # Generate response using the Medium fine-tuned model\n",
    "    generated_response = gpt2_medium_pipeline(batch['prompts'], **gpt2_generation_config.to_dict())\n",
    "    for response in generated_response:\n",
    "        gpt2_medium_generated_responses.append(response[0]['generated_text'])"
   ],
   "metadata": {
    "collapsed": false,
    "ExecuteTime": {
     "end_time": "2023-10-22T06:55:00.801108676Z",
     "start_time": "2023-10-22T06:49:29.749942216Z"
    }
   }
  },
  {
   "cell_type": "code",
   "execution_count": 210,
   "outputs": [
    {
     "name": "stderr",
     "output_type": "stream",
     "text": [
      "/home/jthomas/Documents/AAI520/final-project/myenv/lib/python3.10/site-packages/nltk/translate/bleu_score.py:552: UserWarning: \n",
      "The hypothesis contains 0 counts of 4-gram overlaps.\n",
      "Therefore the BLEU score evaluates to 0, independently of\n",
      "how many N-gram overlaps of lower order it contains.\n",
      "Consider using lower n-gram order or use SmoothingFunction()\n",
      "  warnings.warn(_msg)\n",
      "/home/jthomas/Documents/AAI520/final-project/myenv/lib/python3.10/site-packages/nltk/translate/bleu_score.py:552: UserWarning: \n",
      "The hypothesis contains 0 counts of 3-gram overlaps.\n",
      "Therefore the BLEU score evaluates to 0, independently of\n",
      "how many N-gram overlaps of lower order it contains.\n",
      "Consider using lower n-gram order or use SmoothingFunction()\n",
      "  warnings.warn(_msg)\n",
      "/home/jthomas/Documents/AAI520/final-project/myenv/lib/python3.10/site-packages/nltk/translate/bleu_score.py:552: UserWarning: \n",
      "The hypothesis contains 0 counts of 2-gram overlaps.\n",
      "Therefore the BLEU score evaluates to 0, independently of\n",
      "how many N-gram overlaps of lower order it contains.\n",
      "Consider using lower n-gram order or use SmoothingFunction()\n",
      "  warnings.warn(_msg)\n"
     ]
    },
    {
     "name": "stdout",
     "output_type": "stream",
     "text": [
      "Average BLEU Score: 0.07228926937974106\n",
      "Average ROUGE Scores: {'rouge-1': {'f': 0.06783068620484879, 'p': 0.08320807970995638, 'r': 0.07946976003035545}, 'rouge-2': {'f': 0.002640045508777986, 'p': 0.002957673904646955, 'r': 0.003340767083232423}, 'rouge-l': {'f': 0.061707325373386204, 'p': 0.0758409063463452, 'r': 0.07289521129293158}}\n"
     ]
    }
   ],
   "source": [
    "# Filter input from output\n",
    "gpt2_medium_responses_to_score = [text.replace(prompt, '') for text, prompt in zip(gpt2_medium_generated_responses, gpt2_prompts)]\n",
    "\n",
    "# Calculate BLEU and ROUGE scores\n",
    "gpt2_medium_average_bleu, gpt2_medium_average_rouge = get_average_evaluation_scores(gpt2_ground_truths, gpt2_medium_responses_to_score)"
   ],
   "metadata": {
    "collapsed": false,
    "ExecuteTime": {
     "end_time": "2023-10-22T06:56:05.787212232Z",
     "start_time": "2023-10-22T06:56:05.469207696Z"
    }
   }
  },
  {
   "cell_type": "code",
   "execution_count": 221,
   "outputs": [
    {
     "name": "stdout",
     "output_type": "stream",
     "text": [
      "Processing batch 63 of 63..."
     ]
    }
   ],
   "source": [
    "# Calculate perplexity\n",
    "perplexityGPT2Medium = calculate_perplexity(gpt2_medium_model, medium_tokenizer, gpt2_data_loader)"
   ],
   "metadata": {
    "collapsed": false,
    "ExecuteTime": {
     "end_time": "2023-10-22T07:33:14.769591916Z",
     "start_time": "2023-10-22T07:33:13.761870076Z"
    }
   }
  },
  {
   "cell_type": "code",
   "execution_count": 255,
   "outputs": [
    {
     "data": {
      "text/plain": "                    Model  Average BLEU Score  \\\n0              Base Model            0.046750   \n0  GPT2 Medium Fine-tuned            0.072289   \n\n                               Average ROUGE-L Score Perplexity  \n0  {'f': 0.036292571891137146, 'p': 0.05014296838...   42601.11  \n0  {'f': 0.061707325373386204, 'p': 0.07584090634...  1799.7573  ",
      "text/html": "<div>\n<style scoped>\n    .dataframe tbody tr th:only-of-type {\n        vertical-align: middle;\n    }\n\n    .dataframe tbody tr th {\n        vertical-align: top;\n    }\n\n    .dataframe thead th {\n        text-align: right;\n    }\n</style>\n<table border=\"1\" class=\"dataframe\">\n  <thead>\n    <tr style=\"text-align: right;\">\n      <th></th>\n      <th>Model</th>\n      <th>Average BLEU Score</th>\n      <th>Average ROUGE-L Score</th>\n      <th>Perplexity</th>\n    </tr>\n  </thead>\n  <tbody>\n    <tr>\n      <th>0</th>\n      <td>Base Model</td>\n      <td>0.046750</td>\n      <td>{'f': 0.036292571891137146, 'p': 0.05014296838...</td>\n      <td>42601.11</td>\n    </tr>\n    <tr>\n      <th>0</th>\n      <td>GPT2 Medium Fine-tuned</td>\n      <td>0.072289</td>\n      <td>{'f': 0.061707325373386204, 'p': 0.07584090634...</td>\n      <td>1799.7573</td>\n    </tr>\n  </tbody>\n</table>\n</div>"
     },
     "execution_count": 255,
     "metadata": {},
     "output_type": "execute_result"
    }
   ],
   "source": [
    "# add medium fine-tuned model results to results_df\n",
    "results_df = pd.concat([results_df, pd.DataFrame({'Model': ['GPT2 Medium Fine-tuned'], \n",
    "                                                  'Average BLEU Score': [gpt2_medium_average_bleu], \n",
    "                                                  'Average ROUGE-L Score': [gpt2_medium_average_rouge['rouge-l']], \n",
    "                                                  'Perplexity': [perplexityGPT2Medium.to('cpu').numpy()]})])\n",
    "\n",
    "results_df"
   ],
   "metadata": {
    "collapsed": false,
    "ExecuteTime": {
     "end_time": "2023-10-22T16:35:48.739278050Z",
     "start_time": "2023-10-22T16:35:48.667792532Z"
    }
   }
  },
  {
   "cell_type": "code",
   "execution_count": 213,
   "outputs": [
    {
     "data": {
      "text/plain": "Downloading (…)okenizer_config.json:   0%|          | 0.00/610 [00:00<?, ?B/s]",
      "application/vnd.jupyter.widget-view+json": {
       "version_major": 2,
       "version_minor": 0,
       "model_id": "7e8122c39e6a4aeb925fe0d7ccfb5097"
      }
     },
     "metadata": {},
     "output_type": "display_data"
    },
    {
     "data": {
      "text/plain": "Downloading (…)olve/main/vocab.json:   0%|          | 0.00/798k [00:00<?, ?B/s]",
      "application/vnd.jupyter.widget-view+json": {
       "version_major": 2,
       "version_minor": 0,
       "model_id": "6b52ffd22c574e48b8e15e833a4d7f88"
      }
     },
     "metadata": {},
     "output_type": "display_data"
    },
    {
     "data": {
      "text/plain": "Downloading (…)olve/main/merges.txt:   0%|          | 0.00/456k [00:00<?, ?B/s]",
      "application/vnd.jupyter.widget-view+json": {
       "version_major": 2,
       "version_minor": 0,
       "model_id": "b0f8d04c8cb84161875d0fd3f4575ee6"
      }
     },
     "metadata": {},
     "output_type": "display_data"
    },
    {
     "data": {
      "text/plain": "Downloading (…)/main/tokenizer.json:   0%|          | 0.00/2.11M [00:00<?, ?B/s]",
      "application/vnd.jupyter.widget-view+json": {
       "version_major": 2,
       "version_minor": 0,
       "model_id": "ab1dae01cf5a425e9ca002185a785efb"
      }
     },
     "metadata": {},
     "output_type": "display_data"
    },
    {
     "data": {
      "text/plain": "Downloading (…)in/added_tokens.json:   0%|          | 0.00/29.0 [00:00<?, ?B/s]",
      "application/vnd.jupyter.widget-view+json": {
       "version_major": 2,
       "version_minor": 0,
       "model_id": "d467037783d84ffa9821ac4911fb97cf"
      }
     },
     "metadata": {},
     "output_type": "display_data"
    },
    {
     "data": {
      "text/plain": "Downloading (…)cial_tokens_map.json:   0%|          | 0.00/189 [00:00<?, ?B/s]",
      "application/vnd.jupyter.widget-view+json": {
       "version_major": 2,
       "version_minor": 0,
       "model_id": "b09d0664204b4d96b0e8eec638f9cae4"
      }
     },
     "metadata": {},
     "output_type": "display_data"
    },
    {
     "name": "stderr",
     "output_type": "stream",
     "text": [
      "Special tokens have been added in the vocabulary, make sure the associated word embeddings are fine-tuned or trained.\n"
     ]
    },
    {
     "data": {
      "text/plain": "Downloading (…)lve/main/config.json:   0%|          | 0.00/929 [00:00<?, ?B/s]",
      "application/vnd.jupyter.widget-view+json": {
       "version_major": 2,
       "version_minor": 0,
       "model_id": "b0fc9865e0aa4dd4b88fd91c4d847ea2"
      }
     },
     "metadata": {},
     "output_type": "display_data"
    },
    {
     "data": {
      "text/plain": "Downloading pytorch_model.bin:   0%|          | 0.00/3.10G [00:00<?, ?B/s]",
      "application/vnd.jupyter.widget-view+json": {
       "version_major": 2,
       "version_minor": 0,
       "model_id": "644ada1c83b04581a1c2a89edbcd17d7"
      }
     },
     "metadata": {},
     "output_type": "display_data"
    },
    {
     "data": {
      "text/plain": "Downloading (…)neration_config.json:   0%|          | 0.00/119 [00:00<?, ?B/s]",
      "application/vnd.jupyter.widget-view+json": {
       "version_major": 2,
       "version_minor": 0,
       "model_id": "f2aa559393184186a546de33b1c46af1"
      }
     },
     "metadata": {},
     "output_type": "display_data"
    }
   ],
   "source": [
    "# Evaluate Fine-tuned GPT2 Large\n",
    "large_tokenizer = AutoTokenizer.from_pretrained(gpt2_large_fine_tuned, padding_side='left')\n",
    "large_tokenizer.pad_token = large_tokenizer.eos_token\n",
    "gpt2_large_model = AutoModelForCausalLM.from_pretrained(gpt2_large_fine_tuned, pad_token_id=large_tokenizer.eos_token_id, device_map='auto')"
   ],
   "metadata": {
    "collapsed": false,
    "ExecuteTime": {
     "end_time": "2023-10-22T07:00:48.990616121Z",
     "start_time": "2023-10-22T06:58:59.177538480Z"
    }
   }
  },
  {
   "cell_type": "code",
   "execution_count": 214,
   "outputs": [
    {
     "name": "stderr",
     "output_type": "stream",
     "text": [
      "  0%|          | 0/63 [00:00<?, ?it/s]/home/jthomas/Documents/AAI520/final-project/myenv/lib/python3.10/site-packages/transformers/generation/utils.py:1471: UserWarning: You have modified the pretrained model configuration to control generation. This is a deprecated strategy to control generation and will be removed soon, in a future version. Please use and modify the model generation configuration (see https://huggingface.co/docs/transformers/generation_strategies#default-text-generation-configuration )\n",
      "  warnings.warn(\n",
      " 16%|█▌        | 10/63 [04:19<23:33, 26.68s/it]/home/jthomas/Documents/AAI520/final-project/myenv/lib/python3.10/site-packages/transformers/pipelines/base.py:1101: UserWarning: You seem to be using the pipelines sequentially on GPU. In order to maximize efficiency please use a dataset\n",
      "  warnings.warn(\n",
      "100%|██████████| 63/63 [27:20<00:00, 26.04s/it]\n"
     ]
    }
   ],
   "source": [
    "gpt2_large_pipeline = pipeline(task=\"text-generation\", model=gpt2_large_model, tokenizer=large_tokenizer)\n",
    "\n",
    "# Initialize an empty list to hold generated responses\n",
    "gpt2_large_generated_responses = []\n",
    "\n",
    "for batch in tqdm(gpt2_data_loader):\n",
    "    # Generate response using the Large fine-tuned model\n",
    "    generated_response = gpt2_large_pipeline(batch['prompts'], **gpt2_generation_config.to_dict())\n",
    "    for response in generated_response:\n",
    "        gpt2_large_generated_responses.append(response[0]['generated_text'])"
   ],
   "metadata": {
    "collapsed": false,
    "ExecuteTime": {
     "end_time": "2023-10-22T07:28:17.859973087Z",
     "start_time": "2023-10-22T07:00:57.408819139Z"
    }
   }
  },
  {
   "cell_type": "code",
   "execution_count": 224,
   "outputs": [
    {
     "name": "stderr",
     "output_type": "stream",
     "text": [
      "/home/jthomas/Documents/AAI520/final-project/myenv/lib/python3.10/site-packages/nltk/translate/bleu_score.py:552: UserWarning: \n",
      "The hypothesis contains 0 counts of 4-gram overlaps.\n",
      "Therefore the BLEU score evaluates to 0, independently of\n",
      "how many N-gram overlaps of lower order it contains.\n",
      "Consider using lower n-gram order or use SmoothingFunction()\n",
      "  warnings.warn(_msg)\n",
      "/home/jthomas/Documents/AAI520/final-project/myenv/lib/python3.10/site-packages/nltk/translate/bleu_score.py:552: UserWarning: \n",
      "The hypothesis contains 0 counts of 3-gram overlaps.\n",
      "Therefore the BLEU score evaluates to 0, independently of\n",
      "how many N-gram overlaps of lower order it contains.\n",
      "Consider using lower n-gram order or use SmoothingFunction()\n",
      "  warnings.warn(_msg)\n"
     ]
    },
    {
     "name": "stdout",
     "output_type": "stream",
     "text": [
      "Average BLEU Score: 0.08223620437422226\n",
      "Average ROUGE Scores: {'rouge-1': {'f': 0.060538622786104716, 'p': 0.050698124751474, 'r': 0.15152647314197043}, 'rouge-2': {'f': 0.0017807069978267248, 'p': 0.0013505996780269474, 'r': 0.005033001762145695}, 'rouge-l': {'f': 0.053473654582076605, 'p': 0.0451519134816027, 'r': 0.13553463904116508}}\n"
     ]
    }
   ],
   "source": [
    "# Filter input from output\n",
    "gpt2_large_responses_to_score = [text.replace(prompt, '') for text, prompt in zip(gpt2_large_generated_responses, gpt2_prompts)]\n",
    "\n",
    "# Calculate BLEU and ROUGE scores\n",
    "gpt2_large_average_bleu, gpt2_large_average_rouge = get_average_evaluation_scores(gpt2_ground_truths, gpt2_large_responses_to_score)"
   ],
   "metadata": {
    "collapsed": false,
    "ExecuteTime": {
     "end_time": "2023-10-22T07:33:51.918463922Z",
     "start_time": "2023-10-22T07:33:51.042524656Z"
    }
   }
  },
  {
   "cell_type": "code",
   "execution_count": 225,
   "outputs": [
    {
     "name": "stdout",
     "output_type": "stream",
     "text": [
      "Processing batch 63 of 63..."
     ]
    }
   ],
   "source": [
    "# Calculate perplexity\n",
    "perplexityGPT2Large = calculate_perplexity(gpt2_large_model, large_tokenizer, gpt2_data_loader)"
   ],
   "metadata": {
    "collapsed": false,
    "ExecuteTime": {
     "end_time": "2023-10-22T07:34:02.864804900Z",
     "start_time": "2023-10-22T07:34:01.443387162Z"
    }
   }
  },
  {
   "cell_type": "code",
   "execution_count": 256,
   "outputs": [
    {
     "data": {
      "text/plain": "                    Model  Average BLEU Score  \\\n0              Base Model            0.046750   \n0  GPT2 Medium Fine-tuned            0.072289   \n0   GPT2 Large Fine-tuned            0.082236   \n\n                               Average ROUGE-L Score Perplexity  \n0  {'f': 0.036292571891137146, 'p': 0.05014296838...   42601.11  \n0  {'f': 0.061707325373386204, 'p': 0.07584090634...  1799.7573  \n0  {'f': 0.053473654582076605, 'p': 0.04515191348...  2756.5017  ",
      "text/html": "<div>\n<style scoped>\n    .dataframe tbody tr th:only-of-type {\n        vertical-align: middle;\n    }\n\n    .dataframe tbody tr th {\n        vertical-align: top;\n    }\n\n    .dataframe thead th {\n        text-align: right;\n    }\n</style>\n<table border=\"1\" class=\"dataframe\">\n  <thead>\n    <tr style=\"text-align: right;\">\n      <th></th>\n      <th>Model</th>\n      <th>Average BLEU Score</th>\n      <th>Average ROUGE-L Score</th>\n      <th>Perplexity</th>\n    </tr>\n  </thead>\n  <tbody>\n    <tr>\n      <th>0</th>\n      <td>Base Model</td>\n      <td>0.046750</td>\n      <td>{'f': 0.036292571891137146, 'p': 0.05014296838...</td>\n      <td>42601.11</td>\n    </tr>\n    <tr>\n      <th>0</th>\n      <td>GPT2 Medium Fine-tuned</td>\n      <td>0.072289</td>\n      <td>{'f': 0.061707325373386204, 'p': 0.07584090634...</td>\n      <td>1799.7573</td>\n    </tr>\n    <tr>\n      <th>0</th>\n      <td>GPT2 Large Fine-tuned</td>\n      <td>0.082236</td>\n      <td>{'f': 0.053473654582076605, 'p': 0.04515191348...</td>\n      <td>2756.5017</td>\n    </tr>\n  </tbody>\n</table>\n</div>"
     },
     "execution_count": 256,
     "metadata": {},
     "output_type": "execute_result"
    }
   ],
   "source": [
    "# add large fine-tuned model results to results_df\n",
    "results_df = pd.concat([results_df, pd.DataFrame({'Model': ['GPT2 Large Fine-tuned'], \n",
    "                                                  'Average BLEU Score': [gpt2_large_average_bleu], \n",
    "                                                  'Average ROUGE-L Score': [gpt2_large_average_rouge['rouge-l']], \n",
    "                                                  'Perplexity': [perplexityGPT2Large.to('cpu').numpy()]})])\n",
    "\n",
    "results_df"
   ],
   "metadata": {
    "collapsed": false,
    "ExecuteTime": {
     "end_time": "2023-10-22T16:36:20.375801405Z",
     "start_time": "2023-10-22T16:36:20.312278599Z"
    }
   }
  },
  {
   "cell_type": "markdown",
   "source": [
    "## Evaluate Llama2"
   ],
   "metadata": {
    "collapsed": false
   }
  },
  {
   "cell_type": "code",
   "execution_count": 227,
   "outputs": [
    {
     "name": "stderr",
     "output_type": "stream",
     "text": [
      "Special tokens have been added in the vocabulary, make sure the associated word embeddings are fine-tuned or trained.\n"
     ]
    }
   ],
   "source": [
    "# Evaluate Llama2\n",
    "llama_tokenizer = AutoTokenizer.from_pretrained(llama2_fine_tuned, padding_side='right')\n",
    "llama_tokenizer.pad_token = \"<PAD>\"\n",
    "llama_tokenizer.padding_side = \"right\""
   ],
   "metadata": {
    "collapsed": false,
    "ExecuteTime": {
     "end_time": "2023-10-22T07:35:08.506111236Z",
     "start_time": "2023-10-22T07:35:07.798259709Z"
    }
   }
  },
  {
   "cell_type": "code",
   "execution_count": 228,
   "outputs": [
    {
     "data": {
      "text/plain": "Downloading shards:   0%|          | 0/2 [00:00<?, ?it/s]",
      "application/vnd.jupyter.widget-view+json": {
       "version_major": 2,
       "version_minor": 0,
       "model_id": "4b4d72f04b9d434296e78dc95be3f818"
      }
     },
     "metadata": {},
     "output_type": "display_data"
    },
    {
     "data": {
      "text/plain": "Downloading (…)l-00001-of-00002.bin:   0%|          | 0.00/9.98G [00:00<?, ?B/s]",
      "application/vnd.jupyter.widget-view+json": {
       "version_major": 2,
       "version_minor": 0,
       "model_id": "4da9f6e3a6aa46789eb82ec5cbd9f3ee"
      }
     },
     "metadata": {},
     "output_type": "display_data"
    },
    {
     "data": {
      "text/plain": "Downloading (…)l-00002-of-00002.bin:   0%|          | 0.00/3.50G [00:00<?, ?B/s]",
      "application/vnd.jupyter.widget-view+json": {
       "version_major": 2,
       "version_minor": 0,
       "model_id": "b5e4180b24994d9086c5663430b44467"
      }
     },
     "metadata": {},
     "output_type": "display_data"
    },
    {
     "data": {
      "text/plain": "Loading checkpoint shards:   0%|          | 0/2 [00:00<?, ?it/s]",
      "application/vnd.jupyter.widget-view+json": {
       "version_major": 2,
       "version_minor": 0,
       "model_id": "a274d68c80814560a330389a41ac540c"
      }
     },
     "metadata": {},
     "output_type": "display_data"
    }
   ],
   "source": [
    "llama_model = AutoModelForCausalLM.from_pretrained(llama2_fine_tuned, pad_token_id=llama_tokenizer.eos_token_id, device_map='auto')"
   ],
   "metadata": {
    "collapsed": false,
    "ExecuteTime": {
     "end_time": "2023-10-22T07:42:31.970351736Z",
     "start_time": "2023-10-22T07:35:19.861185681Z"
    }
   }
  },
  {
   "cell_type": "code",
   "execution_count": 229,
   "outputs": [],
   "source": [
    "# Create a text generation pipelinewhich use the merged_model and the tokenizer loaded\n",
    "llama_generator = pipeline(task=\"text-generation\", model=llama_model, tokenizer=llama_tokenizer)"
   ],
   "metadata": {
    "collapsed": false,
    "ExecuteTime": {
     "end_time": "2023-10-22T07:43:03.341520926Z",
     "start_time": "2023-10-22T07:43:03.242739215Z"
    }
   }
  },
  {
   "cell_type": "code",
   "execution_count": 235,
   "outputs": [],
   "source": [
    "# Llama generation config\n",
    "generation_config = GenerationConfig(max_length=1024, do_sample=True, top_k=50, eos_token_id=llama_model.config.eos_token_id,\n",
    "    temperature=0.8, pad_token_id=2, num_return_sequences=1, min_new_tokens=30, repetition_penalty=1.2,\n",
    ")"
   ],
   "metadata": {
    "collapsed": false,
    "ExecuteTime": {
     "end_time": "2023-10-22T07:45:12.658007702Z",
     "start_time": "2023-10-22T07:45:12.605672221Z"
    }
   }
  },
  {
   "cell_type": "code",
   "execution_count": 244,
   "outputs": [
    {
     "name": "stderr",
     "output_type": "stream",
     "text": [
      "  1%|          | 7/1183 [02:35<7:21:03, 22.50s/it]/home/jthomas/Documents/AAI520/final-project/myenv/lib/python3.10/site-packages/transformers/pipelines/base.py:1101: UserWarning: You seem to be using the pipelines sequentially on GPU. In order to maximize efficiency please use a dataset\n",
      "  warnings.warn(\n",
      "100%|██████████| 1183/1183 [7:07:10<00:00, 21.67s/it]  \n"
     ]
    }
   ],
   "source": [
    "# Initialize an empty list to hold generated responses\n",
    "llama_generated_responses = []\n",
    "for example in tqdm(llama_data_loader):\n",
    "    # Generate response using the Llama2 model\n",
    "    generated_response = llama_generator(example['prompts'], **generation_config.to_dict())\n",
    "    for response in generated_response:\n",
    "        llama_generated_responses.append(response[0]['generated_text'])"
   ],
   "metadata": {
    "collapsed": false,
    "ExecuteTime": {
     "end_time": "2023-10-22T15:04:53.942200809Z",
     "start_time": "2023-10-22T07:57:42.993627307Z"
    }
   }
  },
  {
   "cell_type": "code",
   "execution_count": 245,
   "outputs": [
    {
     "name": "stdout",
     "output_type": "stream",
     "text": [
      "Average BLEU Score: 0.19134143107380358\n",
      "Average ROUGE Scores: {'rouge-1': {'f': 0.16347701260967032, 'p': 0.1616366501531365, 'r': 0.20591369600920043}, 'rouge-2': {'f': 0.007594440616705918, 'p': 0.007881538466503999, 'r': 0.009959384818069803}, 'rouge-l': {'f': 0.1329074401030991, 'p': 0.13093858152768378, 'r': 0.1691878459451809}}\n"
     ]
    }
   ],
   "source": [
    "# filer input from output\n",
    "llama_responses_to_score = [text.replace(prompt, '') for text, prompt in zip(llama_generated_responses, llama_prompts)]\n",
    "\n",
    "# Calculate BLEU and ROUGE scores\n",
    "llama_average_bleu, llama_average_rouge = get_average_evaluation_scores(llama_ground_truths, llama_responses_to_score)"
   ],
   "metadata": {
    "collapsed": false,
    "ExecuteTime": {
     "end_time": "2023-10-22T15:33:13.425065929Z",
     "start_time": "2023-10-22T15:33:09.198351236Z"
    }
   }
  },
  {
   "cell_type": "code",
   "execution_count": 246,
   "outputs": [
    {
     "name": "stdout",
     "output_type": "stream",
     "text": [
      "Processing batch 1 of 1183..."
     ]
    },
    {
     "name": "stderr",
     "output_type": "stream",
     "text": [
      "Asking to truncate to max_length but no maximum length is provided and the model has no predefined maximum length. Default to no truncation.\n"
     ]
    },
    {
     "name": "stdout",
     "output_type": "stream",
     "text": [
      "Processing batch 1183 of 1183..."
     ]
    }
   ],
   "source": [
    "# Calculate perplexity\n",
    "perplexityLlama = calculate_perplexity(llama_model, llama_tokenizer, llama_data_loader)"
   ],
   "metadata": {
    "collapsed": false,
    "ExecuteTime": {
     "end_time": "2023-10-22T15:34:16.357476940Z",
     "start_time": "2023-10-22T15:33:30.360184184Z"
    }
   }
  },
  {
   "cell_type": "code",
   "execution_count": 257,
   "outputs": [
    {
     "data": {
      "text/plain": "                    Model  Average BLEU Score  \\\n0              Base Model            0.046750   \n0  GPT2 Medium Fine-tuned            0.072289   \n0   GPT2 Large Fine-tuned            0.082236   \n0       Llama2 Fine-tuned            0.191341   \n\n                               Average ROUGE-L Score Perplexity  \n0  {'f': 0.036292571891137146, 'p': 0.05014296838...   42601.11  \n0  {'f': 0.061707325373386204, 'p': 0.07584090634...  1799.7573  \n0  {'f': 0.053473654582076605, 'p': 0.04515191348...  2756.5017  \n0  {'f': 0.1329074401030991, 'p': 0.1309385815276...  439.36835  ",
      "text/html": "<div>\n<style scoped>\n    .dataframe tbody tr th:only-of-type {\n        vertical-align: middle;\n    }\n\n    .dataframe tbody tr th {\n        vertical-align: top;\n    }\n\n    .dataframe thead th {\n        text-align: right;\n    }\n</style>\n<table border=\"1\" class=\"dataframe\">\n  <thead>\n    <tr style=\"text-align: right;\">\n      <th></th>\n      <th>Model</th>\n      <th>Average BLEU Score</th>\n      <th>Average ROUGE-L Score</th>\n      <th>Perplexity</th>\n    </tr>\n  </thead>\n  <tbody>\n    <tr>\n      <th>0</th>\n      <td>Base Model</td>\n      <td>0.046750</td>\n      <td>{'f': 0.036292571891137146, 'p': 0.05014296838...</td>\n      <td>42601.11</td>\n    </tr>\n    <tr>\n      <th>0</th>\n      <td>GPT2 Medium Fine-tuned</td>\n      <td>0.072289</td>\n      <td>{'f': 0.061707325373386204, 'p': 0.07584090634...</td>\n      <td>1799.7573</td>\n    </tr>\n    <tr>\n      <th>0</th>\n      <td>GPT2 Large Fine-tuned</td>\n      <td>0.082236</td>\n      <td>{'f': 0.053473654582076605, 'p': 0.04515191348...</td>\n      <td>2756.5017</td>\n    </tr>\n    <tr>\n      <th>0</th>\n      <td>Llama2 Fine-tuned</td>\n      <td>0.191341</td>\n      <td>{'f': 0.1329074401030991, 'p': 0.1309385815276...</td>\n      <td>439.36835</td>\n    </tr>\n  </tbody>\n</table>\n</div>"
     },
     "execution_count": 257,
     "metadata": {},
     "output_type": "execute_result"
    }
   ],
   "source": [
    "# add llama2 model results to results_df\n",
    "results_df = pd.concat([results_df, pd.DataFrame({'Model': ['Llama2 Fine-tuned'], \n",
    "                                                  'Average BLEU Score': [llama_average_bleu], \n",
    "                                                  'Average ROUGE-L Score': [llama_average_rouge['rouge-l']], \n",
    "                                                  'Perplexity': [perplexityLlama.to('cpu').numpy()]})])\n",
    "results_df"
   ],
   "metadata": {
    "collapsed": false,
    "ExecuteTime": {
     "end_time": "2023-10-22T16:37:18.919009440Z",
     "start_time": "2023-10-22T16:37:18.850058437Z"
    }
   }
  },
  {
   "cell_type": "code",
   "execution_count": 285,
   "outputs": [],
   "source": [
    "# Evaluate GPT3 with subset of gpt2 test data, due to api call cost; choose 100 samples that end with a user turn\n",
    "gpt3_prompts = []\n",
    "gpt3_ground_truths = []\n",
    "\n",
    "for i in range(len(gpt2_prompts)):\n",
    "    chat = {'messages': []}\n",
    "    full_chat = gpt2_prompts[i]\n",
    "    split_chat = full_chat.split('<|endoftext|>')\n",
    "    # remove special characters of '__eot__' and '__eou__'\n",
    "    split_chat = [s.replace('__eot__', '').replace('__eou__', '') for s in split_chat]\n",
    "    # remove white spaces\n",
    "    split_chat = [s.strip() for s in split_chat]\n",
    "    # add turns from each conversation, ending with last 'user' turn\n",
    "    chat['messages'].append({'role': 'system',\n",
    "                                 'content': 'You are a factual chatbot that is helpful and an expert in the Ubuntu Operating system.'\n",
    "                                 })\n",
    "    for j, message in enumerate(split_chat):\n",
    "        if message == '':\n",
    "            continue\n",
    "        if j % 2 == 0:\n",
    "            chat['messages'].append({'role': 'user', 'content': message})\n",
    "        else:\n",
    "            chat['messages'].append({'role': 'assistant', 'content': message})\n",
    "    # add the chat to the list of chats if it ends with a user turn\n",
    "    if chat['messages'][-1]['role'] == 'user':\n",
    "        gpt3_prompts.append(chat)\n",
    "        gpt3_ground_truths.append(gpt2_ground_truths[i])\n",
    "\n",
    "    if len(gpt3_prompts) == 100:\n",
    "        break"
   ],
   "metadata": {
    "collapsed": false,
    "ExecuteTime": {
     "end_time": "2023-10-22T17:03:29.425158677Z",
     "start_time": "2023-10-22T17:03:29.340764113Z"
    }
   }
  },
  {
   "cell_type": "code",
   "execution_count": 287,
   "outputs": [
    {
     "name": "stdout",
     "output_type": "stream",
     "text": [
      "100\n"
     ]
    }
   ],
   "source": [
    "# count how many times the conversation ends with an assistant turn\n",
    "turn_counts = 0\n",
    "for prompt in gpt3_prompts:\n",
    "    if prompt['messages'][-1]['role'] == 'user':\n",
    "        turn_counts += 1\n",
    "print(turn_counts)"
   ],
   "metadata": {
    "collapsed": false,
    "ExecuteTime": {
     "end_time": "2023-10-22T17:03:37.314429043Z",
     "start_time": "2023-10-22T17:03:37.277957737Z"
    }
   }
  },
  {
   "cell_type": "code",
   "execution_count": 288,
   "outputs": [
    {
     "data": {
      "text/plain": "{'messages': [{'role': 'system',\n   'content': 'You are a factual chatbot that is helpful and an expert in the Ubuntu Operating system.'},\n  {'role': 'user',\n   'content': \"In gnome3 and gnome classic under ubuntu 12.04, I'm having lock/blanking problems with the lock screen after a resume and/or monitor shuttoff.  It happens on both of my computers.  Does anyone know anything?\"},\n  {'role': 'assistant',\n   'content': 'can have different reasons, first enough swap allocated? then syslog/dmesg checked?  for succesful hibernating there is the thumb rule swap = double of installed ram, as ram dumps there while on hibernate'},\n  {'role': 'user',\n   'content': \"Dasda, I'm not hibernating at all.  It appears to happen on any screen lock, even if it's just a 10-minute later monitor blank  thanks, looking now\"}]}"
     },
     "execution_count": 288,
     "metadata": {},
     "output_type": "execute_result"
    }
   ],
   "source": [
    "gpt3_prompts[40]"
   ],
   "metadata": {
    "collapsed": false,
    "ExecuteTime": {
     "end_time": "2023-10-22T17:03:45.248035287Z",
     "start_time": "2023-10-22T17:03:45.210730653Z"
    }
   }
  },
  {
   "cell_type": "code",
   "execution_count": 289,
   "outputs": [
    {
     "data": {
      "text/plain": "'ok, and also check dmesg | tail and syslog after that appears, next youu can lock the screen from cmd-line to see possible information  '"
     },
     "execution_count": 289,
     "metadata": {},
     "output_type": "execute_result"
    }
   ],
   "source": [
    "gpt3_ground_truths[40]"
   ],
   "metadata": {
    "collapsed": false,
    "ExecuteTime": {
     "end_time": "2023-10-22T17:03:55.595388122Z",
     "start_time": "2023-10-22T17:03:55.527402307Z"
    }
   }
  },
  {
   "cell_type": "code",
   "execution_count": 291,
   "outputs": [],
   "source": [
    "os.environ['OPENAI_API_KEY'] = ''"
   ],
   "metadata": {
    "collapsed": false,
    "ExecuteTime": {
     "end_time": "2023-10-22T17:10:38.721822030Z",
     "start_time": "2023-10-22T17:10:38.662194097Z"
    }
   }
  },
  {
   "cell_type": "code",
   "execution_count": 294,
   "outputs": [],
   "source": [
    "openai.api_key = os.getenv('OPENAI_API_KEY')"
   ],
   "metadata": {
    "collapsed": false,
    "ExecuteTime": {
     "end_time": "2023-10-22T17:10:56.663342244Z",
     "start_time": "2023-10-22T17:10:56.638043956Z"
    }
   }
  },
  {
   "cell_type": "code",
   "execution_count": 297,
   "outputs": [
    {
     "name": "stdout",
     "output_type": "stream",
     "text": [
      "well, you could put them in ~/.xsession\n"
     ]
    }
   ],
   "source": [
    "generated_response = openai.ChatCompletion.create(\n",
    "    model=\"ft:gpt-3.5-turbo-0613:mentors-more::8AMjJzqE\",\n",
    "    messages=gpt3_prompts[0]['messages'],\n",
    "    temperature=0.5,\n",
    "    max_tokens=256,\n",
    "    top_p=1,\n",
    "    frequency_penalty=1.05,\n",
    "    presence_penalty=0.5,\n",
    "    stop=[\"<|endoftext|>\", \"User:\"]\n",
    ")\n",
    "print(generated_response['choices'][0]['message']['content'])"
   ],
   "metadata": {
    "collapsed": false,
    "ExecuteTime": {
     "end_time": "2023-10-22T17:13:30.471583793Z",
     "start_time": "2023-10-22T17:13:30.192729554Z"
    }
   }
  },
  {
   "cell_type": "code",
   "execution_count": 299,
   "outputs": [
    {
     "name": "stderr",
     "output_type": "stream",
     "text": [
      "100%|██████████| 100/100 [00:30<00:00,  3.32it/s]\n"
     ]
    }
   ],
   "source": [
    "gpt3_generated_responses = []\n",
    "\n",
    "for prompt in tqdm(gpt3_prompts):\n",
    "    # Generate response using the GPT3 model\n",
    "    generated_response = openai.ChatCompletion.create(\n",
    "        model=\"ft:gpt-3.5-turbo-0613:mentors-more::8AMjJzqE\",\n",
    "        messages=prompt['messages'],\n",
    "        temperature=0.5,\n",
    "        max_tokens=256,\n",
    "        top_p=1,\n",
    "        frequency_penalty=1.05,\n",
    "        presence_penalty=0.5,\n",
    "        stop=[\"<|endoftext|>\", \"User:\"]\n",
    "    )\n",
    "    gpt3_generated_responses.append(generated_response['choices'][0]['message']['content'])"
   ],
   "metadata": {
    "collapsed": false,
    "ExecuteTime": {
     "end_time": "2023-10-22T17:14:40.137804060Z",
     "start_time": "2023-10-22T17:14:09.968424342Z"
    }
   }
  },
  {
   "cell_type": "code",
   "execution_count": 300,
   "outputs": [
    {
     "name": "stdout",
     "output_type": "stream",
     "text": [
      "Average BLEU Score: 0.10590334017142361\n",
      "Average ROUGE Scores: {'rouge-1': {'f': 0.10701319630296614, 'p': 0.14592610732546787, 'r': 0.10700722806705172}, 'rouge-2': {'f': 0.012377095754321403, 'p': 0.01990245440833676, 'r': 0.011644587030616443}, 'rouge-l': {'f': 0.096571073575617, 'p': 0.1329445596460941, 'r': 0.09742186448393944}}\n"
     ]
    }
   ],
   "source": [
    "# Calculate BLEU and ROUGE scores\n",
    "gpt3_average_bleu, gpt3_average_rouge = get_average_evaluation_scores(gpt3_ground_truths, gpt3_generated_responses)"
   ],
   "metadata": {
    "collapsed": false,
    "ExecuteTime": {
     "end_time": "2023-10-22T17:14:58.810007098Z",
     "start_time": "2023-10-22T17:14:58.690131974Z"
    }
   }
  },
  {
   "cell_type": "code",
   "execution_count": 301,
   "outputs": [],
   "source": [
    "# add gpt3 model results to results_df\n",
    "results_df = pd.concat([results_df, pd.DataFrame({'Model': ['GPT3 Fine-tuned'], \n",
    "                                                  'Average BLEU Score': [gpt3_average_bleu], \n",
    "                                                  'Average ROUGE-L Score': [gpt3_average_rouge['rouge-l']], \n",
    "                                                  'Perplexity': [0]})])"
   ],
   "metadata": {
    "collapsed": false,
    "ExecuteTime": {
     "end_time": "2023-10-22T17:15:30.355981173Z",
     "start_time": "2023-10-22T17:15:30.208915942Z"
    }
   }
  },
  {
   "cell_type": "code",
   "execution_count": 302,
   "outputs": [
    {
     "data": {
      "text/plain": "                    Model  Average BLEU Score  \\\n0              Base Model            0.046750   \n0  GPT2 Medium Fine-tuned            0.072289   \n0   GPT2 Large Fine-tuned            0.082236   \n0       Llama2 Fine-tuned            0.191341   \n0         GPT3 Fine-tuned            0.105903   \n\n                               Average ROUGE-L Score Perplexity  \n0  {'f': 0.036292571891137146, 'p': 0.05014296838...   42601.11  \n0  {'f': 0.061707325373386204, 'p': 0.07584090634...  1799.7573  \n0  {'f': 0.053473654582076605, 'p': 0.04515191348...  2756.5017  \n0  {'f': 0.1329074401030991, 'p': 0.1309385815276...  439.36835  \n0  {'f': 0.096571073575617, 'p': 0.13294455964609...          0  ",
      "text/html": "<div>\n<style scoped>\n    .dataframe tbody tr th:only-of-type {\n        vertical-align: middle;\n    }\n\n    .dataframe tbody tr th {\n        vertical-align: top;\n    }\n\n    .dataframe thead th {\n        text-align: right;\n    }\n</style>\n<table border=\"1\" class=\"dataframe\">\n  <thead>\n    <tr style=\"text-align: right;\">\n      <th></th>\n      <th>Model</th>\n      <th>Average BLEU Score</th>\n      <th>Average ROUGE-L Score</th>\n      <th>Perplexity</th>\n    </tr>\n  </thead>\n  <tbody>\n    <tr>\n      <th>0</th>\n      <td>Base Model</td>\n      <td>0.046750</td>\n      <td>{'f': 0.036292571891137146, 'p': 0.05014296838...</td>\n      <td>42601.11</td>\n    </tr>\n    <tr>\n      <th>0</th>\n      <td>GPT2 Medium Fine-tuned</td>\n      <td>0.072289</td>\n      <td>{'f': 0.061707325373386204, 'p': 0.07584090634...</td>\n      <td>1799.7573</td>\n    </tr>\n    <tr>\n      <th>0</th>\n      <td>GPT2 Large Fine-tuned</td>\n      <td>0.082236</td>\n      <td>{'f': 0.053473654582076605, 'p': 0.04515191348...</td>\n      <td>2756.5017</td>\n    </tr>\n    <tr>\n      <th>0</th>\n      <td>Llama2 Fine-tuned</td>\n      <td>0.191341</td>\n      <td>{'f': 0.1329074401030991, 'p': 0.1309385815276...</td>\n      <td>439.36835</td>\n    </tr>\n    <tr>\n      <th>0</th>\n      <td>GPT3 Fine-tuned</td>\n      <td>0.105903</td>\n      <td>{'f': 0.096571073575617, 'p': 0.13294455964609...</td>\n      <td>0</td>\n    </tr>\n  </tbody>\n</table>\n</div>"
     },
     "execution_count": 302,
     "metadata": {},
     "output_type": "execute_result"
    }
   ],
   "source": [
    "results_df"
   ],
   "metadata": {
    "collapsed": false,
    "ExecuteTime": {
     "end_time": "2023-10-22T17:15:35.500996468Z",
     "start_time": "2023-10-22T17:15:35.416057484Z"
    }
   }
  },
  {
   "cell_type": "code",
   "execution_count": 303,
   "outputs": [],
   "source": [
    "# Save results_df\n",
    "results_df.to_csv(data_folder + 'results_df.csv', index=False)"
   ],
   "metadata": {
    "collapsed": false,
    "ExecuteTime": {
     "end_time": "2023-10-22T17:15:55.842647199Z",
     "start_time": "2023-10-22T17:15:55.695439703Z"
    }
   }
  },
  {
   "cell_type": "code",
   "execution_count": 304,
   "outputs": [
    {
     "data": {
      "text/plain": "<Figure size 1000x600 with 1 Axes>",
      "image/png": "[encoded data removed]"
     },
     "metadata": {},
     "output_type": "display_data"
    }
   ],
   "source": [
    "# Plot results\n",
    "fig, ax = plt.subplots(figsize=(10, 6))\n",
    "ax = sns.barplot(x='Model', y='Average BLEU Score', data=results_df)\n",
    "ax.set_xticklabels(ax.get_xticklabels(), rotation=45, horizontalalignment='right')\n",
    "ax.set_title('Average BLEU Score by Model')\n",
    "plt.show()"
   ],
   "metadata": {
    "collapsed": false,
    "ExecuteTime": {
     "end_time": "2023-10-22T17:16:14.429412735Z",
     "start_time": "2023-10-22T17:16:14.231842935Z"
    }
   }
  },
  {
   "cell_type": "code",
   "execution_count": 307,
   "outputs": [],
   "source": [
    "results_df['Average ROUGE-L Score F1'] = results_df['Average ROUGE-L Score'].apply(lambda x: x['f'])"
   ],
   "metadata": {
    "collapsed": false,
    "ExecuteTime": {
     "end_time": "2023-10-22T17:17:55.996961229Z",
     "start_time": "2023-10-22T17:17:55.912147826Z"
    }
   }
  },
  {
   "cell_type": "code",
   "execution_count": 309,
   "outputs": [
    {
     "data": {
      "text/plain": "<Figure size 1000x600 with 1 Axes>",
      "image/png": "[encoded data removed]"
     },
     "metadata": {},
     "output_type": "display_data"
    }
   ],
   "source": [
    "fig, ax = plt.subplots(figsize=(10, 6))\n",
    "ax = sns.barplot(x='Model', y='Average ROUGE-L Score F1', data=results_df)\n",
    "ax.set_xticklabels(ax.get_xticklabels(), rotation=45, horizontalalignment='right')\n",
    "ax.set_title('Average ROUGE-L Score by Model')\n",
    "plt.show()"
   ],
   "metadata": {
    "collapsed": false,
    "ExecuteTime": {
     "end_time": "2023-10-22T17:18:19.615132299Z",
     "start_time": "2023-10-22T17:18:19.501845982Z"
    }
   }
  },
  {
   "cell_type": "code",
   "execution_count": 313,
   "outputs": [],
   "source": [
    "# Convert perplexity to scalar\n",
    "results_df['Perplexity'] = results_df['Perplexity'].apply(lambda x: float(x))"
   ],
   "metadata": {
    "collapsed": false,
    "ExecuteTime": {
     "end_time": "2023-10-22T17:20:16.005169264Z",
     "start_time": "2023-10-22T17:20:15.964342129Z"
    }
   }
  },
  {
   "cell_type": "code",
   "execution_count": 315,
   "outputs": [
    {
     "data": {
      "text/plain": "<Figure size 1000x600 with 1 Axes>",
      "image/png": "[encoded data removed]"
     },
     "metadata": {},
     "output_type": "display_data"
    }
   ],
   "source": [
    "# Plot perplexity on log scale\n",
    "fig, ax = plt.subplots(figsize=(10, 6))\n",
    "ax = sns.barplot(x='Model', y='Perplexity', data=results_df)\n",
    "ax.set_xticklabels(ax.get_xticklabels(), rotation=45, horizontalalignment='right')\n",
    "ax.set_title('Perplexity by Model')\n",
    "ax.set_yscale('log')\n",
    "plt.show()"
   ],
   "metadata": {
    "collapsed": false,
    "ExecuteTime": {
     "end_time": "2023-10-22T17:20:49.027210187Z",
     "start_time": "2023-10-22T17:20:48.775034704Z"
    }
   }
  },
  {
   "cell_type": "code",
   "execution_count": null,
   "outputs": [],
   "source": [],
   "metadata": {
    "collapsed": false
   }
  }
 ]
}
